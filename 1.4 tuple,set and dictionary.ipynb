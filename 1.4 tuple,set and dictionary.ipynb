{
 "cells": [
  {
   "cell_type": "markdown",
   "id": "19d1515f",
   "metadata": {},
   "source": [
    "## Tuple"
   ]
  },
  {
   "cell_type": "markdown",
   "id": "1175889d",
   "metadata": {},
   "source": [
    "- Tuples are used to store multiple items in a single variable.\n",
    "\n",
    "- Tuple is one of 4 built-in data types in Python used to store collections of data, the other 3 are List, Set, and Dictionary, all with different qualities and usage.\n",
    "\n",
    "- A tuple is a collection which is ordered and unchangeable.\n",
    "\n",
    "- Tuples are written with round brackets or paranthesis."
   ]
  },
  {
   "cell_type": "code",
   "execution_count": 1,
   "id": "211de503",
   "metadata": {},
   "outputs": [],
   "source": [
    "t=(1,2,3,4,5)"
   ]
  },
  {
   "cell_type": "code",
   "execution_count": 2,
   "id": "a3fa6ad0",
   "metadata": {},
   "outputs": [
    {
     "data": {
      "text/plain": [
       "tuple"
      ]
     },
     "execution_count": 2,
     "metadata": {},
     "output_type": "execute_result"
    }
   ],
   "source": [
    "type(t)"
   ]
  },
  {
   "cell_type": "code",
   "execution_count": 3,
   "id": "b964d8dd",
   "metadata": {},
   "outputs": [],
   "source": [
    "t=(\"ravi\",264,16.29,5+6j,True,[1,2,3,4])"
   ]
  },
  {
   "cell_type": "code",
   "execution_count": 4,
   "id": "b4fc028b",
   "metadata": {},
   "outputs": [
    {
     "data": {
      "text/plain": [
       "tuple"
      ]
     },
     "execution_count": 4,
     "metadata": {},
     "output_type": "execute_result"
    }
   ],
   "source": [
    "type(t)"
   ]
  },
  {
   "cell_type": "code",
   "execution_count": 5,
   "id": "48a8287e",
   "metadata": {},
   "outputs": [],
   "source": [
    "l=[\"ravi\",264,16.29,5+6j,True,[1,2,3,4]]"
   ]
  },
  {
   "cell_type": "code",
   "execution_count": 6,
   "id": "5c8f0283",
   "metadata": {},
   "outputs": [
    {
     "data": {
      "text/plain": [
       "list"
      ]
     },
     "execution_count": 6,
     "metadata": {},
     "output_type": "execute_result"
    }
   ],
   "source": [
    "type(l)"
   ]
  },
  {
   "cell_type": "code",
   "execution_count": 7,
   "id": "55602004",
   "metadata": {},
   "outputs": [],
   "source": [
    "t2=()"
   ]
  },
  {
   "cell_type": "code",
   "execution_count": 8,
   "id": "ef7de36a",
   "metadata": {},
   "outputs": [
    {
     "data": {
      "text/plain": [
       "tuple"
      ]
     },
     "execution_count": 8,
     "metadata": {},
     "output_type": "execute_result"
    }
   ],
   "source": [
    "type(t2)"
   ]
  },
  {
   "cell_type": "code",
   "execution_count": 11,
   "id": "1cff0e3f",
   "metadata": {},
   "outputs": [],
   "source": [
    "t2=tuple()"
   ]
  },
  {
   "cell_type": "code",
   "execution_count": 12,
   "id": "b3bdd028",
   "metadata": {},
   "outputs": [
    {
     "data": {
      "text/plain": [
       "tuple"
      ]
     },
     "execution_count": 12,
     "metadata": {},
     "output_type": "execute_result"
    }
   ],
   "source": [
    "type(t2)"
   ]
  },
  {
   "cell_type": "code",
   "execution_count": 13,
   "id": "3e2afeb1",
   "metadata": {},
   "outputs": [
    {
     "data": {
      "text/plain": [
       "['ravi', 264, 16.29, (5+6j), True, [1, 2, 3, 4]]"
      ]
     },
     "execution_count": 13,
     "metadata": {},
     "output_type": "execute_result"
    }
   ],
   "source": [
    "l"
   ]
  },
  {
   "cell_type": "code",
   "execution_count": 14,
   "id": "dc2149f4",
   "metadata": {},
   "outputs": [
    {
     "data": {
      "text/plain": [
       "['ravi', 264]"
      ]
     },
     "execution_count": 14,
     "metadata": {},
     "output_type": "execute_result"
    }
   ],
   "source": [
    "l[0:2]"
   ]
  },
  {
   "cell_type": "code",
   "execution_count": 15,
   "id": "4fe1defb",
   "metadata": {},
   "outputs": [
    {
     "data": {
      "text/plain": [
       "('ravi', 264, 16.29, (5+6j), True, [1, 2, 3, 4])"
      ]
     },
     "execution_count": 15,
     "metadata": {},
     "output_type": "execute_result"
    }
   ],
   "source": [
    "t"
   ]
  },
  {
   "cell_type": "code",
   "execution_count": 16,
   "id": "3974ab1f",
   "metadata": {},
   "outputs": [
    {
     "data": {
      "text/plain": [
       "('ravi', 264, 16.29)"
      ]
     },
     "execution_count": 16,
     "metadata": {},
     "output_type": "execute_result"
    }
   ],
   "source": [
    "t[0:3]"
   ]
  },
  {
   "cell_type": "markdown",
   "id": "13ed98a9",
   "metadata": {},
   "source": [
    "- Accessing data using slicing is same as list slicing"
   ]
  },
  {
   "cell_type": "code",
   "execution_count": 17,
   "id": "92e64a0a",
   "metadata": {},
   "outputs": [
    {
     "data": {
      "text/plain": [
       "([1, 2, 3, 4], True, (5+6j), 16.29, 264, 'ravi')"
      ]
     },
     "execution_count": 17,
     "metadata": {},
     "output_type": "execute_result"
    }
   ],
   "source": [
    "t[::-1]"
   ]
  },
  {
   "cell_type": "code",
   "execution_count": 20,
   "id": "1e81eeb3",
   "metadata": {},
   "outputs": [
    {
     "data": {
      "text/plain": [
       "([1, 2, 3, 4], True, (5+6j))"
      ]
     },
     "execution_count": 20,
     "metadata": {},
     "output_type": "execute_result"
    }
   ],
   "source": [
    "t[-1:-4:-1]"
   ]
  },
  {
   "cell_type": "code",
   "execution_count": 21,
   "id": "c85bf32c",
   "metadata": {},
   "outputs": [
    {
     "data": {
      "text/plain": [
       "('ravi', 16.29, True)"
      ]
     },
     "execution_count": 21,
     "metadata": {},
     "output_type": "execute_result"
    }
   ],
   "source": [
    "t[::2]"
   ]
  },
  {
   "cell_type": "code",
   "execution_count": 22,
   "id": "81ccd945",
   "metadata": {},
   "outputs": [
    {
     "data": {
      "text/plain": [
       "['ravi', 264, 16.29, (5+6j), True, [1, 2, 3, 4]]"
      ]
     },
     "execution_count": 22,
     "metadata": {},
     "output_type": "execute_result"
    }
   ],
   "source": [
    "l"
   ]
  },
  {
   "cell_type": "code",
   "execution_count": 23,
   "id": "d30c8bab",
   "metadata": {},
   "outputs": [],
   "source": [
    "l[0]='trepy'"
   ]
  },
  {
   "cell_type": "code",
   "execution_count": 24,
   "id": "e92e4eba",
   "metadata": {},
   "outputs": [
    {
     "data": {
      "text/plain": [
       "['trepy', 264, 16.29, (5+6j), True, [1, 2, 3, 4]]"
      ]
     },
     "execution_count": 24,
     "metadata": {},
     "output_type": "execute_result"
    }
   ],
   "source": [
    "l"
   ]
  },
  {
   "cell_type": "code",
   "execution_count": 25,
   "id": "60c5c3fe",
   "metadata": {},
   "outputs": [
    {
     "data": {
      "text/plain": [
       "('ravi', 264, 16.29, (5+6j), True, [1, 2, 3, 4])"
      ]
     },
     "execution_count": 25,
     "metadata": {},
     "output_type": "execute_result"
    }
   ],
   "source": [
    "t"
   ]
  },
  {
   "cell_type": "code",
   "execution_count": 27,
   "id": "16957b3e",
   "metadata": {},
   "outputs": [
    {
     "ename": "TypeError",
     "evalue": "'tuple' object does not support item assignment",
     "output_type": "error",
     "traceback": [
      "\u001b[1;31m---------------------------------------------------------------------------\u001b[0m",
      "\u001b[1;31mTypeError\u001b[0m                                 Traceback (most recent call last)",
      "Input \u001b[1;32mIn [27]\u001b[0m, in \u001b[0;36m<cell line: 1>\u001b[1;34m()\u001b[0m\n\u001b[1;32m----> 1\u001b[0m t[\u001b[38;5;241m0\u001b[39m]\u001b[38;5;241m=\u001b[39m\u001b[38;5;124m'\u001b[39m\u001b[38;5;124mtrepy\u001b[39m\u001b[38;5;124m'\u001b[39m\n",
      "\u001b[1;31mTypeError\u001b[0m: 'tuple' object does not support item assignment"
     ]
    }
   ],
   "source": [
    "t[0]='trepy'"
   ]
  },
  {
   "cell_type": "markdown",
   "id": "862cc110",
   "metadata": {},
   "source": [
    "- tuple is unchangeable or immutable  like string\n",
    "- Tuples are unchangeable, meaning that we cannot change, add or remove items after the tuple has been created."
   ]
  },
  {
   "cell_type": "code",
   "execution_count": 28,
   "id": "f02b6e34",
   "metadata": {},
   "outputs": [],
   "source": [
    "s=\"ravi\""
   ]
  },
  {
   "cell_type": "code",
   "execution_count": 29,
   "id": "b2034836",
   "metadata": {},
   "outputs": [
    {
     "ename": "TypeError",
     "evalue": "'str' object does not support item assignment",
     "output_type": "error",
     "traceback": [
      "\u001b[1;31m---------------------------------------------------------------------------\u001b[0m",
      "\u001b[1;31mTypeError\u001b[0m                                 Traceback (most recent call last)",
      "Input \u001b[1;32mIn [29]\u001b[0m, in \u001b[0;36m<cell line: 1>\u001b[1;34m()\u001b[0m\n\u001b[1;32m----> 1\u001b[0m s[\u001b[38;5;241m0\u001b[39m]\u001b[38;5;241m=\u001b[39m\u001b[38;5;124m'\u001b[39m\u001b[38;5;124mma\u001b[39m\u001b[38;5;124m'\u001b[39m\n",
      "\u001b[1;31mTypeError\u001b[0m: 'str' object does not support item assignment"
     ]
    }
   ],
   "source": [
    "s[0]='ma'"
   ]
  },
  {
   "cell_type": "code",
   "execution_count": 30,
   "id": "34335c5d",
   "metadata": {},
   "outputs": [],
   "source": [
    "t1=(\"madhu\",29,1.8,20.21,True)"
   ]
  },
  {
   "cell_type": "code",
   "execution_count": 31,
   "id": "dfe3fa95",
   "metadata": {},
   "outputs": [
    {
     "data": {
      "text/plain": [
       "('ravi', 264, 16.29, (5+6j), True, [1, 2, 3, 4], 'madhu', 29, 1.8, 20.21, True)"
      ]
     },
     "execution_count": 31,
     "metadata": {},
     "output_type": "execute_result"
    }
   ],
   "source": [
    "t+t1"
   ]
  },
  {
   "cell_type": "code",
   "execution_count": 32,
   "id": "3cd2768a",
   "metadata": {},
   "outputs": [
    {
     "data": {
      "text/plain": [
       "('madhu', 29, 1.8, 20.21, True, 'madhu', 29, 1.8, 20.21, True)"
      ]
     },
     "execution_count": 32,
     "metadata": {},
     "output_type": "execute_result"
    }
   ],
   "source": [
    "t1*2"
   ]
  },
  {
   "cell_type": "code",
   "execution_count": 33,
   "id": "d907586c",
   "metadata": {},
   "outputs": [
    {
     "ename": "TypeError",
     "evalue": "can't multiply sequence by non-int of type 'tuple'",
     "output_type": "error",
     "traceback": [
      "\u001b[1;31m---------------------------------------------------------------------------\u001b[0m",
      "\u001b[1;31mTypeError\u001b[0m                                 Traceback (most recent call last)",
      "Input \u001b[1;32mIn [33]\u001b[0m, in \u001b[0;36m<cell line: 1>\u001b[1;34m()\u001b[0m\n\u001b[1;32m----> 1\u001b[0m \u001b[43mt\u001b[49m\u001b[38;5;241;43m*\u001b[39;49m\u001b[43mt1\u001b[49m\n",
      "\u001b[1;31mTypeError\u001b[0m: can't multiply sequence by non-int of type 'tuple'"
     ]
    }
   ],
   "source": [
    "t*t1"
   ]
  },
  {
   "cell_type": "markdown",
   "id": "4bb531f3",
   "metadata": {},
   "source": [
    "### Allow Duplicates\n",
    "- Since tuples are indexed, they can have items with the same value"
   ]
  },
  {
   "cell_type": "code",
   "execution_count": 34,
   "id": "74a0221c",
   "metadata": {},
   "outputs": [],
   "source": [
    "t3=(\"madhu\",\"ravi\",30,32)"
   ]
  },
  {
   "cell_type": "code",
   "execution_count": 35,
   "id": "4a95f356",
   "metadata": {},
   "outputs": [],
   "source": [
    "t4=t+t3"
   ]
  },
  {
   "cell_type": "code",
   "execution_count": 36,
   "id": "580e4202",
   "metadata": {},
   "outputs": [
    {
     "data": {
      "text/plain": [
       "('ravi', 264, 16.29, (5+6j), True, [1, 2, 3, 4], 'madhu', 'ravi', 30, 32)"
      ]
     },
     "execution_count": 36,
     "metadata": {},
     "output_type": "execute_result"
    }
   ],
   "source": [
    "t4"
   ]
  },
  {
   "cell_type": "markdown",
   "id": "9a3cb84e",
   "metadata": {},
   "source": [
    "### Tuple methods"
   ]
  },
  {
   "cell_type": "markdown",
   "id": "090a99af",
   "metadata": {},
   "source": [
    "- index()\n",
    "- Searches the tuple for a specified value and returns the position of first accurence."
   ]
  },
  {
   "cell_type": "code",
   "execution_count": 37,
   "id": "fed24271",
   "metadata": {},
   "outputs": [
    {
     "data": {
      "text/plain": [
       "0"
      ]
     },
     "execution_count": 37,
     "metadata": {},
     "output_type": "execute_result"
    }
   ],
   "source": [
    "t4.index(\"ravi\")"
   ]
  },
  {
   "cell_type": "code",
   "execution_count": 38,
   "id": "4ecfb098",
   "metadata": {},
   "outputs": [
    {
     "ename": "ValueError",
     "evalue": "tuple.index(x): x not in tuple",
     "output_type": "error",
     "traceback": [
      "\u001b[1;31m---------------------------------------------------------------------------\u001b[0m",
      "\u001b[1;31mValueError\u001b[0m                                Traceback (most recent call last)",
      "Input \u001b[1;32mIn [38]\u001b[0m, in \u001b[0;36m<cell line: 1>\u001b[1;34m()\u001b[0m\n\u001b[1;32m----> 1\u001b[0m \u001b[43mt4\u001b[49m\u001b[38;5;241;43m.\u001b[39;49m\u001b[43mindex\u001b[49m\u001b[43m(\u001b[49m\u001b[38;5;124;43m\"\u001b[39;49m\u001b[38;5;124;43mr\u001b[39;49m\u001b[38;5;124;43m\"\u001b[39;49m\u001b[43m)\u001b[49m\n",
      "\u001b[1;31mValueError\u001b[0m: tuple.index(x): x not in tuple"
     ]
    }
   ],
   "source": [
    "t4.index(\"r\")"
   ]
  },
  {
   "cell_type": "code",
   "execution_count": 39,
   "id": "7f379caf",
   "metadata": {},
   "outputs": [
    {
     "data": {
      "text/plain": [
       "7"
      ]
     },
     "execution_count": 39,
     "metadata": {},
     "output_type": "execute_result"
    }
   ],
   "source": [
    "t4.index('ravi',1,9)"
   ]
  },
  {
   "cell_type": "markdown",
   "id": "60969fa5",
   "metadata": {},
   "source": [
    "### count() method \n",
    "- returns the number of times a specified value appears in the tuple."
   ]
  },
  {
   "cell_type": "code",
   "execution_count": 40,
   "id": "083655aa",
   "metadata": {},
   "outputs": [
    {
     "data": {
      "text/plain": [
       "2"
      ]
     },
     "execution_count": 40,
     "metadata": {},
     "output_type": "execute_result"
    }
   ],
   "source": [
    "t4.count(\"ravi\")"
   ]
  },
  {
   "cell_type": "code",
   "execution_count": 43,
   "id": "4eb4c00f",
   "metadata": {},
   "outputs": [],
   "source": [
    "t=(12,25,54,(4,5,6),(4+5j,True),[1,2,3,5,8])"
   ]
  },
  {
   "cell_type": "code",
   "execution_count": 44,
   "id": "96074adb",
   "metadata": {},
   "outputs": [
    {
     "data": {
      "text/plain": [
       "(12, 25, 54, (4, 5, 6), ((4+5j), True), [1, 2, 3, 5, 8])"
      ]
     },
     "execution_count": 44,
     "metadata": {},
     "output_type": "execute_result"
    }
   ],
   "source": [
    "t"
   ]
  },
  {
   "cell_type": "code",
   "execution_count": 45,
   "id": "c3d70a36",
   "metadata": {},
   "outputs": [
    {
     "data": {
      "text/plain": [
       "6"
      ]
     },
     "execution_count": 45,
     "metadata": {},
     "output_type": "execute_result"
    }
   ],
   "source": [
    "len(t)"
   ]
  },
  {
   "cell_type": "code",
   "execution_count": 46,
   "id": "de0f9b4d",
   "metadata": {},
   "outputs": [
    {
     "data": {
      "text/plain": [
       "[1, 2, 3, 5, 8]"
      ]
     },
     "execution_count": 46,
     "metadata": {},
     "output_type": "execute_result"
    }
   ],
   "source": [
    "t[5]"
   ]
  },
  {
   "cell_type": "code",
   "execution_count": 47,
   "id": "36a2b024",
   "metadata": {},
   "outputs": [
    {
     "data": {
      "text/plain": [
       "3"
      ]
     },
     "execution_count": 47,
     "metadata": {},
     "output_type": "execute_result"
    }
   ],
   "source": [
    "t[5][2]"
   ]
  },
  {
   "cell_type": "code",
   "execution_count": 48,
   "id": "7d9a95c9",
   "metadata": {},
   "outputs": [],
   "source": [
    "t[5][2]=64"
   ]
  },
  {
   "cell_type": "code",
   "execution_count": 49,
   "id": "03638686",
   "metadata": {},
   "outputs": [
    {
     "data": {
      "text/plain": [
       "(12, 25, 54, (4, 5, 6), ((4+5j), True), [1, 2, 64, 5, 8])"
      ]
     },
     "execution_count": 49,
     "metadata": {},
     "output_type": "execute_result"
    }
   ],
   "source": [
    "t"
   ]
  },
  {
   "cell_type": "code",
   "execution_count": 50,
   "id": "4d877690",
   "metadata": {},
   "outputs": [
    {
     "ename": "TypeError",
     "evalue": "'tuple' object does not support item assignment",
     "output_type": "error",
     "traceback": [
      "\u001b[1;31m---------------------------------------------------------------------------\u001b[0m",
      "\u001b[1;31mTypeError\u001b[0m                                 Traceback (most recent call last)",
      "Input \u001b[1;32mIn [50]\u001b[0m, in \u001b[0;36m<cell line: 1>\u001b[1;34m()\u001b[0m\n\u001b[1;32m----> 1\u001b[0m t[\u001b[38;5;241m5\u001b[39m]\u001b[38;5;241m=\u001b[39m\u001b[38;5;241m16295\u001b[39m\n",
      "\u001b[1;31mTypeError\u001b[0m: 'tuple' object does not support item assignment"
     ]
    }
   ],
   "source": [
    "t[5]=16295"
   ]
  },
  {
   "cell_type": "code",
   "execution_count": 51,
   "id": "ba50181a",
   "metadata": {},
   "outputs": [
    {
     "data": {
      "text/plain": [
       "(4, 5, 6)"
      ]
     },
     "execution_count": 51,
     "metadata": {},
     "output_type": "execute_result"
    }
   ],
   "source": [
    "t[3]"
   ]
  },
  {
   "cell_type": "code",
   "execution_count": 52,
   "id": "5ecec665",
   "metadata": {},
   "outputs": [
    {
     "data": {
      "text/plain": [
       "6"
      ]
     },
     "execution_count": 52,
     "metadata": {},
     "output_type": "execute_result"
    }
   ],
   "source": [
    "t[3][2]"
   ]
  },
  {
   "cell_type": "code",
   "execution_count": 53,
   "id": "055d2198",
   "metadata": {},
   "outputs": [
    {
     "ename": "TypeError",
     "evalue": "'tuple' object does not support item assignment",
     "output_type": "error",
     "traceback": [
      "\u001b[1;31m---------------------------------------------------------------------------\u001b[0m",
      "\u001b[1;31mTypeError\u001b[0m                                 Traceback (most recent call last)",
      "Input \u001b[1;32mIn [53]\u001b[0m, in \u001b[0;36m<cell line: 1>\u001b[1;34m()\u001b[0m\n\u001b[1;32m----> 1\u001b[0m t[\u001b[38;5;241m3\u001b[39m][\u001b[38;5;241m2\u001b[39m]\u001b[38;5;241m=\u001b[39m\u001b[38;5;241m32\u001b[39m\n",
      "\u001b[1;31mTypeError\u001b[0m: 'tuple' object does not support item assignment"
     ]
    }
   ],
   "source": [
    "t[3][2]=32"
   ]
  },
  {
   "cell_type": "markdown",
   "id": "940d4247",
   "metadata": {},
   "source": [
    "- where ever we don't want to change the data there we use tuples.\n",
    "- data change is possible after converting data into list using typecasting."
   ]
  },
  {
   "cell_type": "code",
   "execution_count": 54,
   "id": "c0d2ae4a",
   "metadata": {},
   "outputs": [
    {
     "data": {
      "text/plain": [
       "(12, 25, 54, (4, 5, 6), ((4+5j), True), [1, 2, 64, 5, 8])"
      ]
     },
     "execution_count": 54,
     "metadata": {},
     "output_type": "execute_result"
    }
   ],
   "source": [
    "t"
   ]
  },
  {
   "cell_type": "code",
   "execution_count": 55,
   "id": "890bd72c",
   "metadata": {},
   "outputs": [],
   "source": [
    "t=list(t)"
   ]
  },
  {
   "cell_type": "code",
   "execution_count": 56,
   "id": "c71b60e4",
   "metadata": {},
   "outputs": [
    {
     "data": {
      "text/plain": [
       "[12, 25, 54, (4, 5, 6), ((4+5j), True), [1, 2, 64, 5, 8]]"
      ]
     },
     "execution_count": 56,
     "metadata": {},
     "output_type": "execute_result"
    }
   ],
   "source": [
    "t"
   ]
  },
  {
   "cell_type": "code",
   "execution_count": 57,
   "id": "cc61cfad",
   "metadata": {},
   "outputs": [],
   "source": [
    "t[0]=16295"
   ]
  },
  {
   "cell_type": "code",
   "execution_count": 58,
   "id": "62d301c4",
   "metadata": {},
   "outputs": [
    {
     "data": {
      "text/plain": [
       "[16295, 25, 54, (4, 5, 6), ((4+5j), True), [1, 2, 64, 5, 8]]"
      ]
     },
     "execution_count": 58,
     "metadata": {},
     "output_type": "execute_result"
    }
   ],
   "source": [
    "t"
   ]
  },
  {
   "cell_type": "code",
   "execution_count": 59,
   "id": "1ff9f17f",
   "metadata": {},
   "outputs": [],
   "source": [
    "t=tuple(t)"
   ]
  },
  {
   "cell_type": "code",
   "execution_count": 60,
   "id": "6027eeba",
   "metadata": {},
   "outputs": [
    {
     "data": {
      "text/plain": [
       "(16295, 25, 54, (4, 5, 6), ((4+5j), True), [1, 2, 64, 5, 8])"
      ]
     },
     "execution_count": 60,
     "metadata": {},
     "output_type": "execute_result"
    }
   ],
   "source": [
    "t"
   ]
  },
  {
   "cell_type": "code",
   "execution_count": 61,
   "id": "ed773bae",
   "metadata": {},
   "outputs": [],
   "source": [
    "# remove all duplicare items from list or tuple\n",
    "t=(1,2,2,3,4,5,5,5,6,7,8,10,14,16,16)\n"
   ]
  },
  {
   "cell_type": "code",
   "execution_count": 62,
   "id": "8c3cec6c",
   "metadata": {},
   "outputs": [],
   "source": [
    "st=set(t)"
   ]
  },
  {
   "cell_type": "code",
   "execution_count": 63,
   "id": "17801c5f",
   "metadata": {},
   "outputs": [
    {
     "data": {
      "text/plain": [
       "{1, 2, 3, 4, 5, 6, 7, 8, 10, 14, 16}"
      ]
     },
     "execution_count": 63,
     "metadata": {},
     "output_type": "execute_result"
    }
   ],
   "source": [
    "st"
   ]
  },
  {
   "cell_type": "code",
   "execution_count": 65,
   "id": "489b2fae",
   "metadata": {},
   "outputs": [],
   "source": [
    "t=tuple(st)"
   ]
  },
  {
   "cell_type": "code",
   "execution_count": 66,
   "id": "d25bb007",
   "metadata": {},
   "outputs": [
    {
     "data": {
      "text/plain": [
       "(1, 2, 3, 4, 5, 6, 7, 8, 10, 14, 16)"
      ]
     },
     "execution_count": 66,
     "metadata": {},
     "output_type": "execute_result"
    }
   ],
   "source": [
    "t"
   ]
  },
  {
   "cell_type": "markdown",
   "id": "5ec11c42",
   "metadata": {},
   "source": [
    "## set\n",
    "- Sets are used to store multiple unique items in a single variable.\n",
    "\n",
    "- Set is one of 4 built-in data types in Python used to store collections of data, the other 3 are List, Tuple, and Dictionary, all with different qualities and usage.\n",
    "\n",
    "- A set is a collection which is unordered, unchangeable*, and unindexed.\n",
    "- are written with curly brackets { }."
   ]
  },
  {
   "cell_type": "code",
   "execution_count": 67,
   "id": "a046c3cb",
   "metadata": {},
   "outputs": [],
   "source": [
    "st={}"
   ]
  },
  {
   "cell_type": "code",
   "execution_count": 68,
   "id": "372278c8",
   "metadata": {},
   "outputs": [
    {
     "data": {
      "text/plain": [
       "dict"
      ]
     },
     "execution_count": 68,
     "metadata": {},
     "output_type": "execute_result"
    }
   ],
   "source": [
    "type(st)"
   ]
  },
  {
   "cell_type": "code",
   "execution_count": 69,
   "id": "16d08aa1",
   "metadata": {},
   "outputs": [],
   "source": [
    "st={2,3,45}"
   ]
  },
  {
   "cell_type": "code",
   "execution_count": 70,
   "id": "e2f342d7",
   "metadata": {},
   "outputs": [
    {
     "data": {
      "text/plain": [
       "set"
      ]
     },
     "execution_count": 70,
     "metadata": {},
     "output_type": "execute_result"
    }
   ],
   "source": [
    "type(st)"
   ]
  },
  {
   "cell_type": "markdown",
   "id": "c9681249",
   "metadata": {},
   "source": [
    "- set is not allow duplicate elements"
   ]
  },
  {
   "cell_type": "code",
   "execution_count": 71,
   "id": "0779ae5e",
   "metadata": {},
   "outputs": [],
   "source": [
    "st={1,1,1,1,2,2,2,2,3,1,2,3,3,54,57,124,45}"
   ]
  },
  {
   "cell_type": "code",
   "execution_count": 72,
   "id": "714303fc",
   "metadata": {},
   "outputs": [
    {
     "data": {
      "text/plain": [
       "{1, 2, 3, 45, 54, 57, 124}"
      ]
     },
     "execution_count": 72,
     "metadata": {},
     "output_type": "execute_result"
    }
   ],
   "source": [
    "st"
   ]
  },
  {
   "cell_type": "markdown",
   "id": "62907c3f",
   "metadata": {},
   "source": [
    "- set is unordered so that accesing data is not possible"
   ]
  },
  {
   "cell_type": "code",
   "execution_count": 73,
   "id": "04f62b2d",
   "metadata": {},
   "outputs": [
    {
     "ename": "TypeError",
     "evalue": "'set' object is not subscriptable",
     "output_type": "error",
     "traceback": [
      "\u001b[1;31m---------------------------------------------------------------------------\u001b[0m",
      "\u001b[1;31mTypeError\u001b[0m                                 Traceback (most recent call last)",
      "Input \u001b[1;32mIn [73]\u001b[0m, in \u001b[0;36m<cell line: 1>\u001b[1;34m()\u001b[0m\n\u001b[1;32m----> 1\u001b[0m \u001b[43mst\u001b[49m\u001b[43m[\u001b[49m\u001b[38;5;241;43m0\u001b[39;49m\u001b[43m]\u001b[49m\n",
      "\u001b[1;31mTypeError\u001b[0m: 'set' object is not subscriptable"
     ]
    }
   ],
   "source": [
    "st[0]"
   ]
  },
  {
   "cell_type": "markdown",
   "id": "29ed4440",
   "metadata": {},
   "source": [
    "- to do modifications change to list and then do modif"
   ]
  },
  {
   "cell_type": "code",
   "execution_count": 75,
   "id": "6e61dc12",
   "metadata": {},
   "outputs": [],
   "source": [
    "st1=list(st)"
   ]
  },
  {
   "cell_type": "code",
   "execution_count": 76,
   "id": "245ff872",
   "metadata": {},
   "outputs": [
    {
     "data": {
      "text/plain": [
       "[1, 2, 3, 54, 57, 124, 45]"
      ]
     },
     "execution_count": 76,
     "metadata": {},
     "output_type": "execute_result"
    }
   ],
   "source": [
    "st1"
   ]
  },
  {
   "cell_type": "code",
   "execution_count": 77,
   "id": "cfe2ec9b",
   "metadata": {},
   "outputs": [
    {
     "data": {
      "text/plain": [
       "3"
      ]
     },
     "execution_count": 77,
     "metadata": {},
     "output_type": "execute_result"
    }
   ],
   "source": [
    "st1[2]"
   ]
  },
  {
   "cell_type": "code",
   "execution_count": 78,
   "id": "86cba743",
   "metadata": {},
   "outputs": [
    {
     "data": {
      "text/plain": [
       "{1, 2, 3, 45, 54, 57, 124}"
      ]
     },
     "execution_count": 78,
     "metadata": {},
     "output_type": "execute_result"
    }
   ],
   "source": [
    "st"
   ]
  },
  {
   "cell_type": "markdown",
   "id": "016175be",
   "metadata": {},
   "source": [
    "## set methods\n",
    "- add()\n",
    "- The add() method adds an element to the set.If the element already exists, the add() method does not add the element."
   ]
  },
  {
   "cell_type": "code",
   "execution_count": 79,
   "id": "e34d1374",
   "metadata": {},
   "outputs": [],
   "source": [
    "st.add(\"rabi\")"
   ]
  },
  {
   "cell_type": "code",
   "execution_count": 80,
   "id": "b7b3b77f",
   "metadata": {},
   "outputs": [
    {
     "data": {
      "text/plain": [
       "{1, 124, 2, 3, 45, 54, 57, 'rabi'}"
      ]
     },
     "execution_count": 80,
     "metadata": {},
     "output_type": "execute_result"
    }
   ],
   "source": [
    "st"
   ]
  },
  {
   "cell_type": "code",
   "execution_count": 81,
   "id": "597d8d26",
   "metadata": {},
   "outputs": [],
   "source": [
    "st.add(2)"
   ]
  },
  {
   "cell_type": "code",
   "execution_count": 82,
   "id": "be570f83",
   "metadata": {},
   "outputs": [
    {
     "data": {
      "text/plain": [
       "{1, 124, 2, 3, 45, 54, 57, 'rabi'}"
      ]
     },
     "execution_count": 82,
     "metadata": {},
     "output_type": "execute_result"
    }
   ],
   "source": [
    "st"
   ]
  },
  {
   "cell_type": "code",
   "execution_count": 83,
   "id": "db216598",
   "metadata": {},
   "outputs": [
    {
     "ename": "TypeError",
     "evalue": "unhashable type: 'list'",
     "output_type": "error",
     "traceback": [
      "\u001b[1;31m---------------------------------------------------------------------------\u001b[0m",
      "\u001b[1;31mTypeError\u001b[0m                                 Traceback (most recent call last)",
      "Input \u001b[1;32mIn [83]\u001b[0m, in \u001b[0;36m<cell line: 1>\u001b[1;34m()\u001b[0m\n\u001b[1;32m----> 1\u001b[0m \u001b[43mst\u001b[49m\u001b[38;5;241;43m.\u001b[39;49m\u001b[43madd\u001b[49m\u001b[43m(\u001b[49m\u001b[43m[\u001b[49m\u001b[38;5;241;43m1\u001b[39;49m\u001b[43m,\u001b[49m\u001b[38;5;241;43m2\u001b[39;49m\u001b[43m,\u001b[49m\u001b[38;5;241;43m3\u001b[39;49m\u001b[43m,\u001b[49m\u001b[38;5;241;43m1\u001b[39;49m\u001b[43m,\u001b[49m\u001b[38;5;241;43m2\u001b[39;49m\u001b[43m]\u001b[49m\u001b[43m)\u001b[49m\n",
      "\u001b[1;31mTypeError\u001b[0m: unhashable type: 'list'"
     ]
    }
   ],
   "source": [
    "st.add([1,2,3,1,2])"
   ]
  },
  {
   "cell_type": "markdown",
   "id": "0541bcda",
   "metadata": {},
   "source": [
    "- set stores unordered unique elements. it always findout the uniqueness between primitive data types not in b/w collection.\n",
    "- set items are primitive data types not collection"
   ]
  },
  {
   "cell_type": "code",
   "execution_count": 84,
   "id": "949ada75",
   "metadata": {},
   "outputs": [],
   "source": [
    "st={(1,2,3,1,3,2),1,1,2,2,1,3,4,5,6}"
   ]
  },
  {
   "cell_type": "code",
   "execution_count": 86,
   "id": "83dc9ab6",
   "metadata": {},
   "outputs": [
    {
     "data": {
      "text/plain": [
       "{(1, 2, 3, 1, 3, 2), 1, 2, 3, 4, 5, 6}"
      ]
     },
     "execution_count": 86,
     "metadata": {},
     "output_type": "execute_result"
    }
   ],
   "source": [
    "st  # it allowes sice it tuple is immutable"
   ]
  },
  {
   "cell_type": "code",
   "execution_count": 88,
   "id": "65023fd5",
   "metadata": {},
   "outputs": [],
   "source": [
    "st={(3,4,5,9),(3,4,5,9),3,4,5,9,9,5}"
   ]
  },
  {
   "cell_type": "code",
   "execution_count": 89,
   "id": "74ab24bd",
   "metadata": {},
   "outputs": [
    {
     "data": {
      "text/plain": [
       "{(3, 4, 5, 9), 3, 4, 5, 9}"
      ]
     },
     "execution_count": 89,
     "metadata": {},
     "output_type": "execute_result"
    }
   ],
   "source": [
    "st"
   ]
  },
  {
   "cell_type": "markdown",
   "id": "e8fd6ffa",
   "metadata": {},
   "source": [
    "#### remove()\n",
    "- The remove() method removes the specified element from the set.\n",
    "\n",
    "- This method is different from the discard() method, because the remove() method will raise an error if the specified item does not exist, and the discard() method will not."
   ]
  },
  {
   "cell_type": "code",
   "execution_count": 90,
   "id": "0a9275d5",
   "metadata": {},
   "outputs": [],
   "source": [
    "st.remove(4)"
   ]
  },
  {
   "cell_type": "code",
   "execution_count": 91,
   "id": "161d3676",
   "metadata": {},
   "outputs": [
    {
     "data": {
      "text/plain": [
       "{(3, 4, 5, 9), 3, 5, 9}"
      ]
     },
     "execution_count": 91,
     "metadata": {},
     "output_type": "execute_result"
    }
   ],
   "source": [
    "st"
   ]
  },
  {
   "cell_type": "code",
   "execution_count": 92,
   "id": "169468fd",
   "metadata": {},
   "outputs": [
    {
     "ename": "KeyError",
     "evalue": "11",
     "output_type": "error",
     "traceback": [
      "\u001b[1;31m---------------------------------------------------------------------------\u001b[0m",
      "\u001b[1;31mKeyError\u001b[0m                                  Traceback (most recent call last)",
      "Input \u001b[1;32mIn [92]\u001b[0m, in \u001b[0;36m<cell line: 1>\u001b[1;34m()\u001b[0m\n\u001b[1;32m----> 1\u001b[0m \u001b[43mst\u001b[49m\u001b[38;5;241;43m.\u001b[39;49m\u001b[43mremove\u001b[49m\u001b[43m(\u001b[49m\u001b[38;5;241;43m11\u001b[39;49m\u001b[43m)\u001b[49m\n",
      "\u001b[1;31mKeyError\u001b[0m: 11"
     ]
    }
   ],
   "source": [
    "st.remove(11)"
   ]
  },
  {
   "cell_type": "markdown",
   "id": "6bd60291",
   "metadata": {},
   "source": [
    "#### discard()"
   ]
  },
  {
   "cell_type": "code",
   "execution_count": 93,
   "id": "05b578d2",
   "metadata": {},
   "outputs": [],
   "source": [
    "st.discard(11)"
   ]
  },
  {
   "cell_type": "code",
   "execution_count": 94,
   "id": "6b4513bd",
   "metadata": {},
   "outputs": [
    {
     "data": {
      "text/plain": [
       "{(3, 4, 5, 9), 3, 5, 9}"
      ]
     },
     "execution_count": 94,
     "metadata": {},
     "output_type": "execute_result"
    }
   ],
   "source": [
    "st"
   ]
  },
  {
   "cell_type": "code",
   "execution_count": 95,
   "id": "60f11e62",
   "metadata": {},
   "outputs": [],
   "source": [
    "st.discard(9)"
   ]
  },
  {
   "cell_type": "code",
   "execution_count": 96,
   "id": "db8af448",
   "metadata": {},
   "outputs": [
    {
     "data": {
      "text/plain": [
       "{(3, 4, 5, 9), 3, 5}"
      ]
     },
     "execution_count": 96,
     "metadata": {},
     "output_type": "execute_result"
    }
   ],
   "source": [
    "st"
   ]
  },
  {
   "cell_type": "code",
   "execution_count": 97,
   "id": "9a75851f",
   "metadata": {},
   "outputs": [
    {
     "data": {
      "text/plain": [
       "{'Ravi', 'ravi'}"
      ]
     },
     "execution_count": 97,
     "metadata": {},
     "output_type": "execute_result"
    }
   ],
   "source": [
    "{\"ravi\",\"Ravi\"}"
   ]
  },
  {
   "cell_type": "markdown",
   "id": "b1ce9311",
   "metadata": {},
   "source": [
    "### copy()\n",
    "- The copy() method copies the set."
   ]
  },
  {
   "cell_type": "code",
   "execution_count": 98,
   "id": "4ece9679",
   "metadata": {},
   "outputs": [],
   "source": [
    "vegetables={\"pumpkin\",\"ash pumpkin\",\"potato\",\"sweet potato\",\"onion\",\"red onion\"}"
   ]
  },
  {
   "cell_type": "code",
   "execution_count": 101,
   "id": "49a46525",
   "metadata": {},
   "outputs": [],
   "source": [
    "veg1=vegetables.copy()"
   ]
  },
  {
   "cell_type": "code",
   "execution_count": 103,
   "id": "8286871c",
   "metadata": {},
   "outputs": [
    {
     "data": {
      "text/plain": [
       "{'ash pumpkin', 'onion', 'potato', 'pumpkin', 'red onion', 'sweet potato'}"
      ]
     },
     "execution_count": 103,
     "metadata": {},
     "output_type": "execute_result"
    }
   ],
   "source": [
    "veg1"
   ]
  },
  {
   "cell_type": "markdown",
   "id": "60705d95",
   "metadata": {},
   "source": [
    "### intersection()\n",
    "- Return a set that contains the items that exist in both set "
   ]
  },
  {
   "cell_type": "code",
   "execution_count": 104,
   "id": "1667c537",
   "metadata": {},
   "outputs": [],
   "source": [
    "veg2={\"potato\",\"cabbage\",\"red cabbage\",\"carrot\",\"beans\"}"
   ]
  },
  {
   "cell_type": "code",
   "execution_count": 105,
   "id": "823a9858",
   "metadata": {},
   "outputs": [],
   "source": [
    "v=veg1.intersection(veg2)"
   ]
  },
  {
   "cell_type": "code",
   "execution_count": 106,
   "id": "23ff1320",
   "metadata": {},
   "outputs": [
    {
     "data": {
      "text/plain": [
       "{'potato'}"
      ]
     },
     "execution_count": 106,
     "metadata": {},
     "output_type": "execute_result"
    }
   ],
   "source": [
    "v"
   ]
  },
  {
   "cell_type": "markdown",
   "id": "cc3d421a",
   "metadata": {},
   "source": [
    "### union()\n",
    "- Return a set that contains all items from both sets, duplicates are excluded"
   ]
  },
  {
   "cell_type": "code",
   "execution_count": 107,
   "id": "6a8a7f70",
   "metadata": {},
   "outputs": [],
   "source": [
    "v1=veg1.union(veg2)"
   ]
  },
  {
   "cell_type": "code",
   "execution_count": 108,
   "id": "287d89a7",
   "metadata": {},
   "outputs": [
    {
     "data": {
      "text/plain": [
       "{'ash pumpkin',\n",
       " 'beans',\n",
       " 'cabbage',\n",
       " 'carrot',\n",
       " 'onion',\n",
       " 'potato',\n",
       " 'pumpkin',\n",
       " 'red cabbage',\n",
       " 'red onion',\n",
       " 'sweet potato'}"
      ]
     },
     "execution_count": 108,
     "metadata": {},
     "output_type": "execute_result"
    }
   ],
   "source": [
    "v1"
   ]
  },
  {
   "cell_type": "markdown",
   "id": "8b8d1426",
   "metadata": {},
   "source": [
    "### pop()\n",
    "- The pop() method removes a random item from the set.\n",
    "\n",
    "- This method returns the removed item."
   ]
  },
  {
   "cell_type": "code",
   "execution_count": 109,
   "id": "0c219197",
   "metadata": {},
   "outputs": [
    {
     "data": {
      "text/plain": [
       "'sweet potato'"
      ]
     },
     "execution_count": 109,
     "metadata": {},
     "output_type": "execute_result"
    }
   ],
   "source": [
    "v1.pop()"
   ]
  },
  {
   "cell_type": "code",
   "execution_count": 110,
   "id": "87658d1d",
   "metadata": {},
   "outputs": [
    {
     "data": {
      "text/plain": [
       "{'ash pumpkin',\n",
       " 'beans',\n",
       " 'cabbage',\n",
       " 'carrot',\n",
       " 'onion',\n",
       " 'potato',\n",
       " 'pumpkin',\n",
       " 'red cabbage',\n",
       " 'red onion'}"
      ]
     },
     "execution_count": 110,
     "metadata": {},
     "output_type": "execute_result"
    }
   ],
   "source": [
    "v1"
   ]
  },
  {
   "cell_type": "code",
   "execution_count": 111,
   "id": "37909ca5",
   "metadata": {},
   "outputs": [
    {
     "data": {
      "text/plain": [
       "'cabbage'"
      ]
     },
     "execution_count": 111,
     "metadata": {},
     "output_type": "execute_result"
    }
   ],
   "source": [
    "v1.pop()"
   ]
  },
  {
   "cell_type": "markdown",
   "id": "248fd4ac",
   "metadata": {},
   "source": [
    "### issubset()\n",
    "- Return True if all items in set x are present in set y."
   ]
  },
  {
   "cell_type": "code",
   "execution_count": 112,
   "id": "6f153882",
   "metadata": {},
   "outputs": [],
   "source": [
    "x={1,2,3}\n",
    "y={5,6,4,3,2,1}\n",
    "z=x.issubset(y)"
   ]
  },
  {
   "cell_type": "code",
   "execution_count": 113,
   "id": "1322253d",
   "metadata": {},
   "outputs": [
    {
     "data": {
      "text/plain": [
       "True"
      ]
     },
     "execution_count": 113,
     "metadata": {},
     "output_type": "execute_result"
    }
   ],
   "source": [
    "z"
   ]
  },
  {
   "cell_type": "markdown",
   "id": "f6440727",
   "metadata": {},
   "source": [
    "### issuperset()\n",
    "- Return True if all items set y are present in set x."
   ]
  },
  {
   "cell_type": "code",
   "execution_count": 114,
   "id": "acf9b998",
   "metadata": {},
   "outputs": [
    {
     "data": {
      "text/plain": [
       "True"
      ]
     },
     "execution_count": 114,
     "metadata": {},
     "output_type": "execute_result"
    }
   ],
   "source": [
    "y.issuperset(x)"
   ]
  },
  {
   "cell_type": "markdown",
   "id": "334938c4",
   "metadata": {},
   "source": [
    "### difference()\n",
    "- Return a set that contains the items that only exist in set x, and not in set y."
   ]
  },
  {
   "cell_type": "code",
   "execution_count": 115,
   "id": "01a84ac4",
   "metadata": {},
   "outputs": [],
   "source": [
    "x={'a','b','c'}\n",
    "y={'f','d','e','b','a','c'}"
   ]
  },
  {
   "cell_type": "code",
   "execution_count": 116,
   "id": "2344fd1d",
   "metadata": {},
   "outputs": [
    {
     "data": {
      "text/plain": [
       "set()"
      ]
     },
     "execution_count": 116,
     "metadata": {},
     "output_type": "execute_result"
    }
   ],
   "source": [
    "x.difference(y)"
   ]
  },
  {
   "cell_type": "code",
   "execution_count": 130,
   "id": "ef007cac",
   "metadata": {},
   "outputs": [
    {
     "data": {
      "text/plain": [
       "{'a', 'b', 'c', 'd', 'e', 'f'}"
      ]
     },
     "execution_count": 130,
     "metadata": {},
     "output_type": "execute_result"
    }
   ],
   "source": [
    "y.difference(x)"
   ]
  },
  {
   "cell_type": "markdown",
   "id": "a9f8a566",
   "metadata": {},
   "source": [
    "## dictionary\n",
    "- Dictionaries are used to store data values in key:value pairs.\n",
    "\n",
    "- A dictionary is a collection which is ordered*, changeable and do not allow duplicates.\n",
    "- Dictionaries are written with curly brackets, and have keys and values"
   ]
  },
  {
   "cell_type": "code",
   "execution_count": 131,
   "id": "d9a6103a",
   "metadata": {},
   "outputs": [
    {
     "data": {
      "text/plain": [
       "dict"
      ]
     },
     "execution_count": 131,
     "metadata": {},
     "output_type": "execute_result"
    }
   ],
   "source": [
    "d={}\n",
    "type(d)"
   ]
  },
  {
   "cell_type": "code",
   "execution_count": 132,
   "id": "4ff6741d",
   "metadata": {},
   "outputs": [
    {
     "data": {
      "text/plain": [
       "set"
      ]
     },
     "execution_count": 132,
     "metadata": {},
     "output_type": "execute_result"
    }
   ],
   "source": [
    "d={1,2,3}\n",
    "type(d)"
   ]
  },
  {
   "cell_type": "code",
   "execution_count": 133,
   "id": "cd210713",
   "metadata": {},
   "outputs": [],
   "source": [
    "d={5:\"ravi\"}"
   ]
  },
  {
   "cell_type": "code",
   "execution_count": 21,
   "id": "845049df",
   "metadata": {},
   "outputs": [],
   "source": [
    "d1={\"key1\":16295,\"key2\":\"ravi\",\"key3\":[1,3,2,5,4]}"
   ]
  },
  {
   "cell_type": "code",
   "execution_count": 22,
   "id": "03be0f6b",
   "metadata": {},
   "outputs": [
    {
     "data": {
      "text/plain": [
       "{'key1': 16295, 'key2': 'ravi', 'key3': [1, 3, 2, 5, 4]}"
      ]
     },
     "execution_count": 22,
     "metadata": {},
     "output_type": "execute_result"
    }
   ],
   "source": [
    "d1"
   ]
  },
  {
   "cell_type": "markdown",
   "id": "0a01f7eb",
   "metadata": {},
   "source": [
    "- You can access the items of a dictionary by referring to its key name, inside square brackets"
   ]
  },
  {
   "cell_type": "code",
   "execution_count": 23,
   "id": "cff0f8a6",
   "metadata": {},
   "outputs": [
    {
     "data": {
      "text/plain": [
       "16295"
      ]
     },
     "execution_count": 23,
     "metadata": {},
     "output_type": "execute_result"
    }
   ],
   "source": [
    "d1['key1']"
   ]
  },
  {
   "cell_type": "markdown",
   "id": "917230e1",
   "metadata": {},
   "source": [
    "- There is also a method called get() that will give you the same result"
   ]
  },
  {
   "cell_type": "code",
   "execution_count": 24,
   "id": "a8e3d516",
   "metadata": {},
   "outputs": [
    {
     "data": {
      "text/plain": [
       "'ravi'"
      ]
     },
     "execution_count": 24,
     "metadata": {},
     "output_type": "execute_result"
    }
   ],
   "source": [
    "d1.get('key2')"
   ]
  },
  {
   "cell_type": "code",
   "execution_count": 137,
   "id": "11939782",
   "metadata": {},
   "outputs": [
    {
     "ename": "SyntaxError",
     "evalue": "unexpected EOF while parsing (1258175138.py, line 1)",
     "output_type": "error",
     "traceback": [
      "\u001b[1;36m  Input \u001b[1;32mIn [137]\u001b[1;36m\u001b[0m\n\u001b[1;33m    d2={#:[1,2,23.5,5+6j,True,(1,2,3)]}\u001b[0m\n\u001b[1;37m                                       ^\u001b[0m\n\u001b[1;31mSyntaxError\u001b[0m\u001b[1;31m:\u001b[0m unexpected EOF while parsing\n"
     ]
    }
   ],
   "source": [
    "d2={#:[1,2,23.5,5+6j,True,(1,2,3)]}"
   ]
  },
  {
   "cell_type": "code",
   "execution_count": 138,
   "id": "5ff43a8c",
   "metadata": {},
   "outputs": [
    {
     "ename": "SyntaxError",
     "evalue": "invalid syntax (3531229924.py, line 1)",
     "output_type": "error",
     "traceback": [
      "\u001b[1;36m  Input \u001b[1;32mIn [138]\u001b[1;36m\u001b[0m\n\u001b[1;33m    d2={@:[1,2,23.5,5+6j,True,(1,2,3)]}\u001b[0m\n\u001b[1;37m        ^\u001b[0m\n\u001b[1;31mSyntaxError\u001b[0m\u001b[1;31m:\u001b[0m invalid syntax\n"
     ]
    }
   ],
   "source": [
    "d2={@:[1,2,23.5,5+6j,True,(1,2,3)]}"
   ]
  },
  {
   "cell_type": "code",
   "execution_count": 1,
   "id": "4e7e0628",
   "metadata": {},
   "outputs": [
    {
     "ename": "NameError",
     "evalue": "name '_4' is not defined",
     "output_type": "error",
     "traceback": [
      "\u001b[1;31m---------------------------------------------------------------------------\u001b[0m",
      "\u001b[1;31mNameError\u001b[0m                                 Traceback (most recent call last)",
      "Input \u001b[1;32mIn [1]\u001b[0m, in \u001b[0;36m<cell line: 1>\u001b[1;34m()\u001b[0m\n\u001b[1;32m----> 1\u001b[0m d2\u001b[38;5;241m=\u001b[39m{\u001b[43m_4\u001b[49m:[\u001b[38;5;241m1\u001b[39m,\u001b[38;5;241m2\u001b[39m,\u001b[38;5;241m23.5\u001b[39m,\u001b[38;5;241m5\u001b[39m\u001b[38;5;241m+\u001b[39m\u001b[38;5;241m6\u001b[39mj,\u001b[38;5;28;01mTrue\u001b[39;00m,(\u001b[38;5;241m1\u001b[39m,\u001b[38;5;241m2\u001b[39m,\u001b[38;5;241m3\u001b[39m)]}\n",
      "\u001b[1;31mNameError\u001b[0m: name '_4' is not defined"
     ]
    }
   ],
   "source": [
    "d2={_4:[1,2,23.5,5+6j,True,(1,2,3)]}"
   ]
  },
  {
   "cell_type": "markdown",
   "id": "8571cdab",
   "metadata": {},
   "source": [
    "- key does not allow the special characters\n",
    "- vulues may be list,tuple, set,primitive data type or combination of all"
   ]
  },
  {
   "cell_type": "code",
   "execution_count": 3,
   "id": "98b4c933",
   "metadata": {},
   "outputs": [],
   "source": [
    "d2={'@':[1,2,23.5,5+6j,True,(1,2,3)]}  # here it is a string so that it will allowed"
   ]
  },
  {
   "cell_type": "markdown",
   "id": "6a195884",
   "metadata": {},
   "source": [
    "- Dictionaries cannot have two items with the same key.\n",
    "- Duplicate key values will overwrite existing key values"
   ]
  },
  {
   "cell_type": "code",
   "execution_count": 4,
   "id": "b0b9e579",
   "metadata": {},
   "outputs": [],
   "source": [
    "d3={\"key1\":2+3j,\"key2\":[1,2,3,4],\"key1\":\"ravi\"}"
   ]
  },
  {
   "cell_type": "code",
   "execution_count": 5,
   "id": "984f57aa",
   "metadata": {},
   "outputs": [
    {
     "data": {
      "text/plain": [
       "'ravi'"
      ]
     },
     "execution_count": 5,
     "metadata": {},
     "output_type": "execute_result"
    }
   ],
   "source": [
    "d3['key1']"
   ]
  },
  {
   "cell_type": "code",
   "execution_count": 6,
   "id": "a55f20e6",
   "metadata": {},
   "outputs": [
    {
     "data": {
      "text/plain": [
       "{'key1': 'ravi', 'key2': [1, 2, 3, 4]}"
      ]
     },
     "execution_count": 6,
     "metadata": {},
     "output_type": "execute_result"
    }
   ],
   "source": [
    "d3"
   ]
  },
  {
   "cell_type": "code",
   "execution_count": 7,
   "id": "cdd0003a",
   "metadata": {},
   "outputs": [],
   "source": [
    "d4={\"key1\":2+3j,\"key2\":[1,2,3,4],\"key3\":2+3j}"
   ]
  },
  {
   "cell_type": "code",
   "execution_count": 9,
   "id": "bbe8e39a",
   "metadata": {},
   "outputs": [
    {
     "data": {
      "text/plain": [
       "{'key1': (2+3j), 'key2': [1, 2, 3, 4], 'key3': (2+3j)}"
      ]
     },
     "execution_count": 9,
     "metadata": {},
     "output_type": "execute_result"
    }
   ],
   "source": [
    "d4  # two same values with different keyname is allow"
   ]
  },
  {
   "cell_type": "code",
   "execution_count": 11,
   "id": "d627cdba",
   "metadata": {},
   "outputs": [],
   "source": [
    "d5={\"name\":\"Tatireddy Reavi\",\"mob_no\":123456789,\"mail_id\":\"newage.ravieee@gmail.com\",\n",
    "   \"key1\":[1,2,3,5],\"key2\":(2,5,8,7),\"key3\":{1,2,2,1,3,3,3,5,4,4,6},\"key4\":{\"a\":2,\"b\":6,\"c\":4}}"
   ]
  },
  {
   "cell_type": "code",
   "execution_count": 12,
   "id": "7349adc4",
   "metadata": {},
   "outputs": [
    {
     "data": {
      "text/plain": [
       "{'name': 'Tatireddy Reavi',\n",
       " 'mob_no': 123456789,\n",
       " 'mail_id': 'newage.ravieee@gmail.com',\n",
       " 'key1': [1, 2, 3, 5],\n",
       " 'key2': (2, 5, 8, 7),\n",
       " 'key3': {1, 2, 3, 4, 5, 6},\n",
       " 'key4': {'a': 2, 'b': 6, 'c': 4}}"
      ]
     },
     "execution_count": 12,
     "metadata": {},
     "output_type": "execute_result"
    }
   ],
   "source": [
    "d5"
   ]
  },
  {
   "cell_type": "code",
   "execution_count": 13,
   "id": "4c16a163",
   "metadata": {},
   "outputs": [
    {
     "data": {
      "text/plain": [
       "{'a': 2, 'b': 6, 'c': 4}"
      ]
     },
     "execution_count": 13,
     "metadata": {},
     "output_type": "execute_result"
    }
   ],
   "source": [
    "d5['key4']"
   ]
  },
  {
   "cell_type": "code",
   "execution_count": 14,
   "id": "862490f4",
   "metadata": {},
   "outputs": [
    {
     "data": {
      "text/plain": [
       "2"
      ]
     },
     "execution_count": 14,
     "metadata": {},
     "output_type": "execute_result"
    }
   ],
   "source": [
    "d5['key4']['a']"
   ]
  },
  {
   "cell_type": "code",
   "execution_count": 15,
   "id": "ef52a8c1",
   "metadata": {},
   "outputs": [
    {
     "data": {
      "text/plain": [
       "{'name': 'Tatireddy Reavi',\n",
       " 'mob_no': 123456789,\n",
       " 'mail_id': 'newage.ravieee@gmail.com',\n",
       " 'key1': [1, 2, 3, 5],\n",
       " 'key2': (2, 5, 8, 7),\n",
       " 'key3': {1, 2, 3, 4, 5, 6},\n",
       " 'key4': {'a': 2, 'b': 6, 'c': 4}}"
      ]
     },
     "execution_count": 15,
     "metadata": {},
     "output_type": "execute_result"
    }
   ],
   "source": [
    "d5"
   ]
  },
  {
   "cell_type": "code",
   "execution_count": 16,
   "id": "7187be60",
   "metadata": {},
   "outputs": [
    {
     "data": {
      "text/plain": [
       "dict_keys(['name', 'mob_no', 'mail_id', 'key1', 'key2', 'key3', 'key4'])"
      ]
     },
     "execution_count": 16,
     "metadata": {},
     "output_type": "execute_result"
    }
   ],
   "source": [
    "d5.keys()  # it gives list of all the keys"
   ]
  },
  {
   "cell_type": "code",
   "execution_count": 18,
   "id": "d9c789c0",
   "metadata": {},
   "outputs": [
    {
     "data": {
      "text/plain": [
       "dict_values(['Tatireddy Reavi', 123456789, 'newage.ravieee@gmail.com', [1, 2, 3, 5], (2, 5, 8, 7), {1, 2, 3, 4, 5, 6}, {'a': 2, 'b': 6, 'c': 4}])"
      ]
     },
     "execution_count": 18,
     "metadata": {},
     "output_type": "execute_result"
    }
   ],
   "source": [
    "d5.values()  # it gives list of values"
   ]
  },
  {
   "cell_type": "code",
   "execution_count": 20,
   "id": "611ca045",
   "metadata": {},
   "outputs": [
    {
     "data": {
      "text/plain": [
       "dict_items([('name', 'Tatireddy Reavi'), ('mob_no', 123456789), ('mail_id', 'newage.ravieee@gmail.com'), ('key1', [1, 2, 3, 5]), ('key2', (2, 5, 8, 7)), ('key3', {1, 2, 3, 4, 5, 6}), ('key4', {'a': 2, 'b': 6, 'c': 4})])"
      ]
     },
     "execution_count": 20,
     "metadata": {},
     "output_type": "execute_result"
    }
   ],
   "source": [
    "d5.items() # it gives key-values as a list of tuples"
   ]
  },
  {
   "cell_type": "code",
   "execution_count": 25,
   "id": "b0e80617",
   "metadata": {},
   "outputs": [],
   "source": [
    "d={\"key1\":\"ravi\",\"key2\":[1,2,3]}"
   ]
  },
  {
   "cell_type": "code",
   "execution_count": 26,
   "id": "9f36d845",
   "metadata": {},
   "outputs": [],
   "source": [
    "d[\"key3\"]=\"trepy\"  # adding new key to a dictionary"
   ]
  },
  {
   "cell_type": "code",
   "execution_count": 27,
   "id": "2f885bb3",
   "metadata": {},
   "outputs": [
    {
     "data": {
      "text/plain": [
       "{'key1': 'ravi', 'key2': [1, 2, 3], 'key3': 'trepy'}"
      ]
     },
     "execution_count": 27,
     "metadata": {},
     "output_type": "execute_result"
    }
   ],
   "source": [
    "d"
   ]
  },
  {
   "cell_type": "code",
   "execution_count": 28,
   "id": "105099ff",
   "metadata": {},
   "outputs": [],
   "source": [
    "d[\"key4\"]=(1,5,6,9)"
   ]
  },
  {
   "cell_type": "code",
   "execution_count": 29,
   "id": "0d1e0050",
   "metadata": {},
   "outputs": [
    {
     "data": {
      "text/plain": [
       "{'key1': 'ravi', 'key2': [1, 2, 3], 'key3': 'trepy', 'key4': (1, 5, 6, 9)}"
      ]
     },
     "execution_count": 29,
     "metadata": {},
     "output_type": "execute_result"
    }
   ],
   "source": [
    "d"
   ]
  },
  {
   "cell_type": "code",
   "execution_count": 32,
   "id": "215a44c3",
   "metadata": {},
   "outputs": [],
   "source": [
    "d[\"key1\"]=\"madhu\"  # if key is already available then it will update "
   ]
  },
  {
   "cell_type": "code",
   "execution_count": 33,
   "id": "c66ef8c3",
   "metadata": {},
   "outputs": [
    {
     "data": {
      "text/plain": [
       "{'key1': 'madhu', 'key2': [1, 2, 3], 'key3': 'trepy', 'key4': (1, 5, 6, 9)}"
      ]
     },
     "execution_count": 33,
     "metadata": {},
     "output_type": "execute_result"
    }
   ],
   "source": [
    "d"
   ]
  },
  {
   "cell_type": "code",
   "execution_count": 34,
   "id": "7780c856",
   "metadata": {},
   "outputs": [],
   "source": [
    "# to delete key\n",
    "del d['key1']"
   ]
  },
  {
   "cell_type": "code",
   "execution_count": 35,
   "id": "5764f4d2",
   "metadata": {},
   "outputs": [
    {
     "data": {
      "text/plain": [
       "{'key2': [1, 2, 3], 'key3': 'trepy', 'key4': (1, 5, 6, 9)}"
      ]
     },
     "execution_count": 35,
     "metadata": {},
     "output_type": "execute_result"
    }
   ],
   "source": [
    "d"
   ]
  },
  {
   "cell_type": "code",
   "execution_count": 36,
   "id": "19140d7a",
   "metadata": {},
   "outputs": [],
   "source": [
    "# to delete entire dictionary\n",
    "del d"
   ]
  },
  {
   "cell_type": "code",
   "execution_count": 37,
   "id": "162dc0b7",
   "metadata": {},
   "outputs": [
    {
     "ename": "NameError",
     "evalue": "name 'd' is not defined",
     "output_type": "error",
     "traceback": [
      "\u001b[1;31m---------------------------------------------------------------------------\u001b[0m",
      "\u001b[1;31mNameError\u001b[0m                                 Traceback (most recent call last)",
      "Input \u001b[1;32mIn [37]\u001b[0m, in \u001b[0;36m<cell line: 1>\u001b[1;34m()\u001b[0m\n\u001b[1;32m----> 1\u001b[0m \u001b[43md\u001b[49m\n",
      "\u001b[1;31mNameError\u001b[0m: name 'd' is not defined"
     ]
    }
   ],
   "source": [
    "d"
   ]
  },
  {
   "cell_type": "code",
   "execution_count": 38,
   "id": "d3d30a92",
   "metadata": {},
   "outputs": [],
   "source": [
    "d1={\"key1\":\"ravi\",\"key2\":{4,5,6,89}}"
   ]
  },
  {
   "cell_type": "code",
   "execution_count": 39,
   "id": "f60d56e6",
   "metadata": {},
   "outputs": [
    {
     "ename": "TypeError",
     "evalue": "unhashable type: 'list'",
     "output_type": "error",
     "traceback": [
      "\u001b[1;31m---------------------------------------------------------------------------\u001b[0m",
      "\u001b[1;31mTypeError\u001b[0m                                 Traceback (most recent call last)",
      "Input \u001b[1;32mIn [39]\u001b[0m, in \u001b[0;36m<cell line: 2>\u001b[1;34m()\u001b[0m\n\u001b[0;32m      1\u001b[0m \u001b[38;5;66;03m# add key as a list not work\u001b[39;00m\n\u001b[1;32m----> 2\u001b[0m d1[[\u001b[38;5;241m1\u001b[39m,\u001b[38;5;241m2\u001b[39m,\u001b[38;5;241m3\u001b[39m,\u001b[38;5;241m4\u001b[39m]]\u001b[38;5;241m=\u001b[39m\u001b[38;5;124m\"\u001b[39m\u001b[38;5;124mmani\u001b[39m\u001b[38;5;124m\"\u001b[39m\n",
      "\u001b[1;31mTypeError\u001b[0m: unhashable type: 'list'"
     ]
    }
   ],
   "source": [
    "# add key as a list not work\n",
    "d1[[1,2,3,4]]=\"mani\""
   ]
  },
  {
   "cell_type": "code",
   "execution_count": 40,
   "id": "bf9f4669",
   "metadata": {},
   "outputs": [],
   "source": [
    "# key as a tuple will work since it is a ordered immutable element\n",
    "d1[(1,2,3)]='mani'"
   ]
  },
  {
   "cell_type": "code",
   "execution_count": 41,
   "id": "eaa5781c",
   "metadata": {},
   "outputs": [
    {
     "ename": "NameError",
     "evalue": "name 'di' is not defined",
     "output_type": "error",
     "traceback": [
      "\u001b[1;31m---------------------------------------------------------------------------\u001b[0m",
      "\u001b[1;31mNameError\u001b[0m                                 Traceback (most recent call last)",
      "Input \u001b[1;32mIn [41]\u001b[0m, in \u001b[0;36m<cell line: 1>\u001b[1;34m()\u001b[0m\n\u001b[1;32m----> 1\u001b[0m \u001b[43mdi\u001b[49m\n",
      "\u001b[1;31mNameError\u001b[0m: name 'di' is not defined"
     ]
    }
   ],
   "source": [
    "di"
   ]
  },
  {
   "cell_type": "code",
   "execution_count": 42,
   "id": "4d034f7b",
   "metadata": {},
   "outputs": [
    {
     "ename": "TypeError",
     "evalue": "unhashable type: 'set'",
     "output_type": "error",
     "traceback": [
      "\u001b[1;31m---------------------------------------------------------------------------\u001b[0m",
      "\u001b[1;31mTypeError\u001b[0m                                 Traceback (most recent call last)",
      "Input \u001b[1;32mIn [42]\u001b[0m, in \u001b[0;36m<cell line: 1>\u001b[1;34m()\u001b[0m\n\u001b[1;32m----> 1\u001b[0m d1[{\u001b[38;5;241m2\u001b[39m,\u001b[38;5;241m5\u001b[39m,\u001b[38;5;241m8\u001b[39m}]\u001b[38;5;241m=\u001b[39m\u001b[38;5;241m9\u001b[39m\n",
      "\u001b[1;31mTypeError\u001b[0m: unhashable type: 'set'"
     ]
    }
   ],
   "source": [
    "d1[{2,5,8}]=9"
   ]
  },
  {
   "cell_type": "code",
   "execution_count": 1,
   "id": "c57c2ee8",
   "metadata": {},
   "outputs": [],
   "source": [
    "d1={\"key1\":\"transients\",\"key2\":\"harmonics\"}\n",
    "d2={\"key3\":\"voltage fluctuations\",\"key4\":\"current fluctuations\"}"
   ]
  },
  {
   "cell_type": "code",
   "execution_count": 2,
   "id": "01bfe619",
   "metadata": {},
   "outputs": [],
   "source": [
    "d1.update(d2)"
   ]
  },
  {
   "cell_type": "code",
   "execution_count": 3,
   "id": "8212eced",
   "metadata": {},
   "outputs": [
    {
     "data": {
      "text/plain": [
       "{'key1': 'transients',\n",
       " 'key2': 'harmonics',\n",
       " 'key3': 'voltage fluctuations',\n",
       " 'key4': 'current fluctuations'}"
      ]
     },
     "execution_count": 3,
     "metadata": {},
     "output_type": "execute_result"
    }
   ],
   "source": [
    "d1"
   ]
  },
  {
   "cell_type": "code",
   "execution_count": 4,
   "id": "52ae11a2",
   "metadata": {},
   "outputs": [
    {
     "data": {
      "text/plain": [
       "{'key3': 'voltage fluctuations', 'key4': 'current fluctuations'}"
      ]
     },
     "execution_count": 4,
     "metadata": {},
     "output_type": "execute_result"
    }
   ],
   "source": [
    "d2 "
   ]
  },
  {
   "cell_type": "code",
   "execution_count": 5,
   "id": "54e523ee",
   "metadata": {},
   "outputs": [
    {
     "ename": "TypeError",
     "evalue": "unsupported operand type(s) for +: 'dict' and 'dict'",
     "output_type": "error",
     "traceback": [
      "\u001b[1;31m---------------------------------------------------------------------------\u001b[0m",
      "\u001b[1;31mTypeError\u001b[0m                                 Traceback (most recent call last)",
      "Input \u001b[1;32mIn [5]\u001b[0m, in \u001b[0;36m<cell line: 1>\u001b[1;34m()\u001b[0m\n\u001b[1;32m----> 1\u001b[0m \u001b[43md1\u001b[49m\u001b[38;5;241;43m+\u001b[39;49m\u001b[43md2\u001b[49m\n",
      "\u001b[1;31mTypeError\u001b[0m: unsupported operand type(s) for +: 'dict' and 'dict'"
     ]
    }
   ],
   "source": [
    "d1+d2   # concatenation of two dictionaries are not possible"
   ]
  },
  {
   "cell_type": "code",
   "execution_count": 6,
   "id": "bee4cfad",
   "metadata": {},
   "outputs": [
    {
     "ename": "KeyError",
     "evalue": "'key1sdfbs'",
     "output_type": "error",
     "traceback": [
      "\u001b[1;31m---------------------------------------------------------------------------\u001b[0m",
      "\u001b[1;31mKeyError\u001b[0m                                  Traceback (most recent call last)",
      "Input \u001b[1;32mIn [6]\u001b[0m, in \u001b[0;36m<cell line: 1>\u001b[1;34m()\u001b[0m\n\u001b[1;32m----> 1\u001b[0m \u001b[43md1\u001b[49m\u001b[43m[\u001b[49m\u001b[38;5;124;43m'\u001b[39;49m\u001b[38;5;124;43mkey1sdfbs\u001b[39;49m\u001b[38;5;124;43m'\u001b[39;49m\u001b[43m]\u001b[49m\n",
      "\u001b[1;31mKeyError\u001b[0m: 'key1sdfbs'"
     ]
    }
   ],
   "source": [
    "d1['key1sdfbs']  # it give error if key is not present in a dict"
   ]
  },
  {
   "cell_type": "code",
   "execution_count": 8,
   "id": "dd61dc95",
   "metadata": {},
   "outputs": [],
   "source": [
    "d1.get('key1dggs')  # it won't give error if key is not present"
   ]
  },
  {
   "cell_type": "code",
   "execution_count": 16,
   "id": "ed1b8edd",
   "metadata": {},
   "outputs": [],
   "source": [
    "keys=(\"harmonics\",\"transients\",\"sag\",\"swell\")\n",
    "values=\"PQ_issue\""
   ]
  },
  {
   "cell_type": "code",
   "execution_count": 17,
   "id": "a9cf8a5d",
   "metadata": {},
   "outputs": [
    {
     "data": {
      "text/plain": [
       "{'harmonics': 'PQ_issue',\n",
       " 'transients': 'PQ_issue',\n",
       " 'sag': 'PQ_issue',\n",
       " 'swell': 'PQ_issue'}"
      ]
     },
     "execution_count": 17,
     "metadata": {},
     "output_type": "execute_result"
    }
   ],
   "source": [
    "d1.fromkeys(keys,values)   # Returns a dictionary with the specified keys and value"
   ]
  },
  {
   "cell_type": "code",
   "execution_count": 18,
   "id": "e9a5259e",
   "metadata": {},
   "outputs": [
    {
     "data": {
      "text/plain": [
       "{'key1': 'transients',\n",
       " 'key2': 'harmonics',\n",
       " 'key3': 'voltage fluctuations',\n",
       " 'key4': 'current fluctuations'}"
      ]
     },
     "execution_count": 18,
     "metadata": {},
     "output_type": "execute_result"
    }
   ],
   "source": [
    "d1"
   ]
  },
  {
   "cell_type": "code",
   "execution_count": 19,
   "id": "06dbcefc",
   "metadata": {},
   "outputs": [
    {
     "data": {
      "text/plain": [
       "'voltage fluctuations'"
      ]
     },
     "execution_count": 19,
     "metadata": {},
     "output_type": "execute_result"
    }
   ],
   "source": [
    "# The pop() method removes the specified item from the dictionary.\n",
    "d1.pop(\"key3\")"
   ]
  },
  {
   "cell_type": "code",
   "execution_count": 20,
   "id": "638c50c9",
   "metadata": {},
   "outputs": [
    {
     "data": {
      "text/plain": [
       "{'key1': 'transients', 'key2': 'harmonics', 'key4': 'current fluctuations'}"
      ]
     },
     "execution_count": 20,
     "metadata": {},
     "output_type": "execute_result"
    }
   ],
   "source": [
    "d1"
   ]
  },
  {
   "cell_type": "code",
   "execution_count": null,
   "id": "e63526ff",
   "metadata": {},
   "outputs": [],
   "source": []
  }
 ],
 "metadata": {
  "kernelspec": {
   "display_name": "Python 3 (ipykernel)",
   "language": "python",
   "name": "python3"
  },
  "language_info": {
   "codemirror_mode": {
    "name": "ipython",
    "version": 3
   },
   "file_extension": ".py",
   "mimetype": "text/x-python",
   "name": "python",
   "nbconvert_exporter": "python",
   "pygments_lexer": "ipython3",
   "version": "3.9.12"
  }
 },
 "nbformat": 4,
 "nbformat_minor": 5
}
