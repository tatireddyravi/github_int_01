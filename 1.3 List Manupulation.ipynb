{
 "cells": [
  {
   "cell_type": "markdown",
   "id": "5a529773",
   "metadata": {},
   "source": [
    "## List\n",
    "- Lists are used to store(heterogeneous) multiple items in a single variable.\n",
    "- Lists are one of 4 built-in data types in Python used to store collections of data, the other 3 are Tuple, Set, and Dictionary, (all have different qualities and usage).\n",
    "- Lists are created using square brackets:[ ] or list()."
   ]
  },
  {
   "cell_type": "code",
   "execution_count": 1,
   "id": "411dacc6",
   "metadata": {},
   "outputs": [
    {
     "name": "stdout",
     "output_type": "stream",
     "text": [
      "<class 'list'>\n"
     ]
    }
   ],
   "source": [
    "# use the list() constructor when creating a new list.\n",
    "a=list()\n",
    "print(type(a))"
   ]
  },
  {
   "cell_type": "code",
   "execution_count": 2,
   "id": "46670609",
   "metadata": {},
   "outputs": [
    {
     "data": {
      "text/plain": [
       "list"
      ]
     },
     "execution_count": 2,
     "metadata": {},
     "output_type": "execute_result"
    }
   ],
   "source": [
    "b=[]\n",
    "type(b)"
   ]
  },
  {
   "cell_type": "code",
   "execution_count": 3,
   "id": "b4183c1f",
   "metadata": {},
   "outputs": [],
   "source": [
    "#List is a collection used to store heterogeneous data in the form of indexes.--\n",
    "#List items are indexed, the first item has index [0], the second item has index [1] etc.\n",
    "l=['ravi',264,29.5,[12,13.5,45],True,False]"
   ]
  },
  {
   "cell_type": "code",
   "execution_count": 5,
   "id": "8dc2b22a",
   "metadata": {},
   "outputs": [
    {
     "name": "stdout",
     "output_type": "stream",
     "text": [
      "ravi\n",
      "264\n",
      "29.5\n",
      "[12, 13.5, 45]\n",
      "True\n",
      "False\n"
     ]
    }
   ],
   "source": [
    "# extract or access data from list one by one\n",
    "for e in l:\n",
    "    print(e)"
   ]
  },
  {
   "cell_type": "markdown",
   "id": "c19b45b0",
   "metadata": {},
   "source": [
    "- List items are ordered, changeable, and allow duplicate values."
   ]
  },
  {
   "cell_type": "code",
   "execution_count": 6,
   "id": "3881365c",
   "metadata": {},
   "outputs": [
    {
     "data": {
      "text/plain": [
       "['ravi', 264, 29.5, [12, 13.5, 45], True, False]"
      ]
     },
     "execution_count": 6,
     "metadata": {},
     "output_type": "execute_result"
    }
   ],
   "source": [
    "# List items are ordered\n",
    "l"
   ]
  },
  {
   "cell_type": "code",
   "execution_count": 7,
   "id": "a874f11b",
   "metadata": {},
   "outputs": [
    {
     "data": {
      "text/plain": [
       "'ravi'"
      ]
     },
     "execution_count": 7,
     "metadata": {},
     "output_type": "execute_result"
    }
   ],
   "source": [
    "#parcing perticular element using indexing\n",
    "l[0]"
   ]
  },
  {
   "cell_type": "code",
   "execution_count": 8,
   "id": "5463c620",
   "metadata": {},
   "outputs": [
    {
     "data": {
      "text/plain": [
       "[False, True, [12, 13.5, 45], 29.5, 264, 'ravi']"
      ]
     },
     "execution_count": 8,
     "metadata": {},
     "output_type": "execute_result"
    }
   ],
   "source": [
    "# to print in reverse direction\n",
    "l[::-1]"
   ]
  },
  {
   "cell_type": "code",
   "execution_count": 9,
   "id": "f08bd027",
   "metadata": {},
   "outputs": [
    {
     "data": {
      "text/plain": [
       "['ravi', 264, 29.5, [12, 13.5, 45], True]"
      ]
     },
     "execution_count": 9,
     "metadata": {},
     "output_type": "execute_result"
    }
   ],
   "source": [
    "l[:-1]"
   ]
  },
  {
   "cell_type": "code",
   "execution_count": 10,
   "id": "6772eb57",
   "metadata": {},
   "outputs": [
    {
     "name": "stdout",
     "output_type": "stream",
     "text": [
      "ravi\n"
     ]
    }
   ],
   "source": [
    "#extracting perticular data type from list.\n",
    "for e in l:\n",
    "    if type(e)==str :\n",
    "        print(e)"
   ]
  },
  {
   "cell_type": "code",
   "execution_count": 11,
   "id": "513be619",
   "metadata": {},
   "outputs": [
    {
     "name": "stdout",
     "output_type": "stream",
     "text": [
      "ravi\n",
      "264\n",
      "29.5\n",
      "True\n",
      "False\n"
     ]
    }
   ],
   "source": [
    "# skip perticular data type from list.\n",
    "for e in l:\n",
    "    if type(e)==list:\n",
    "        continue\n",
    "    else:\n",
    "        print(e)"
   ]
  },
  {
   "cell_type": "code",
   "execution_count": 12,
   "id": "cff101ee",
   "metadata": {},
   "outputs": [
    {
     "name": "stdout",
     "output_type": "stream",
     "text": [
      "[12, 13.5, 45]\n"
     ]
    }
   ],
   "source": [
    "# extracting perticular data type from list.\n",
    "for e in l:\n",
    "    if type(e)==list:\n",
    "        print(e)\n",
    "    else:\n",
    "        continue"
   ]
  },
  {
   "cell_type": "code",
   "execution_count": 13,
   "id": "bb3b5a7f",
   "metadata": {},
   "outputs": [
    {
     "name": "stdout",
     "output_type": "stream",
     "text": [
      "True is a boolean data\n",
      "False is a boolean data\n"
     ]
    }
   ],
   "source": [
    "for e in l:\n",
    "    if type(e)==bool:\n",
    "        print(e,'is a boolean data')"
   ]
  },
  {
   "cell_type": "code",
   "execution_count": 14,
   "id": "8da5f306",
   "metadata": {},
   "outputs": [
    {
     "name": "stdout",
     "output_type": "stream",
     "text": [
      "ravi is a string\n",
      "264 is an integer\n",
      "29.5 is a floating point number\n",
      "[12, 13.5, 45] is a list\n"
     ]
    }
   ],
   "source": [
    "for e in l:\n",
    "    if type(e)==str:\n",
    "        print(e,'is a string')\n",
    "    elif type(e)==int:\n",
    "        print(e,'is an integer')\n",
    "    elif type(e)==float:\n",
    "        print(e,'is a floating point number')\n",
    "    elif type(e)==list:\n",
    "        print(e,'is a list')"
   ]
  },
  {
   "cell_type": "code",
   "execution_count": 15,
   "id": "238e7114",
   "metadata": {},
   "outputs": [
    {
     "data": {
      "text/plain": [
       "['ravi', 264, 29.5, [12, 13.5, 45], True, False]"
      ]
     },
     "execution_count": 15,
     "metadata": {},
     "output_type": "execute_result"
    }
   ],
   "source": [
    "l"
   ]
  },
  {
   "cell_type": "code",
   "execution_count": 16,
   "id": "28e10666",
   "metadata": {},
   "outputs": [],
   "source": [
    "# List allow duplicate values.\n",
    "l1=[242,29.5,'vit','select','vit']"
   ]
  },
  {
   "cell_type": "code",
   "execution_count": 74,
   "id": "341b2698",
   "metadata": {},
   "outputs": [],
   "source": [
    "# concatenation operation\n",
    "l2=l+l1"
   ]
  },
  {
   "cell_type": "code",
   "execution_count": 75,
   "id": "a38a0f87",
   "metadata": {},
   "outputs": [
    {
     "data": {
      "text/plain": [
       "[1, 22.2, 45, 55, 'ravi', 'madhu', 1, 22.2, 45, 55, 'ravi', 'madhu']"
      ]
     },
     "execution_count": 75,
     "metadata": {},
     "output_type": "execute_result"
    }
   ],
   "source": [
    "l*2"
   ]
  },
  {
   "cell_type": "code",
   "execution_count": 76,
   "id": "ee89c78a",
   "metadata": {},
   "outputs": [
    {
     "data": {
      "text/plain": [
       "[1, 22.2, 45, 55, 'ravi', 'madhu', 242, 29.5, 'vit', 'select', 'vit']"
      ]
     },
     "execution_count": 76,
     "metadata": {},
     "output_type": "execute_result"
    }
   ],
   "source": [
    "l2"
   ]
  },
  {
   "cell_type": "code",
   "execution_count": 84,
   "id": "6b8db130",
   "metadata": {},
   "outputs": [
    {
     "data": {
      "text/plain": [
       "106593704320"
      ]
     },
     "execution_count": 84,
     "metadata": {},
     "output_type": "execute_result"
    }
   ],
   "source": [
    "id(l2)"
   ]
  },
  {
   "cell_type": "code",
   "execution_count": 79,
   "id": "0e18f33c",
   "metadata": {},
   "outputs": [],
   "source": [
    "# re-assignment operation in a perticular index\n",
    "l2[0]='replace'"
   ]
  },
  {
   "cell_type": "code",
   "execution_count": 80,
   "id": "4630636a",
   "metadata": {},
   "outputs": [
    {
     "data": {
      "text/plain": [
       "['replace', 22.2, 45, 55, 'ravi', 'madhu', 242, 29.5, 'vit', 'select', 'vit']"
      ]
     },
     "execution_count": 80,
     "metadata": {},
     "output_type": "execute_result"
    }
   ],
   "source": [
    "l2"
   ]
  },
  {
   "cell_type": "code",
   "execution_count": 85,
   "id": "fe9bfbe4",
   "metadata": {},
   "outputs": [
    {
     "data": {
      "text/plain": [
       "106593704320"
      ]
     },
     "execution_count": 85,
     "metadata": {},
     "output_type": "execute_result"
    }
   ],
   "source": [
    "id(l2)"
   ]
  },
  {
   "cell_type": "code",
   "execution_count": 81,
   "id": "45fed291",
   "metadata": {},
   "outputs": [
    {
     "ename": "TypeError",
     "evalue": "'str' object does not support item assignment",
     "output_type": "error",
     "traceback": [
      "\u001b[1;31m---------------------------------------------------------------------------\u001b[0m",
      "\u001b[1;31mTypeError\u001b[0m                                 Traceback (most recent call last)",
      "\u001b[1;32m<ipython-input-81-882d324ad08c>\u001b[0m in \u001b[0;36m<module>\u001b[1;34m\u001b[0m\n\u001b[1;32m----> 1\u001b[1;33m \u001b[0ml2\u001b[0m\u001b[1;33m[\u001b[0m\u001b[1;36m0\u001b[0m\u001b[1;33m]\u001b[0m\u001b[1;33m[\u001b[0m\u001b[1;36m1\u001b[0m\u001b[1;33m]\u001b[0m\u001b[1;33m=\u001b[0m\u001b[1;34m'f'\u001b[0m\u001b[1;33m\u001b[0m\u001b[1;33m\u001b[0m\u001b[0m\n\u001b[0m",
      "\u001b[1;31mTypeError\u001b[0m: 'str' object does not support item assignment"
     ]
    }
   ],
   "source": [
    "l2[0][1]='f'"
   ]
  },
  {
   "cell_type": "code",
   "execution_count": 82,
   "id": "e513f8e4",
   "metadata": {},
   "outputs": [
    {
     "ename": "TypeError",
     "evalue": "'str' object does not support item assignment",
     "output_type": "error",
     "traceback": [
      "\u001b[1;31m---------------------------------------------------------------------------\u001b[0m",
      "\u001b[1;31mTypeError\u001b[0m                                 Traceback (most recent call last)",
      "\u001b[1;32m<ipython-input-82-3450593ed511>\u001b[0m in \u001b[0;36m<module>\u001b[1;34m\u001b[0m\n\u001b[0;32m      2\u001b[0m \u001b[1;31m# string-->immutable  where as  list--> mutable(changeble)\u001b[0m\u001b[1;33m\u001b[0m\u001b[1;33m\u001b[0m\u001b[1;33m\u001b[0m\u001b[0m\n\u001b[0;32m      3\u001b[0m \u001b[0ms\u001b[0m\u001b[1;33m=\u001b[0m\u001b[1;34m'ravi'\u001b[0m\u001b[1;33m\u001b[0m\u001b[1;33m\u001b[0m\u001b[0m\n\u001b[1;32m----> 4\u001b[1;33m \u001b[0ms\u001b[0m\u001b[1;33m[\u001b[0m\u001b[1;36m0\u001b[0m\u001b[1;33m]\u001b[0m\u001b[1;33m=\u001b[0m\u001b[1;34m'h'\u001b[0m\u001b[1;33m\u001b[0m\u001b[1;33m\u001b[0m\u001b[0m\n\u001b[0m",
      "\u001b[1;31mTypeError\u001b[0m: 'str' object does not support item assignment"
     ]
    }
   ],
   "source": [
    "# re-assignment operation works in list. but in case of string it doesn't support.\n",
    "# string-->immutable  where as  list--> mutable(changeble)\n",
    "s='ravi'\n",
    "s[0]='h'"
   ]
  },
  {
   "cell_type": "code",
   "execution_count": 86,
   "id": "16af4d4c",
   "metadata": {},
   "outputs": [
    {
     "data": {
      "text/plain": [
       "106582108016"
      ]
     },
     "execution_count": 86,
     "metadata": {},
     "output_type": "execute_result"
    }
   ],
   "source": [
    "id(s)"
   ]
  },
  {
   "cell_type": "code",
   "execution_count": 83,
   "id": "1786966b",
   "metadata": {},
   "outputs": [
    {
     "data": {
      "text/plain": [
       "'havi'"
      ]
     },
     "execution_count": 83,
     "metadata": {},
     "output_type": "execute_result"
    }
   ],
   "source": [
    "s.replace('r','h')"
   ]
  },
  {
   "cell_type": "code",
   "execution_count": 87,
   "id": "85aa0fbe",
   "metadata": {},
   "outputs": [
    {
     "data": {
      "text/plain": [
       "106593702128"
      ]
     },
     "execution_count": 87,
     "metadata": {},
     "output_type": "execute_result"
    }
   ],
   "source": [
    "id(s.replace('r','h'))"
   ]
  },
  {
   "cell_type": "markdown",
   "id": "b9c6633d",
   "metadata": {},
   "source": [
    "- if we are able to change or reassigne the element in same address--->mutable (otherwise immutable)"
   ]
  },
  {
   "cell_type": "markdown",
   "id": "e9330365",
   "metadata": {},
   "source": [
    "- (Q) why string is immutable eventhough the replace() works?"
   ]
  },
  {
   "cell_type": "code",
   "execution_count": 19,
   "id": "a6a031fb",
   "metadata": {},
   "outputs": [
    {
     "data": {
      "text/plain": [
       "6"
      ]
     },
     "execution_count": 19,
     "metadata": {},
     "output_type": "execute_result"
    }
   ],
   "source": [
    "# To determine how many items a list has, use the len() function\n",
    "len(l)"
   ]
  },
  {
   "cell_type": "code",
   "execution_count": 20,
   "id": "1bc57555",
   "metadata": {},
   "outputs": [
    {
     "data": {
      "text/plain": [
       "True"
      ]
     },
     "execution_count": 20,
     "metadata": {},
     "output_type": "execute_result"
    }
   ],
   "source": [
    "# to check an element is present in collection or not using membership operators\n",
    "True in l"
   ]
  },
  {
   "cell_type": "code",
   "execution_count": 21,
   "id": "28c237bf",
   "metadata": {},
   "outputs": [
    {
     "data": {
      "text/plain": [
       "False"
      ]
     },
     "execution_count": 21,
     "metadata": {},
     "output_type": "execute_result"
    }
   ],
   "source": [
    "False in l1"
   ]
  },
  {
   "cell_type": "code",
   "execution_count": 22,
   "id": "b297c870",
   "metadata": {},
   "outputs": [
    {
     "data": {
      "text/plain": [
       "False"
      ]
     },
     "execution_count": 22,
     "metadata": {},
     "output_type": "execute_result"
    }
   ],
   "source": [
    "'vit'not in l1"
   ]
  },
  {
   "cell_type": "code",
   "execution_count": 23,
   "id": "ff519d75",
   "metadata": {},
   "outputs": [
    {
     "ename": "TypeError",
     "evalue": "'>' not supported between instances of 'int' and 'str'",
     "output_type": "error",
     "traceback": [
      "\u001b[1;31m---------------------------------------------------------------------------\u001b[0m",
      "\u001b[1;31mTypeError\u001b[0m                                 Traceback (most recent call last)",
      "\u001b[1;32m<ipython-input-23-fd8eeca349cc>\u001b[0m in \u001b[0;36m<module>\u001b[1;34m\u001b[0m\n\u001b[1;32m----> 1\u001b[1;33m \u001b[0mmax\u001b[0m\u001b[1;33m(\u001b[0m\u001b[0ml\u001b[0m\u001b[1;33m)\u001b[0m\u001b[1;33m\u001b[0m\u001b[1;33m\u001b[0m\u001b[0m\n\u001b[0m",
      "\u001b[1;31mTypeError\u001b[0m: '>' not supported between instances of 'int' and 'str'"
     ]
    }
   ],
   "source": [
    "max(l)"
   ]
  },
  {
   "cell_type": "code",
   "execution_count": 24,
   "id": "8c0e2660",
   "metadata": {},
   "outputs": [
    {
     "data": {
      "text/plain": [
       "54"
      ]
     },
     "execution_count": 24,
     "metadata": {},
     "output_type": "execute_result"
    }
   ],
   "source": [
    "max([1,2,5,4,6,54])"
   ]
  },
  {
   "cell_type": "code",
   "execution_count": 25,
   "id": "666c2cbd",
   "metadata": {},
   "outputs": [
    {
     "data": {
      "text/plain": [
       "'z'"
      ]
     },
     "execution_count": 25,
     "metadata": {},
     "output_type": "execute_result"
    }
   ],
   "source": [
    "max(['asdf','sdec','z'])  # based on alphabetical order it gives"
   ]
  },
  {
   "cell_type": "code",
   "execution_count": 26,
   "id": "8688764c",
   "metadata": {},
   "outputs": [
    {
     "data": {
      "text/plain": [
       "82.8"
      ]
     },
     "execution_count": 26,
     "metadata": {},
     "output_type": "execute_result"
    }
   ],
   "source": [
    "max([12,15,4,45.5,82.8])"
   ]
  },
  {
   "cell_type": "code",
   "execution_count": 27,
   "id": "4ada2c64",
   "metadata": {},
   "outputs": [
    {
     "data": {
      "text/plain": [
       "0"
      ]
     },
     "execution_count": 27,
     "metadata": {},
     "output_type": "execute_result"
    }
   ],
   "source": [
    "min([1,2,4,5,0])"
   ]
  },
  {
   "cell_type": "code",
   "execution_count": 28,
   "id": "86e5b405",
   "metadata": {},
   "outputs": [
    {
     "ename": "TypeError",
     "evalue": "'<' not supported between instances of 'int' and 'str'",
     "output_type": "error",
     "traceback": [
      "\u001b[1;31m---------------------------------------------------------------------------\u001b[0m",
      "\u001b[1;31mTypeError\u001b[0m                                 Traceback (most recent call last)",
      "\u001b[1;32m<ipython-input-28-7ec835da8eb9>\u001b[0m in \u001b[0;36m<module>\u001b[1;34m\u001b[0m\n\u001b[1;32m----> 1\u001b[1;33m \u001b[0mmin\u001b[0m\u001b[1;33m(\u001b[0m\u001b[1;33m[\u001b[0m\u001b[1;34m'ravi'\u001b[0m\u001b[1;33m,\u001b[0m\u001b[1;34m'madhu'\u001b[0m\u001b[1;33m,\u001b[0m\u001b[1;36m21\u001b[0m\u001b[1;33m]\u001b[0m\u001b[1;33m)\u001b[0m\u001b[1;33m\u001b[0m\u001b[1;33m\u001b[0m\u001b[0m\n\u001b[0m",
      "\u001b[1;31mTypeError\u001b[0m: '<' not supported between instances of 'int' and 'str'"
     ]
    }
   ],
   "source": [
    "min(['ravi','madhu',21])"
   ]
  },
  {
   "cell_type": "code",
   "execution_count": 29,
   "id": "a15c28a7",
   "metadata": {},
   "outputs": [
    {
     "data": {
      "text/plain": [
       "'eshwar'"
      ]
     },
     "execution_count": 29,
     "metadata": {},
     "output_type": "execute_result"
    }
   ],
   "source": [
    "min(['ravi','madhu','eshwar'])"
   ]
  },
  {
   "cell_type": "code",
   "execution_count": 30,
   "id": "5f5f2916",
   "metadata": {},
   "outputs": [
    {
     "data": {
      "text/plain": [
       "'fsdsa'"
      ]
     },
     "execution_count": 30,
     "metadata": {},
     "output_type": "execute_result"
    }
   ],
   "source": [
    "min(['fsdsl','fsdsj','fsdsa'])"
   ]
  },
  {
   "cell_type": "code",
   "execution_count": 31,
   "id": "e325ded6",
   "metadata": {},
   "outputs": [],
   "source": [
    "l=[1,2,3,4,5]"
   ]
  },
  {
   "cell_type": "markdown",
   "id": "89676508",
   "metadata": {},
   "source": [
    "- The list is changeable, meaning that we can change, add, and remove items in a list after it has been created."
   ]
  },
  {
   "cell_type": "code",
   "execution_count": 32,
   "id": "25934a4b",
   "metadata": {},
   "outputs": [],
   "source": [
    "# append the data at tail position of list\n",
    "l.append('tati')"
   ]
  },
  {
   "cell_type": "markdown",
   "id": "b9e05b63",
   "metadata": {},
   "source": [
    "### append()\n",
    "- Adds an element at the end of the list"
   ]
  },
  {
   "cell_type": "code",
   "execution_count": 33,
   "id": "48c0d3b9",
   "metadata": {},
   "outputs": [
    {
     "data": {
      "text/plain": [
       "[1, 2, 3, 4, 5, 'tati']"
      ]
     },
     "execution_count": 33,
     "metadata": {},
     "output_type": "execute_result"
    }
   ],
   "source": [
    "l"
   ]
  },
  {
   "cell_type": "code",
   "execution_count": 34,
   "id": "1caf49bf",
   "metadata": {},
   "outputs": [],
   "source": [
    "l.append([8,4,2])"
   ]
  },
  {
   "cell_type": "code",
   "execution_count": 35,
   "id": "d516e460",
   "metadata": {},
   "outputs": [
    {
     "data": {
      "text/plain": [
       "[1, 2, 3, 4, 5, 'tati', [8, 4, 2]]"
      ]
     },
     "execution_count": 35,
     "metadata": {},
     "output_type": "execute_result"
    }
   ],
   "source": [
    "l"
   ]
  },
  {
   "cell_type": "code",
   "execution_count": 36,
   "id": "023a93cc",
   "metadata": {},
   "outputs": [],
   "source": [
    "l.append(6+6j)"
   ]
  },
  {
   "cell_type": "markdown",
   "id": "681ee435",
   "metadata": {},
   "source": [
    "### insert()\n",
    "- Adds an element at the specified position"
   ]
  },
  {
   "cell_type": "code",
   "execution_count": 37,
   "id": "3ed4e2b5",
   "metadata": {},
   "outputs": [],
   "source": [
    "#insert the data before specified index\n",
    "l.insert(2,[1,1,2,2])"
   ]
  },
  {
   "cell_type": "code",
   "execution_count": 38,
   "id": "075447e5",
   "metadata": {},
   "outputs": [
    {
     "data": {
      "text/plain": [
       "[1, 2, [1, 1, 2, 2], 3, 4, 5, 'tati', [8, 4, 2], (6+6j)]"
      ]
     },
     "execution_count": 38,
     "metadata": {},
     "output_type": "execute_result"
    }
   ],
   "source": [
    "l"
   ]
  },
  {
   "cell_type": "code",
   "execution_count": 39,
   "id": "1db2229f",
   "metadata": {},
   "outputs": [],
   "source": [
    "l.insert(7,'reddy ravi')"
   ]
  },
  {
   "cell_type": "code",
   "execution_count": 40,
   "id": "cb051bde",
   "metadata": {},
   "outputs": [
    {
     "data": {
      "text/plain": [
       "[1, 2, [1, 1, 2, 2], 3, 4, 5, 'tati', 'reddy ravi', [8, 4, 2], (6+6j)]"
      ]
     },
     "execution_count": 40,
     "metadata": {},
     "output_type": "execute_result"
    }
   ],
   "source": [
    "l"
   ]
  },
  {
   "cell_type": "code",
   "execution_count": 41,
   "id": "3f30fd7c",
   "metadata": {},
   "outputs": [],
   "source": [
    "l.insert(-1,True)"
   ]
  },
  {
   "cell_type": "code",
   "execution_count": 42,
   "id": "5a62187c",
   "metadata": {},
   "outputs": [
    {
     "data": {
      "text/plain": [
       "[1, 2, [1, 1, 2, 2], 3, 4, 5, 'tati', 'reddy ravi', [8, 4, 2], True, (6+6j)]"
      ]
     },
     "execution_count": 42,
     "metadata": {},
     "output_type": "execute_result"
    }
   ],
   "source": [
    "l"
   ]
  },
  {
   "cell_type": "markdown",
   "id": "0eebc496",
   "metadata": {},
   "source": [
    "### count()\n",
    "- Returns the number of elements present in the list with the specified value."
   ]
  },
  {
   "cell_type": "code",
   "execution_count": 43,
   "id": "fc047441",
   "metadata": {},
   "outputs": [
    {
     "data": {
      "text/plain": [
       "1"
      ]
     },
     "execution_count": 43,
     "metadata": {},
     "output_type": "execute_result"
    }
   ],
   "source": [
    "l.count(2)"
   ]
  },
  {
   "cell_type": "code",
   "execution_count": 44,
   "id": "ff0226e1",
   "metadata": {},
   "outputs": [],
   "source": [
    "l=[1,2,3,4]"
   ]
  },
  {
   "cell_type": "code",
   "execution_count": 45,
   "id": "f9143425",
   "metadata": {},
   "outputs": [],
   "source": [
    "l.append('ravi')"
   ]
  },
  {
   "cell_type": "code",
   "execution_count": 46,
   "id": "54a17c2f",
   "metadata": {},
   "outputs": [],
   "source": [
    "l.append(['r','a','v','i'])"
   ]
  },
  {
   "cell_type": "code",
   "execution_count": 47,
   "id": "22ef9519",
   "metadata": {},
   "outputs": [
    {
     "data": {
      "text/plain": [
       "[1, 2, 3, 4, 'ravi', ['r', 'a', 'v', 'i']]"
      ]
     },
     "execution_count": 47,
     "metadata": {},
     "output_type": "execute_result"
    }
   ],
   "source": [
    "l"
   ]
  },
  {
   "cell_type": "markdown",
   "id": "2f550045",
   "metadata": {},
   "source": [
    "### extend()\n",
    "- Add the elements of a list (or any iterable), to the end of the current list"
   ]
  },
  {
   "cell_type": "code",
   "execution_count": 49,
   "id": "69fbf600",
   "metadata": {},
   "outputs": [],
   "source": [
    "# first it unravel and then add to list\n",
    "l.extend('tatireddy')"
   ]
  },
  {
   "cell_type": "code",
   "execution_count": 53,
   "id": "86a5f6dd",
   "metadata": {},
   "outputs": [
    {
     "data": {
      "text/plain": [
       "[1,\n",
       " 2,\n",
       " 3,\n",
       " 4,\n",
       " 'ravi',\n",
       " ['r', 'a', 'v', 'i'],\n",
       " 't',\n",
       " 'a',\n",
       " 't',\n",
       " 'i',\n",
       " 'r',\n",
       " 'e',\n",
       " 'd',\n",
       " 'd',\n",
       " 'y',\n",
       " 't',\n",
       " 'a',\n",
       " 't',\n",
       " 'i',\n",
       " 'r',\n",
       " 'e',\n",
       " 'd',\n",
       " 'd',\n",
       " 'y']"
      ]
     },
     "execution_count": 53,
     "metadata": {},
     "output_type": "execute_result"
    }
   ],
   "source": [
    "l"
   ]
  },
  {
   "cell_type": "code",
   "execution_count": 50,
   "id": "37a567c6",
   "metadata": {},
   "outputs": [],
   "source": [
    "a=l.extend('tatireddy')"
   ]
  },
  {
   "cell_type": "code",
   "execution_count": 52,
   "id": "64013488",
   "metadata": {},
   "outputs": [],
   "source": [
    "a"
   ]
  },
  {
   "cell_type": "code",
   "execution_count": 53,
   "id": "1d831c84",
   "metadata": {},
   "outputs": [
    {
     "data": {
      "text/plain": [
       "['m', 'a', 'd', 'h', 'u']"
      ]
     },
     "execution_count": 53,
     "metadata": {},
     "output_type": "execute_result"
    }
   ],
   "source": [
    "a='madhu'\n",
    "list(a)"
   ]
  },
  {
   "cell_type": "code",
   "execution_count": 54,
   "id": "44ea07ba",
   "metadata": {},
   "outputs": [
    {
     "ename": "TypeError",
     "evalue": "'int' object is not iterable",
     "output_type": "error",
     "traceback": [
      "\u001b[1;31m---------------------------------------------------------------------------\u001b[0m",
      "\u001b[1;31mTypeError\u001b[0m                                 Traceback (most recent call last)",
      "\u001b[1;32m<ipython-input-54-d9eeb70b1f51>\u001b[0m in \u001b[0;36m<module>\u001b[1;34m\u001b[0m\n\u001b[1;32m----> 1\u001b[1;33m \u001b[0ml\u001b[0m\u001b[1;33m.\u001b[0m\u001b[0mextend\u001b[0m\u001b[1;33m(\u001b[0m\u001b[1;36m45\u001b[0m\u001b[1;33m)\u001b[0m\u001b[1;33m\u001b[0m\u001b[1;33m\u001b[0m\u001b[0m\n\u001b[0m",
      "\u001b[1;31mTypeError\u001b[0m: 'int' object is not iterable"
     ]
    }
   ],
   "source": [
    "l.extend(45)"
   ]
  },
  {
   "cell_type": "code",
   "execution_count": 55,
   "id": "c3cc8dcd",
   "metadata": {},
   "outputs": [],
   "source": [
    "# append can insert any object but extend can insert only iterable object at the end\n",
    "# extend can unwrap the iterable before inserting\n",
    "l.extend((1,2,3,4))"
   ]
  },
  {
   "cell_type": "code",
   "execution_count": 56,
   "id": "0f569fb4",
   "metadata": {},
   "outputs": [
    {
     "data": {
      "text/plain": [
       "[1,\n",
       " 2,\n",
       " 3,\n",
       " 4,\n",
       " 'ravi',\n",
       " ['r', 'a', 'v', 'i'],\n",
       " 't',\n",
       " 'a',\n",
       " 't',\n",
       " 'i',\n",
       " 'r',\n",
       " 'e',\n",
       " 'd',\n",
       " 'd',\n",
       " 'y',\n",
       " 't',\n",
       " 'a',\n",
       " 't',\n",
       " 'i',\n",
       " 'r',\n",
       " 'e',\n",
       " 'd',\n",
       " 'd',\n",
       " 'y',\n",
       " 't',\n",
       " 'a',\n",
       " 't',\n",
       " 'i',\n",
       " 'r',\n",
       " 'e',\n",
       " 'd',\n",
       " 'd',\n",
       " 'y',\n",
       " 1,\n",
       " 2,\n",
       " 3,\n",
       " 4]"
      ]
     },
     "execution_count": 56,
     "metadata": {},
     "output_type": "execute_result"
    }
   ],
   "source": [
    "l"
   ]
  },
  {
   "cell_type": "markdown",
   "id": "c1c2be1b",
   "metadata": {},
   "source": [
    "### index()\n",
    "- Returns the index of the first occurance the specified value."
   ]
  },
  {
   "cell_type": "code",
   "execution_count": 57,
   "id": "5d6d3e61",
   "metadata": {},
   "outputs": [
    {
     "data": {
      "text/plain": [
       "6"
      ]
     },
     "execution_count": 57,
     "metadata": {},
     "output_type": "execute_result"
    }
   ],
   "source": [
    "l.index('t') # it gives index of first occurance of a value"
   ]
  },
  {
   "cell_type": "code",
   "execution_count": 58,
   "id": "dee1e29d",
   "metadata": {},
   "outputs": [],
   "source": [
    "l=[2,5,6,8,98]"
   ]
  },
  {
   "cell_type": "markdown",
   "id": "d4da224b",
   "metadata": {},
   "source": [
    "### pop()\n",
    "- Removes the element at the specified index or position.(default last element)"
   ]
  },
  {
   "cell_type": "code",
   "execution_count": 59,
   "id": "1087ee5f",
   "metadata": {},
   "outputs": [
    {
     "data": {
      "text/plain": [
       "98"
      ]
     },
     "execution_count": 59,
     "metadata": {},
     "output_type": "execute_result"
    }
   ],
   "source": [
    "l.pop()"
   ]
  },
  {
   "cell_type": "code",
   "execution_count": 60,
   "id": "637049be",
   "metadata": {},
   "outputs": [
    {
     "data": {
      "text/plain": [
       "[2, 5, 6, 8]"
      ]
     },
     "execution_count": 60,
     "metadata": {},
     "output_type": "execute_result"
    }
   ],
   "source": [
    "l"
   ]
  },
  {
   "cell_type": "code",
   "execution_count": 61,
   "id": "8b3925bc",
   "metadata": {},
   "outputs": [
    {
     "data": {
      "text/plain": [
       "5"
      ]
     },
     "execution_count": 61,
     "metadata": {},
     "output_type": "execute_result"
    }
   ],
   "source": [
    "l.pop(1)"
   ]
  },
  {
   "cell_type": "markdown",
   "id": "6a65e90f",
   "metadata": {},
   "source": [
    "### remove()\n",
    "- Removes the item with the specified value"
   ]
  },
  {
   "cell_type": "code",
   "execution_count": 62,
   "id": "80ae87e2",
   "metadata": {},
   "outputs": [],
   "source": [
    "l.remove(6)"
   ]
  },
  {
   "cell_type": "code",
   "execution_count": 65,
   "id": "294aecef",
   "metadata": {},
   "outputs": [
    {
     "data": {
      "text/plain": [
       "[2, 8]"
      ]
     },
     "execution_count": 65,
     "metadata": {},
     "output_type": "execute_result"
    }
   ],
   "source": [
    "l"
   ]
  },
  {
   "cell_type": "markdown",
   "id": "43d5142f",
   "metadata": {},
   "source": [
    "### reverse()\n",
    "- Reverses the order of the list"
   ]
  },
  {
   "cell_type": "code",
   "execution_count": 63,
   "id": "e9fd0ea3",
   "metadata": {},
   "outputs": [],
   "source": [
    "l=[1,2,4,5,7,9]"
   ]
  },
  {
   "cell_type": "code",
   "execution_count": 64,
   "id": "d0a4f553",
   "metadata": {},
   "outputs": [],
   "source": [
    "l.reverse()"
   ]
  },
  {
   "cell_type": "code",
   "execution_count": 65,
   "id": "7db6b931",
   "metadata": {},
   "outputs": [
    {
     "data": {
      "text/plain": [
       "[9, 7, 5, 4, 2, 1]"
      ]
     },
     "execution_count": 65,
     "metadata": {},
     "output_type": "execute_result"
    }
   ],
   "source": [
    "l"
   ]
  },
  {
   "cell_type": "markdown",
   "id": "e69bec2e",
   "metadata": {},
   "source": [
    "### sort()\n",
    "- Sorts the list (default in assending order)"
   ]
  },
  {
   "cell_type": "code",
   "execution_count": 66,
   "id": "d44afa99",
   "metadata": {},
   "outputs": [],
   "source": [
    "l.sort()"
   ]
  },
  {
   "cell_type": "code",
   "execution_count": 67,
   "id": "18b99073",
   "metadata": {},
   "outputs": [
    {
     "data": {
      "text/plain": [
       "[1, 2, 4, 5, 7, 9]"
      ]
     },
     "execution_count": 67,
     "metadata": {},
     "output_type": "execute_result"
    }
   ],
   "source": [
    "l"
   ]
  },
  {
   "cell_type": "code",
   "execution_count": 68,
   "id": "f5a59307",
   "metadata": {},
   "outputs": [],
   "source": [
    "l=[1,22.2,45,55,'ravi','madhu']"
   ]
  },
  {
   "cell_type": "code",
   "execution_count": 69,
   "id": "2e9b54fe",
   "metadata": {},
   "outputs": [
    {
     "ename": "TypeError",
     "evalue": "'<' not supported between instances of 'str' and 'int'",
     "output_type": "error",
     "traceback": [
      "\u001b[1;31m---------------------------------------------------------------------------\u001b[0m",
      "\u001b[1;31mTypeError\u001b[0m                                 Traceback (most recent call last)",
      "\u001b[1;32m<ipython-input-69-fb07ac7c73ab>\u001b[0m in \u001b[0;36m<module>\u001b[1;34m\u001b[0m\n\u001b[1;32m----> 1\u001b[1;33m \u001b[0ml\u001b[0m\u001b[1;33m.\u001b[0m\u001b[0msort\u001b[0m\u001b[1;33m(\u001b[0m\u001b[1;33m)\u001b[0m\u001b[1;33m\u001b[0m\u001b[1;33m\u001b[0m\u001b[0m\n\u001b[0m",
      "\u001b[1;31mTypeError\u001b[0m: '<' not supported between instances of 'str' and 'int'"
     ]
    }
   ],
   "source": [
    "l.sort()"
   ]
  },
  {
   "cell_type": "markdown",
   "id": "90d54b2a",
   "metadata": {},
   "source": [
    "### copy()\n",
    "- The copy() method returns a copy of the specified list."
   ]
  },
  {
   "cell_type": "code",
   "execution_count": 70,
   "id": "72b869a2",
   "metadata": {},
   "outputs": [],
   "source": [
    "a=['ML','DL','CV','NLP']\n",
    "ds=a.copy()"
   ]
  },
  {
   "cell_type": "code",
   "execution_count": 71,
   "id": "189eb5d3",
   "metadata": {},
   "outputs": [
    {
     "data": {
      "text/plain": [
       "['ML', 'DL', 'CV', 'NLP']"
      ]
     },
     "execution_count": 71,
     "metadata": {},
     "output_type": "execute_result"
    }
   ],
   "source": [
    "ds"
   ]
  },
  {
   "cell_type": "markdown",
   "id": "75d0fc0b",
   "metadata": {},
   "source": [
    "### clear()\n",
    "- Removes all the elements from the list"
   ]
  },
  {
   "cell_type": "code",
   "execution_count": 72,
   "id": "7f231582",
   "metadata": {},
   "outputs": [],
   "source": [
    "ds.clear()"
   ]
  },
  {
   "cell_type": "code",
   "execution_count": 73,
   "id": "add2f2de",
   "metadata": {},
   "outputs": [
    {
     "data": {
      "text/plain": [
       "[]"
      ]
     },
     "execution_count": 73,
     "metadata": {},
     "output_type": "execute_result"
    }
   ],
   "source": [
    "ds"
   ]
  },
  {
   "cell_type": "markdown",
   "id": "94cb9531",
   "metadata": {},
   "source": [
    "- 1. create lists inside list\n",
    "- 2."
   ]
  },
  {
   "cell_type": "code",
   "execution_count": 76,
   "id": "345250c8",
   "metadata": {},
   "outputs": [],
   "source": [
    "#TaSK\n",
    "l=[[1,2.3,4+5j,True,'ravi'],[2+3j,'madhu',5,9.2,False],[True,5+6j,8.9,'eshwar',56],24,'prasadh',26.4,264+295j]\n",
    "l.insert(2,[8,2.5,5+8j,True,'reddy'])\n"
   ]
  },
  {
   "cell_type": "code",
   "execution_count": 77,
   "id": "03e82481",
   "metadata": {},
   "outputs": [],
   "source": [
    "l.insert(1,[4,6.5,6+4j,'tatireddy'])"
   ]
  },
  {
   "cell_type": "code",
   "execution_count": 78,
   "id": "36f445ea",
   "metadata": {},
   "outputs": [
    {
     "data": {
      "text/plain": [
       "[[1, 2.3, (4+5j), True, 'ravi'],\n",
       " [4, 6.5, (6+4j), 'tatireddy'],\n",
       " [(2+3j), 'madhu', 5, 9.2, False],\n",
       " [8, 2.5, (5+8j), True, 'reddy'],\n",
       " [True, (5+6j), 8.9, 'eshwar', 56],\n",
       " 24,\n",
       " 'prasadh',\n",
       " 26.4,\n",
       " (264+295j)]"
      ]
     },
     "execution_count": 78,
     "metadata": {},
     "output_type": "execute_result"
    }
   ],
   "source": [
    "l"
   ]
  },
  {
   "cell_type": "code",
   "execution_count": 79,
   "id": "03da6de5",
   "metadata": {},
   "outputs": [
    {
     "ename": "ValueError",
     "evalue": "'ravi' is not in list",
     "output_type": "error",
     "traceback": [
      "\u001b[1;31m---------------------------------------------------------------------------\u001b[0m",
      "\u001b[1;31mValueError\u001b[0m                                Traceback (most recent call last)",
      "\u001b[1;32m<ipython-input-79-27385fe4b9c7>\u001b[0m in \u001b[0;36m<module>\u001b[1;34m\u001b[0m\n\u001b[0;32m      2\u001b[0m     \u001b[1;32mfor\u001b[0m \u001b[0mi\u001b[0m \u001b[1;32min\u001b[0m \u001b[0me\u001b[0m\u001b[1;33m:\u001b[0m\u001b[1;33m\u001b[0m\u001b[1;33m\u001b[0m\u001b[0m\n\u001b[0;32m      3\u001b[0m         \u001b[1;32mif\u001b[0m \u001b[0mtype\u001b[0m\u001b[1;33m(\u001b[0m\u001b[0mi\u001b[0m\u001b[1;33m)\u001b[0m\u001b[1;33m==\u001b[0m\u001b[0mstr\u001b[0m\u001b[1;33m:\u001b[0m\u001b[1;33m\u001b[0m\u001b[1;33m\u001b[0m\u001b[0m\n\u001b[1;32m----> 4\u001b[1;33m             \u001b[0ml\u001b[0m\u001b[1;33m.\u001b[0m\u001b[0mindex\u001b[0m\u001b[1;33m(\u001b[0m\u001b[0mi\u001b[0m\u001b[1;33m)\u001b[0m\u001b[1;33m\u001b[0m\u001b[1;33m\u001b[0m\u001b[0m\n\u001b[0m\u001b[0;32m      5\u001b[0m             \u001b[0ml\u001b[0m\u001b[1;33m.\u001b[0m\u001b[0mremove\u001b[0m\u001b[1;33m(\u001b[0m\u001b[0mi\u001b[0m\u001b[1;33m)\u001b[0m\u001b[1;33m\u001b[0m\u001b[1;33m\u001b[0m\u001b[0m\n\u001b[0;32m      6\u001b[0m \u001b[1;33m\u001b[0m\u001b[0m\n",
      "\u001b[1;31mValueError\u001b[0m: 'ravi' is not in list"
     ]
    }
   ],
   "source": [
    "for e in l:\n",
    "    for i in e:\n",
    "        if type(i)==str:\n",
    "             l.index(i)\n",
    "            l.remove(i)\n",
    "        "
   ]
  },
  {
   "cell_type": "code",
   "execution_count": 80,
   "id": "db383d37",
   "metadata": {},
   "outputs": [],
   "source": [
    "l=['ravi',12.5,4+6j]\n",
    "l.insert(1,[1,2,3])\n",
    "l.insert(2,[11,12,'d','d','d'])\n",
    "l.insert(3,[21,'t',223])\n"
   ]
  },
  {
   "cell_type": "code",
   "execution_count": 81,
   "id": "3e117e9d",
   "metadata": {},
   "outputs": [
    {
     "data": {
      "text/plain": [
       "['ravi', [1, 2, 3], [11, 12, 'd', 'd', 'd'], [21, 't', 223], 12.5, (4+6j)]"
      ]
     },
     "execution_count": 81,
     "metadata": {},
     "output_type": "execute_result"
    }
   ],
   "source": [
    "l"
   ]
  },
  {
   "cell_type": "code",
   "execution_count": 82,
   "id": "209a93e9",
   "metadata": {},
   "outputs": [
    {
     "ename": "ValueError",
     "evalue": "1 is not in list",
     "output_type": "error",
     "traceback": [
      "\u001b[1;31m---------------------------------------------------------------------------\u001b[0m",
      "\u001b[1;31mValueError\u001b[0m                                Traceback (most recent call last)",
      "\u001b[1;32m<ipython-input-82-43c5ae6ea544>\u001b[0m in \u001b[0;36m<module>\u001b[1;34m\u001b[0m\n\u001b[0;32m      2\u001b[0m     \u001b[1;32mif\u001b[0m \u001b[0mtype\u001b[0m\u001b[1;33m(\u001b[0m\u001b[0ml\u001b[0m\u001b[1;33m[\u001b[0m\u001b[0me\u001b[0m\u001b[1;33m]\u001b[0m\u001b[1;33m)\u001b[0m\u001b[1;33m==\u001b[0m\u001b[0mlist\u001b[0m\u001b[1;33m:\u001b[0m\u001b[1;33m\u001b[0m\u001b[1;33m\u001b[0m\u001b[0m\n\u001b[0;32m      3\u001b[0m         \u001b[1;32mfor\u001b[0m \u001b[0mi\u001b[0m \u001b[1;32min\u001b[0m \u001b[0mrange\u001b[0m\u001b[1;33m(\u001b[0m\u001b[0mlen\u001b[0m\u001b[1;33m(\u001b[0m\u001b[0ml\u001b[0m\u001b[1;33m[\u001b[0m\u001b[0me\u001b[0m\u001b[1;33m]\u001b[0m\u001b[1;33m)\u001b[0m\u001b[1;33m)\u001b[0m\u001b[1;33m:\u001b[0m\u001b[1;33m\u001b[0m\u001b[1;33m\u001b[0m\u001b[0m\n\u001b[1;32m----> 4\u001b[1;33m             \u001b[0mprint\u001b[0m\u001b[1;33m(\u001b[0m\u001b[0ml\u001b[0m\u001b[1;33m.\u001b[0m\u001b[0mindex\u001b[0m\u001b[1;33m(\u001b[0m\u001b[0ml\u001b[0m\u001b[1;33m[\u001b[0m\u001b[0me\u001b[0m\u001b[1;33m]\u001b[0m\u001b[1;33m[\u001b[0m\u001b[0mi\u001b[0m\u001b[1;33m]\u001b[0m\u001b[1;33m)\u001b[0m\u001b[1;33m)\u001b[0m\u001b[1;33m\u001b[0m\u001b[1;33m\u001b[0m\u001b[0m\n\u001b[0m\u001b[0;32m      5\u001b[0m \u001b[1;33m\u001b[0m\u001b[0m\n",
      "\u001b[1;31mValueError\u001b[0m: 1 is not in list"
     ]
    }
   ],
   "source": [
    "for e in range(len(l)):\n",
    "    if type(l[e])==list:\n",
    "        for i in range(len(l[e])):\n",
    "            print(l.index(l[e][i]))\n",
    "            "
   ]
  },
  {
   "cell_type": "code",
   "execution_count": 83,
   "id": "d36e6a4a",
   "metadata": {},
   "outputs": [],
   "source": [
    "l=[1,2,3,4,5]"
   ]
  },
  {
   "cell_type": "code",
   "execution_count": 84,
   "id": "11dbc5fc",
   "metadata": {},
   "outputs": [],
   "source": [
    "l1=[]"
   ]
  },
  {
   "cell_type": "code",
   "execution_count": 85,
   "id": "0185a893",
   "metadata": {},
   "outputs": [],
   "source": [
    "for i in 'ravi':\n",
    "    l1.append(i)"
   ]
  },
  {
   "cell_type": "code",
   "execution_count": 86,
   "id": "f4b32ea5",
   "metadata": {},
   "outputs": [
    {
     "data": {
      "text/plain": [
       "['r', 'a', 'v', 'i']"
      ]
     },
     "execution_count": 86,
     "metadata": {},
     "output_type": "execute_result"
    }
   ],
   "source": [
    "l1"
   ]
  },
  {
   "cell_type": "code",
   "execution_count": 88,
   "id": "e7a26885",
   "metadata": {},
   "outputs": [
    {
     "data": {
      "text/plain": [
       "[['m'], ['a'], ['d'], ['h'], ['u']]"
      ]
     },
     "execution_count": 88,
     "metadata": {},
     "output_type": "execute_result"
    }
   ],
   "source": [
    "[[i] for i in 'madhu']"
   ]
  },
  {
   "cell_type": "code",
   "execution_count": 90,
   "id": "a10b16dd",
   "metadata": {},
   "outputs": [],
   "source": [
    "l=[]\n",
    "for i in range(10):\n",
    "    if i%2==0:\n",
    "        l.append(i)"
   ]
  },
  {
   "cell_type": "code",
   "execution_count": 91,
   "id": "f14a0647",
   "metadata": {},
   "outputs": [
    {
     "data": {
      "text/plain": [
       "[0, 2, 4, 6, 8]"
      ]
     },
     "execution_count": 91,
     "metadata": {},
     "output_type": "execute_result"
    }
   ],
   "source": [
    "l"
   ]
  },
  {
   "cell_type": "code",
   "execution_count": 92,
   "id": "2218bcd1",
   "metadata": {},
   "outputs": [
    {
     "data": {
      "text/plain": [
       "[1, 3, 5, 7, 9]"
      ]
     },
     "execution_count": 92,
     "metadata": {},
     "output_type": "execute_result"
    }
   ],
   "source": [
    "[i for i in range(10) if i%2!=0]\n"
   ]
  },
  {
   "cell_type": "code",
   "execution_count": 94,
   "id": "3ed9c14d",
   "metadata": {},
   "outputs": [
    {
     "data": {
      "text/plain": [
       "[0, 2, 4, 6, 8]"
      ]
     },
     "execution_count": 94,
     "metadata": {},
     "output_type": "execute_result"
    }
   ],
   "source": [
    "[i for i in range(10) if i%2==0]"
   ]
  },
  {
   "cell_type": "code",
   "execution_count": 95,
   "id": "da9b6f04",
   "metadata": {},
   "outputs": [
    {
     "data": {
      "text/plain": [
       "['even', 1, 'even', 3, 'even', 5, 'even', 7, 'even', 9]"
      ]
     },
     "execution_count": 95,
     "metadata": {},
     "output_type": "execute_result"
    }
   ],
   "source": [
    "[i if i%2!=0 else 'even' for i in range(10)]"
   ]
  },
  {
   "cell_type": "code",
   "execution_count": 98,
   "id": "86fe9ce9",
   "metadata": {},
   "outputs": [
    {
     "name": "stdout",
     "output_type": "stream",
     "text": [
      "[[0, 1, 2], [0, 1, 2], [0, 1, 2]]\n"
     ]
    }
   ],
   "source": [
    "mat=[]\n",
    "for i in range(3):\n",
    "    mat.append([])\n",
    "    for j in range(3):\n",
    "        mat[i].append(j)\n",
    "print(mat)"
   ]
  },
  {
   "cell_type": "code",
   "execution_count": null,
   "id": "5891c795",
   "metadata": {},
   "outputs": [],
   "source": [
    "[[j for j in range(3)] for i in range(3)]"
   ]
  },
  {
   "cell_type": "code",
   "execution_count": null,
   "id": "caf3d9e3",
   "metadata": {},
   "outputs": [],
   "source": []
  }
 ],
 "metadata": {
  "kernelspec": {
   "display_name": "Python 3 (ipykernel)",
   "language": "python",
   "name": "python3"
  },
  "language_info": {
   "codemirror_mode": {
    "name": "ipython",
    "version": 3
   },
   "file_extension": ".py",
   "mimetype": "text/x-python",
   "name": "python",
   "nbconvert_exporter": "python",
   "pygments_lexer": "ipython3",
   "version": "3.9.12"
  }
 },
 "nbformat": 4,
 "nbformat_minor": 5
}
