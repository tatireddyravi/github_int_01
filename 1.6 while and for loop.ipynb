{
 "cells": [
  {
   "cell_type": "code",
   "execution_count": null,
   "id": "05b84c08",
   "metadata": {},
   "outputs": [],
   "source": [
    "a=10\n",
    "b=20\n",
    "if a==10 or b>20:\n",
    "    print(\"this is a valid statement\")\n",
    "elif a==10 and b<=20:\n",
    "    print(\"this statement is valid inside elif\")\n",
    "else:\n",
    "    print( \"Condition is not valid\")"
   ]
  },
  {
   "cell_type": "code",
   "execution_count": null,
   "id": "8194240b",
   "metadata": {},
   "outputs": [],
   "source": [
    "a==10 and b>20"
   ]
  },
  {
   "cell_type": "code",
   "execution_count": null,
   "id": "e202a641",
   "metadata": {},
   "outputs": [],
   "source": [
    "m=input(\"enter your first Name:\")\n",
    "n=input(\"Enter last name:\")\n",
    "if m=='Tatireddy':\n",
    "    if n=='Ravi':print(\"You entered correct name\")\n",
    "    else:print(\"enter the correct name with right format\")\n",
    "else:print(\"enter correct first name with right format\")   #single statement suite"
   ]
  },
  {
   "cell_type": "code",
   "execution_count": 1,
   "id": "c4b6c080",
   "metadata": {},
   "outputs": [
    {
     "name": "stdout",
     "output_type": "stream",
     "text": [
      " this is my Speed\n",
      " this is my Speed\n",
      " this is my Speed\n",
      " this is my Speed\n",
      " this is my Speed\n",
      " this is my Speed\n",
      " this is my Speed\n",
      " this is my Speed\n",
      " this is my Speed\n"
     ]
    }
   ],
   "source": [
    "initial_speed=0\n",
    "final_speed=100\n",
    "count=1\n",
    "while initial_speed<=final_speed:\n",
    "    print(\" this is my Speed\")\n",
    "    count+=1\n",
    "    if count==10:\n",
    "        break"
   ]
  },
  {
   "cell_type": "code",
   "execution_count": 2,
   "id": "65031cf1",
   "metadata": {},
   "outputs": [
    {
     "name": "stdout",
     "output_type": "stream",
     "text": [
      "1\n",
      "2\n",
      "3\n",
      "4\n"
     ]
    }
   ],
   "source": [
    "i=1\n",
    "j=5\n",
    "while i<j:\n",
    "    print(i)\n",
    "    i+=1"
   ]
  },
  {
   "cell_type": "code",
   "execution_count": 6,
   "id": "7afd3e54",
   "metadata": {},
   "outputs": [
    {
     "name": "stdout",
     "output_type": "stream",
     "text": [
      "1\n",
      "2\n",
      "3\n",
      "4\n",
      "5\n",
      "no 10 rs notes are available\n"
     ]
    }
   ],
   "source": [
    "notes=5\n",
    "i=1\n",
    "j=1\n",
    "while i<notes:\n",
    "    print(i)\n",
    "    i+=1\n",
    "else:\n",
    "    while j<2:\n",
    "        print(i)\n",
    "        j+=1\n",
    "    print(\"no 10 rs notes are available\")"
   ]
  },
  {
   "cell_type": "code",
   "execution_count": 7,
   "id": "e6482061",
   "metadata": {},
   "outputs": [],
   "source": [
    "# collections--> list, tupple, dictionary, set,"
   ]
  },
  {
   "cell_type": "code",
   "execution_count": 8,
   "id": "223c7110",
   "metadata": {},
   "outputs": [],
   "source": [
    "s='ravi'"
   ]
  },
  {
   "cell_type": "code",
   "execution_count": 9,
   "id": "6c94df23",
   "metadata": {},
   "outputs": [
    {
     "name": "stdout",
     "output_type": "stream",
     "text": [
      "r a v i "
     ]
    }
   ],
   "source": [
    "print(s[0],s[1],s[2],s[3],end=' ')"
   ]
  },
  {
   "cell_type": "code",
   "execution_count": 10,
   "id": "d0abf916",
   "metadata": {},
   "outputs": [
    {
     "ename": "IndexError",
     "evalue": "string index out of range",
     "output_type": "error",
     "traceback": [
      "\u001b[1;31m---------------------------------------------------------------------------\u001b[0m",
      "\u001b[1;31mIndexError\u001b[0m                                Traceback (most recent call last)",
      "\u001b[1;32m<ipython-input-10-da1b392e7478>\u001b[0m in \u001b[0;36m<module>\u001b[1;34m\u001b[0m\n\u001b[1;32m----> 1\u001b[1;33m \u001b[0ms\u001b[0m\u001b[1;33m[\u001b[0m\u001b[1;36m20\u001b[0m\u001b[1;33m]\u001b[0m\u001b[1;33m\u001b[0m\u001b[1;33m\u001b[0m\u001b[0m\n\u001b[0m",
      "\u001b[1;31mIndexError\u001b[0m: string index out of range"
     ]
    }
   ],
   "source": [
    "s[20]"
   ]
  },
  {
   "cell_type": "code",
   "execution_count": 11,
   "id": "34d83b47",
   "metadata": {},
   "outputs": [],
   "source": [
    "s='my name is ravi'"
   ]
  },
  {
   "cell_type": "code",
   "execution_count": 12,
   "id": "9b524a33",
   "metadata": {},
   "outputs": [
    {
     "data": {
      "text/plain": [
       "' '"
      ]
     },
     "execution_count": 12,
     "metadata": {},
     "output_type": "execute_result"
    }
   ],
   "source": [
    "s[2]"
   ]
  },
  {
   "cell_type": "code",
   "execution_count": 13,
   "id": "91cf1528",
   "metadata": {},
   "outputs": [
    {
     "data": {
      "text/plain": [
       "15"
      ]
     },
     "execution_count": 13,
     "metadata": {},
     "output_type": "execute_result"
    }
   ],
   "source": [
    "len(s)"
   ]
  },
  {
   "cell_type": "code",
   "execution_count": 14,
   "id": "71405f6a",
   "metadata": {},
   "outputs": [
    {
     "data": {
      "text/plain": [
       "'my'"
      ]
     },
     "execution_count": 14,
     "metadata": {},
     "output_type": "execute_result"
    }
   ],
   "source": [
    "s[0:2]"
   ]
  },
  {
   "cell_type": "code",
   "execution_count": 15,
   "id": "119d453b",
   "metadata": {},
   "outputs": [
    {
     "data": {
      "text/plain": [
       "'name'"
      ]
     },
     "execution_count": 15,
     "metadata": {},
     "output_type": "execute_result"
    }
   ],
   "source": [
    "s[3:7]"
   ]
  },
  {
   "cell_type": "code",
   "execution_count": 16,
   "id": "981dbb72",
   "metadata": {},
   "outputs": [
    {
     "data": {
      "text/plain": [
       "'is'"
      ]
     },
     "execution_count": 16,
     "metadata": {},
     "output_type": "execute_result"
    }
   ],
   "source": [
    "s[8:10]"
   ]
  },
  {
   "cell_type": "code",
   "execution_count": 18,
   "id": "ecc6c8b2",
   "metadata": {},
   "outputs": [
    {
     "data": {
      "text/plain": [
       "'ravi'"
      ]
     },
     "execution_count": 18,
     "metadata": {},
     "output_type": "execute_result"
    }
   ],
   "source": [
    "s[11:150]"
   ]
  },
  {
   "cell_type": "code",
   "execution_count": 19,
   "id": "6cde8c8d",
   "metadata": {},
   "outputs": [
    {
     "data": {
      "text/plain": [
       "'my name is ravi'"
      ]
     },
     "execution_count": 19,
     "metadata": {},
     "output_type": "execute_result"
    }
   ],
   "source": [
    "s[::]"
   ]
  },
  {
   "cell_type": "code",
   "execution_count": 20,
   "id": "8185c198",
   "metadata": {},
   "outputs": [
    {
     "data": {
      "text/plain": [
       "'m aei ai'"
      ]
     },
     "execution_count": 20,
     "metadata": {},
     "output_type": "execute_result"
    }
   ],
   "source": [
    "s[::2]"
   ]
  },
  {
   "cell_type": "code",
   "execution_count": 21,
   "id": "963359ea",
   "metadata": {},
   "outputs": [
    {
     "data": {
      "text/plain": [
       "''"
      ]
     },
     "execution_count": 21,
     "metadata": {},
     "output_type": "execute_result"
    }
   ],
   "source": [
    "s[10:3]"
   ]
  },
  {
   "cell_type": "code",
   "execution_count": 22,
   "id": "32c18959",
   "metadata": {},
   "outputs": [
    {
     "data": {
      "text/plain": [
       "' si ema'"
      ]
     },
     "execution_count": 22,
     "metadata": {},
     "output_type": "execute_result"
    }
   ],
   "source": [
    "s[10:3:-1]"
   ]
  },
  {
   "cell_type": "code",
   "execution_count": 23,
   "id": "66ac6a98",
   "metadata": {},
   "outputs": [
    {
     "data": {
      "text/plain": [
       "' iea'"
      ]
     },
     "execution_count": 23,
     "metadata": {},
     "output_type": "execute_result"
    }
   ],
   "source": [
    "s[10:2:-2]"
   ]
  },
  {
   "cell_type": "code",
   "execution_count": 24,
   "id": "46ee6973",
   "metadata": {},
   "outputs": [
    {
     "data": {
      "text/plain": [
       "'ivar si eman ym'"
      ]
     },
     "execution_count": 24,
     "metadata": {},
     "output_type": "execute_result"
    }
   ],
   "source": [
    "s[::-1]"
   ]
  },
  {
   "cell_type": "code",
   "execution_count": 25,
   "id": "34305bbb",
   "metadata": {},
   "outputs": [
    {
     "data": {
      "text/plain": [
       "' name i'"
      ]
     },
     "execution_count": 25,
     "metadata": {},
     "output_type": "execute_result"
    }
   ],
   "source": [
    "s[2:-6]"
   ]
  },
  {
   "cell_type": "code",
   "execution_count": 27,
   "id": "a38a43c4",
   "metadata": {},
   "outputs": [
    {
     "data": {
      "text/plain": [
       "'s'"
      ]
     },
     "execution_count": 27,
     "metadata": {},
     "output_type": "execute_result"
    }
   ],
   "source": [
    "s[-6]"
   ]
  },
  {
   "cell_type": "code",
   "execution_count": 28,
   "id": "a170fba4",
   "metadata": {},
   "outputs": [
    {
     "data": {
      "text/plain": [
       "'my name is ravi'"
      ]
     },
     "execution_count": 28,
     "metadata": {},
     "output_type": "execute_result"
    }
   ],
   "source": [
    "s"
   ]
  },
  {
   "cell_type": "code",
   "execution_count": 30,
   "id": "443d3f50",
   "metadata": {},
   "outputs": [
    {
     "name": "stdout",
     "output_type": "stream",
     "text": [
      "m\n",
      "y\n",
      " \n",
      "n\n",
      "a\n",
      "m\n",
      "e\n",
      " \n",
      "i\n",
      "i got s as string\n",
      "s\n",
      " \n",
      "r\n",
      "a\n",
      "v\n",
      "i\n"
     ]
    }
   ],
   "source": [
    "for i in s:\n",
    "    if i=='s':\n",
    "        print('i got s as string')\n",
    "    print(i)"
   ]
  },
  {
   "cell_type": "code",
   "execution_count": 33,
   "id": "8b32d4d2",
   "metadata": {},
   "outputs": [
    {
     "name": "stdout",
     "output_type": "stream",
     "text": [
      "m\n",
      "y\n",
      " \n"
     ]
    }
   ],
   "source": [
    "for i in s:\n",
    "    if i=='n':\n",
    "        break\n",
    "    print(i)\n",
    "else:\n",
    "    if i=='m':\n",
    "        print('last char was m')\n",
    "    print(\"this is my else condition\")"
   ]
  },
  {
   "cell_type": "code",
   "execution_count": 34,
   "id": "d338d1a5",
   "metadata": {},
   "outputs": [
    {
     "name": "stdout",
     "output_type": "stream",
     "text": [
      "m\n",
      "y\n",
      " \n",
      "a\n",
      "m\n",
      "e\n",
      " \n",
      "i\n",
      "s\n",
      " \n",
      "r\n",
      "a\n",
      "v\n",
      "i\n",
      "this is my else condition\n"
     ]
    }
   ],
   "source": [
    "for i in s:\n",
    "    if i=='n':\n",
    "        continue\n",
    "    print(i)\n",
    "else:\n",
    "    if i=='m':\n",
    "        print('last char was m')\n",
    "    print(\"this is my else condition\")"
   ]
  },
  {
   "cell_type": "code",
   "execution_count": 37,
   "id": "4e8712b6",
   "metadata": {},
   "outputs": [
    {
     "name": "stdout",
     "output_type": "stream",
     "text": [
      "m\n",
      "y\n",
      " \n",
      "n\n",
      "a\n",
      "m\n",
      "e\n",
      " \n",
      "i\n",
      "s\n",
      " \n",
      "r\n",
      "a\n",
      "v\n",
      "i\n",
      "this is my else condition\n"
     ]
    }
   ],
   "source": [
    "for i in s:\n",
    "    if i=='n':\n",
    "        pass\n",
    "    print(i)\n",
    "else:\n",
    "    if i=='m':\n",
    "        print('last char was m')\n",
    "\n",
    "    print(\"this is my else condition\")"
   ]
  },
  {
   "cell_type": "code",
   "execution_count": null,
   "id": "398c98a1",
   "metadata": {},
   "outputs": [],
   "source": [
    "s='ineuron'\n",
    "for i in range(len(s)):"
   ]
  },
  {
   "cell_type": "code",
   "execution_count": null,
   "id": "4da0c062",
   "metadata": {},
   "outputs": [],
   "source": []
  },
  {
   "cell_type": "code",
   "execution_count": null,
   "id": "f7384550",
   "metadata": {},
   "outputs": [],
   "source": [
    "a"
   ]
  }
 ],
 "metadata": {
  "kernelspec": {
   "display_name": "Python 3 (ipykernel)",
   "language": "python",
   "name": "python3"
  },
  "language_info": {
   "codemirror_mode": {
    "name": "ipython",
    "version": 3
   },
   "file_extension": ".py",
   "mimetype": "text/x-python",
   "name": "python",
   "nbconvert_exporter": "python",
   "pygments_lexer": "ipython3",
   "version": "3.9.12"
  }
 },
 "nbformat": 4,
 "nbformat_minor": 5
}
