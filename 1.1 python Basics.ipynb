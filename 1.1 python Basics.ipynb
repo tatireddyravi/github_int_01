{
 "cells": [
  {
   "cell_type": "code",
   "execution_count": 10,
   "id": "0393fa99",
   "metadata": {},
   "outputs": [
    {
     "name": "stdout",
     "output_type": "stream",
     "text": [
      "Hello world'#'I am Ravi\n"
     ]
    }
   ],
   "source": [
    "print(\"Hello world\",'I am Ravi',sep='\\'#\\'')"
   ]
  },
  {
   "cell_type": "code",
   "execution_count": 11,
   "id": "290dd137",
   "metadata": {},
   "outputs": [
    {
     "name": "stdout",
     "output_type": "stream",
     "text": [
      "Hello world\n",
      "I am Ravi\n",
      "madhu\n"
     ]
    }
   ],
   "source": [
    "print(\"Hello world\",'I am Ravi','madhu',sep='\\n')"
   ]
  },
  {
   "cell_type": "code",
   "execution_count": 12,
   "id": "c216a94e",
   "metadata": {},
   "outputs": [
    {
     "name": "stdout",
     "output_type": "stream",
     "text": [
      "Hello world\tI am Ravi\tmadhu\n"
     ]
    }
   ],
   "source": [
    "print(\"Hello world\",'I am Ravi','madhu',sep='\\t')"
   ]
  },
  {
   "cell_type": "code",
   "execution_count": 13,
   "id": "6465a9d5",
   "metadata": {},
   "outputs": [
    {
     "ename": "SyntaxError",
     "evalue": "invalid syntax (3121532120.py, line 1)",
     "output_type": "error",
     "traceback": [
      "\u001b[1;36m  Input \u001b[1;32mIn [13]\u001b[1;36m\u001b[0m\n\u001b[1;33m    print(This is my first python program\")\u001b[0m\n\u001b[1;37m                     ^\u001b[0m\n\u001b[1;31mSyntaxError\u001b[0m\u001b[1;31m:\u001b[0m invalid syntax\n"
     ]
    }
   ],
   "source": [
    "print(This is my first python program\")"
   ]
  },
  {
   "cell_type": "code",
   "execution_count": 14,
   "id": "e5a6023d",
   "metadata": {},
   "outputs": [
    {
     "ename": "SyntaxError",
     "evalue": "EOL while scanning string literal (1770034500.py, line 1)",
     "output_type": "error",
     "traceback": [
      "\u001b[1;36m  Input \u001b[1;32mIn [14]\u001b[1;36m\u001b[0m\n\u001b[1;33m    print(\"This is my first python program)\u001b[0m\n\u001b[1;37m                                           ^\u001b[0m\n\u001b[1;31mSyntaxError\u001b[0m\u001b[1;31m:\u001b[0m EOL while scanning string literal\n"
     ]
    }
   ],
   "source": [
    "print(\"This is my first python program)"
   ]
  },
  {
   "cell_type": "code",
   "execution_count": 15,
   "id": "63ae16f7",
   "metadata": {},
   "outputs": [
    {
     "ename": "SyntaxError",
     "evalue": "invalid syntax (2598292411.py, line 1)",
     "output_type": "error",
     "traceback": [
      "\u001b[1;36m  Input \u001b[1;32mIn [15]\u001b[1;36m\u001b[0m\n\u001b[1;33m    print(This is my first python program)\u001b[0m\n\u001b[1;37m                     ^\u001b[0m\n\u001b[1;31mSyntaxError\u001b[0m\u001b[1;31m:\u001b[0m invalid syntax\n"
     ]
    }
   ],
   "source": [
    "print(This is my first python program)"
   ]
  },
  {
   "cell_type": "code",
   "execution_count": 16,
   "id": "e4771c85",
   "metadata": {},
   "outputs": [
    {
     "ename": "SyntaxError",
     "evalue": "invalid syntax (262762411.py, line 1)",
     "output_type": "error",
     "traceback": [
      "\u001b[1;36m  Input \u001b[1;32mIn [16]\u001b[1;36m\u001b[0m\n\u001b[1;33m    print(This is my first python program')\u001b[0m\n\u001b[1;37m                     ^\u001b[0m\n\u001b[1;31mSyntaxError\u001b[0m\u001b[1;31m:\u001b[0m invalid syntax\n"
     ]
    }
   ],
   "source": [
    "print(This is my first python program')"
   ]
  },
  {
   "cell_type": "code",
   "execution_count": 17,
   "id": "30f01807",
   "metadata": {},
   "outputs": [
    {
     "ename": "SyntaxError",
     "evalue": "unexpected EOF while parsing (2738201397.py, line 1)",
     "output_type": "error",
     "traceback": [
      "\u001b[1;36m  Input \u001b[1;32mIn [17]\u001b[1;36m\u001b[0m\n\u001b[1;33m    print(\"This is my first python program\"\u001b[0m\n\u001b[1;37m                                           ^\u001b[0m\n\u001b[1;31mSyntaxError\u001b[0m\u001b[1;31m:\u001b[0m unexpected EOF while parsing\n"
     ]
    }
   ],
   "source": [
    "print(\"This is my first python program\""
   ]
  },
  {
   "cell_type": "code",
   "execution_count": 18,
   "id": "24f00f26",
   "metadata": {},
   "outputs": [
    {
     "name": "stdout",
     "output_type": "stream",
     "text": [
      "This is my first python program @ hello world\n"
     ]
    }
   ],
   "source": [
    "print('This is my first python program',\"hello world\",sep=' @ ')"
   ]
  },
  {
   "cell_type": "code",
   "execution_count": 19,
   "id": "1acf7cd2",
   "metadata": {},
   "outputs": [
    {
     "ename": "SyntaxError",
     "evalue": "Missing parentheses in call to 'print'. Did you mean print(\"my name is ravi\")? (4032209568.py, line 1)",
     "output_type": "error",
     "traceback": [
      "\u001b[1;36m  Input \u001b[1;32mIn [19]\u001b[1;36m\u001b[0m\n\u001b[1;33m    print \"my name is ravi\"\u001b[0m\n\u001b[1;37m          ^\u001b[0m\n\u001b[1;31mSyntaxError\u001b[0m\u001b[1;31m:\u001b[0m Missing parentheses in call to 'print'. Did you mean print(\"my name is ravi\")?\n"
     ]
    }
   ],
   "source": [
    "print \"my name is ravi\""
   ]
  },
  {
   "cell_type": "code",
   "execution_count": 20,
   "id": "f55339b5",
   "metadata": {},
   "outputs": [
    {
     "name": "stdout",
     "output_type": "stream",
     "text": [
      " my name is ravi -Data scientist\n"
     ]
    }
   ],
   "source": [
    "print(\" my name is ravi\", end=' ')\n",
    "print(\"-Data scientist\")"
   ]
  },
  {
   "cell_type": "code",
   "execution_count": 21,
   "id": "ae58af7d",
   "metadata": {},
   "outputs": [],
   "source": [
    "# My name is Tatireddy Ravi-----> (single line comment) to avoid execution or help in explain code"
   ]
  },
  {
   "cell_type": "code",
   "execution_count": 22,
   "id": "0d81a284",
   "metadata": {},
   "outputs": [
    {
     "data": {
      "text/plain": [
       "' aeaudhepoebodjd \\nnshjsndsd\\nngsjskukkd'"
      ]
     },
     "execution_count": 22,
     "metadata": {},
     "output_type": "execute_result"
    }
   ],
   "source": [
    "# multiline comment using TRIPLE SINGLE quotes.\n",
    "'''adbjdkdmkmd\n",
    "dndjdmmdkdkd\n",
    "dnbdkslnhdkd\n",
    "dldjmdkldk'''\n",
    "# multiline comment  using TRIPLE DOUBLE quotes.\n",
    "\"\"\" aeaudhepoebodjd \n",
    "nshjsndsd\n",
    "ngsjskukkd\"\"\"     "
   ]
  },
  {
   "cell_type": "markdown",
   "id": "79351128",
   "metadata": {},
   "source": [
    "## variable\n",
    "\n",
    "- Variables are containers for storing data values.\n",
    "- Variables do not need to be declared with any particular type, and can even change type after they have been set.\n"
   ]
  },
  {
   "cell_type": "code",
   "execution_count": 33,
   "id": "4bae8c1d",
   "metadata": {},
   "outputs": [
    {
     "name": "stdout",
     "output_type": "stream",
     "text": [
      "ravi ravi ravi ravi ravi ravi ravi ravi ravi ravi \n",
      "ravi ravi ravi ravi ravi ravi ravi ravi ravi ravi \n"
     ]
    }
   ],
   "source": [
    "#n Variable is a local istance or global instance where we can store the data value.\n",
    "a=10\n",
    "b='ravi '\n",
    "print(a*b)\n",
    "print(a*b,sep='@')"
   ]
  },
  {
   "cell_type": "code",
   "execution_count": 15,
   "id": "d3dd71a8",
   "metadata": {},
   "outputs": [
    {
     "data": {
      "text/plain": [
       "10"
      ]
     },
     "execution_count": 15,
     "metadata": {},
     "output_type": "execute_result"
    }
   ],
   "source": [
    "a"
   ]
  },
  {
   "cell_type": "code",
   "execution_count": 16,
   "id": "ea77f92d",
   "metadata": {},
   "outputs": [
    {
     "data": {
      "text/plain": [
       "int"
      ]
     },
     "execution_count": 16,
     "metadata": {},
     "output_type": "execute_result"
    }
   ],
   "source": [
    "type(a)"
   ]
  },
  {
   "cell_type": "code",
   "execution_count": 17,
   "id": "a9e965e2",
   "metadata": {},
   "outputs": [
    {
     "data": {
      "text/plain": [
       "1751287622224"
      ]
     },
     "execution_count": 17,
     "metadata": {},
     "output_type": "execute_result"
    }
   ],
   "source": [
    "id(a)"
   ]
  },
  {
   "cell_type": "code",
   "execution_count": 18,
   "id": "a1316542",
   "metadata": {},
   "outputs": [
    {
     "data": {
      "text/plain": [
       "'ravi '"
      ]
     },
     "execution_count": 18,
     "metadata": {},
     "output_type": "execute_result"
    }
   ],
   "source": [
    "b"
   ]
  },
  {
   "cell_type": "code",
   "execution_count": 19,
   "id": "7e3f8f06",
   "metadata": {},
   "outputs": [
    {
     "data": {
      "text/plain": [
       "str"
      ]
     },
     "execution_count": 19,
     "metadata": {},
     "output_type": "execute_result"
    }
   ],
   "source": [
    "type(b)"
   ]
  },
  {
   "cell_type": "code",
   "execution_count": 24,
   "id": "8f1744b8",
   "metadata": {},
   "outputs": [],
   "source": [
    "name=\"Madhu\""
   ]
  },
  {
   "cell_type": "code",
   "execution_count": 25,
   "id": "1a892f09",
   "metadata": {},
   "outputs": [
    {
     "data": {
      "text/plain": [
       "'Madhu'"
      ]
     },
     "execution_count": 25,
     "metadata": {},
     "output_type": "execute_result"
    }
   ],
   "source": [
    "name"
   ]
  },
  {
   "cell_type": "code",
   "execution_count": 26,
   "id": "66800b94",
   "metadata": {},
   "outputs": [
    {
     "data": {
      "text/plain": [
       "2811263363376"
      ]
     },
     "execution_count": 26,
     "metadata": {},
     "output_type": "execute_result"
    }
   ],
   "source": [
    "id(name)"
   ]
  },
  {
   "cell_type": "code",
   "execution_count": 27,
   "id": "aae87c02",
   "metadata": {},
   "outputs": [],
   "source": [
    "name=\"Eshwar prasadh Reddy\""
   ]
  },
  {
   "cell_type": "code",
   "execution_count": 28,
   "id": "2d2716bf",
   "metadata": {},
   "outputs": [
    {
     "data": {
      "text/plain": [
       "'Eshwar prasadh Reddy'"
      ]
     },
     "execution_count": 28,
     "metadata": {},
     "output_type": "execute_result"
    }
   ],
   "source": [
    "name"
   ]
  },
  {
   "cell_type": "code",
   "execution_count": 29,
   "id": "11ca684b",
   "metadata": {},
   "outputs": [
    {
     "data": {
      "text/plain": [
       "2811264297280"
      ]
     },
     "execution_count": 29,
     "metadata": {},
     "output_type": "execute_result"
    }
   ],
   "source": [
    "id(name)"
   ]
  },
  {
   "cell_type": "code",
   "execution_count": 30,
   "id": "58f6f3d6",
   "metadata": {},
   "outputs": [
    {
     "name": "stdout",
     "output_type": "stream",
     "text": [
      "taajaga\n"
     ]
    }
   ],
   "source": [
    "print(\"taajaga\")"
   ]
  },
  {
   "cell_type": "code",
   "execution_count": 31,
   "id": "756e28a8",
   "metadata": {},
   "outputs": [
    {
     "data": {
      "text/plain": [
       "str"
      ]
     },
     "execution_count": 31,
     "metadata": {},
     "output_type": "execute_result"
    }
   ],
   "source": [
    "type(name)"
   ]
  },
  {
   "cell_type": "code",
   "execution_count": 34,
   "id": "280d49ee",
   "metadata": {},
   "outputs": [
    {
     "name": "stdout",
     "output_type": "stream",
     "text": [
      "10 ravi  Eshwar prasadh Reddy\n"
     ]
    }
   ],
   "source": [
    "print(a,b,name)"
   ]
  },
  {
   "cell_type": "code",
   "execution_count": 33,
   "id": "ca7ec190",
   "metadata": {},
   "outputs": [
    {
     "name": "stdout",
     "output_type": "stream",
     "text": [
      "10$ravi $Eshwar prasadh Reddy\n"
     ]
    }
   ],
   "source": [
    "print(a,b,name,sep='$')"
   ]
  },
  {
   "cell_type": "code",
   "execution_count": 35,
   "id": "50438391",
   "metadata": {},
   "outputs": [],
   "source": [
    "# creating multiple variables in a single line\n",
    "a,b,s=30,\"ravi\",'this is my name' "
   ]
  },
  {
   "cell_type": "code",
   "execution_count": 36,
   "id": "6db9434f",
   "metadata": {},
   "outputs": [
    {
     "data": {
      "text/plain": [
       "30"
      ]
     },
     "execution_count": 36,
     "metadata": {},
     "output_type": "execute_result"
    }
   ],
   "source": [
    "# check the data value of variable\n",
    "a"
   ]
  },
  {
   "cell_type": "code",
   "execution_count": 37,
   "id": "5ff3d72e",
   "metadata": {},
   "outputs": [
    {
     "name": "stdout",
     "output_type": "stream",
     "text": [
      "ravi\n"
     ]
    }
   ],
   "source": [
    "print(b)"
   ]
  },
  {
   "cell_type": "code",
   "execution_count": 38,
   "id": "5f463a5f",
   "metadata": {},
   "outputs": [
    {
     "data": {
      "text/plain": [
       "'this is my name'"
      ]
     },
     "execution_count": 38,
     "metadata": {},
     "output_type": "execute_result"
    }
   ],
   "source": [
    "s"
   ]
  },
  {
   "cell_type": "code",
   "execution_count": 39,
   "id": "33e06365",
   "metadata": {},
   "outputs": [
    {
     "data": {
      "text/plain": [
       "(30, 'ravi', 'this is my name')"
      ]
     },
     "execution_count": 39,
     "metadata": {},
     "output_type": "execute_result"
    }
   ],
   "source": [
    "# values of more than one variable gives in the form of tupple.\n",
    "a,b,s"
   ]
  },
  {
   "cell_type": "code",
   "execution_count": 40,
   "id": "adcdd712",
   "metadata": {},
   "outputs": [
    {
     "name": "stdout",
     "output_type": "stream",
     "text": [
      "30 ravi this is my name\n"
     ]
    }
   ],
   "source": [
    "print(a,b,s)"
   ]
  },
  {
   "cell_type": "code",
   "execution_count": 41,
   "id": "5e09f308",
   "metadata": {},
   "outputs": [
    {
     "name": "stdout",
     "output_type": "stream",
     "text": [
      "30,ravi,this is my name\n"
     ]
    }
   ],
   "source": [
    "print(a,b,s,sep=',')"
   ]
  },
  {
   "cell_type": "code",
   "execution_count": 42,
   "id": "0746fecc",
   "metadata": {},
   "outputs": [],
   "source": [
    "a='\"sadagag\"'"
   ]
  },
  {
   "cell_type": "code",
   "execution_count": 43,
   "id": "d8e1b20b",
   "metadata": {},
   "outputs": [],
   "source": [
    "b=\"'madhu'\""
   ]
  },
  {
   "cell_type": "code",
   "execution_count": 44,
   "id": "41492883",
   "metadata": {},
   "outputs": [
    {
     "name": "stdout",
     "output_type": "stream",
     "text": [
      "\"sadagag\"\n"
     ]
    }
   ],
   "source": [
    "print(a)"
   ]
  },
  {
   "cell_type": "code",
   "execution_count": 45,
   "id": "abdca6c1",
   "metadata": {},
   "outputs": [
    {
     "name": "stdout",
     "output_type": "stream",
     "text": [
      "'madhu'\n"
     ]
    }
   ],
   "source": [
    "print(b)"
   ]
  },
  {
   "cell_type": "code",
   "execution_count": 46,
   "id": "344aba67",
   "metadata": {},
   "outputs": [
    {
     "data": {
      "text/plain": [
       "('\"sadagag\"', \"'madhu'\")"
      ]
     },
     "execution_count": 46,
     "metadata": {},
     "output_type": "execute_result"
    }
   ],
   "source": [
    "a,b"
   ]
  },
  {
   "cell_type": "markdown",
   "id": "5418cb17",
   "metadata": {},
   "source": [
    "## casting\n",
    "- If you want to specify the data type of a variable, this can be done with casting."
   ]
  },
  {
   "cell_type": "code",
   "execution_count": 47,
   "id": "4de04469",
   "metadata": {},
   "outputs": [],
   "source": [
    "x = str('ravi')    # x will be 'ravi'\n",
    "y = int(3)    # y will be 3\n",
    "z = float(3)  # z will be 3.0"
   ]
  },
  {
   "cell_type": "code",
   "execution_count": 48,
   "id": "f1891a71",
   "metadata": {},
   "outputs": [
    {
     "name": "stdout",
     "output_type": "stream",
     "text": [
      "ravi is the string value\n",
      " 3 is the integer value\n",
      "the floating point value is:3.0\n",
      "ravi is string 3.0 is float and 3 is integer\n",
      "ravi is string 3.0 is float and 3 is integer\n"
     ]
    }
   ],
   "source": [
    "print(f\"{x} is the string value\")\n",
    "print(f\" {y} is the integer value\")\n",
    "print(\"the floating point value is:{0}\".format(z))\n",
    "print(\"{} is string {} is float and {} is integer\".format(x,z,y))\n",
    "print(\"{0} is string {2} is float and {1} is integer\".format(x,y,z))"
   ]
  },
  {
   "cell_type": "code",
   "execution_count": 49,
   "id": "3c8f439b",
   "metadata": {},
   "outputs": [
    {
     "name": "stdout",
     "output_type": "stream",
     "text": [
      "ravi is string,3 is integer, and 3.0 is floating point number\n",
      "ravi is string,3 is integer,and 3.0 is floating point number\n"
     ]
    }
   ],
   "source": [
    "print(f\"{x} is string,{y} is integer, and {z} is floating point number\")\n",
    "print(\"{} is string,{} is integer,and {} is floating point number\".format(x,y,z))"
   ]
  },
  {
   "cell_type": "code",
   "execution_count": 50,
   "id": "f56a34a8",
   "metadata": {},
   "outputs": [],
   "source": [
    "x=3+5j"
   ]
  },
  {
   "cell_type": "code",
   "execution_count": 51,
   "id": "18a52952",
   "metadata": {},
   "outputs": [
    {
     "data": {
      "text/plain": [
       "complex"
      ]
     },
     "execution_count": 51,
     "metadata": {},
     "output_type": "execute_result"
    }
   ],
   "source": [
    "type(x)"
   ]
  },
  {
   "cell_type": "code",
   "execution_count": 52,
   "id": "cd4b6dee",
   "metadata": {},
   "outputs": [
    {
     "ename": "TypeError",
     "evalue": "'float' object is not callable",
     "output_type": "error",
     "traceback": [
      "\u001b[1;31m---------------------------------------------------------------------------\u001b[0m",
      "\u001b[1;31mTypeError\u001b[0m                                 Traceback (most recent call last)",
      "Input \u001b[1;32mIn [52]\u001b[0m, in \u001b[0;36m<cell line: 1>\u001b[1;34m()\u001b[0m\n\u001b[1;32m----> 1\u001b[0m \u001b[43mx\u001b[49m\u001b[38;5;241;43m.\u001b[39;49m\u001b[43mreal\u001b[49m\u001b[43m(\u001b[49m\u001b[43m)\u001b[49m\n",
      "\u001b[1;31mTypeError\u001b[0m: 'float' object is not callable"
     ]
    }
   ],
   "source": [
    "x.real()"
   ]
  },
  {
   "cell_type": "code",
   "execution_count": 53,
   "id": "8e74563e",
   "metadata": {},
   "outputs": [
    {
     "data": {
      "text/plain": [
       "3.0"
      ]
     },
     "execution_count": 53,
     "metadata": {},
     "output_type": "execute_result"
    }
   ],
   "source": [
    "x.real"
   ]
  },
  {
   "cell_type": "code",
   "execution_count": 54,
   "id": "1b42b865",
   "metadata": {},
   "outputs": [
    {
     "data": {
      "text/plain": [
       "5.0"
      ]
     },
     "execution_count": 54,
     "metadata": {},
     "output_type": "execute_result"
    }
   ],
   "source": [
    "x.imag"
   ]
  },
  {
   "cell_type": "code",
   "execution_count": 55,
   "id": "5d96b648",
   "metadata": {},
   "outputs": [],
   "source": [
    "y=complex(7,8)"
   ]
  },
  {
   "cell_type": "code",
   "execution_count": 56,
   "id": "944ffc16",
   "metadata": {},
   "outputs": [
    {
     "data": {
      "text/plain": [
       "(7+8j)"
      ]
     },
     "execution_count": 56,
     "metadata": {},
     "output_type": "execute_result"
    }
   ],
   "source": [
    "y"
   ]
  },
  {
   "cell_type": "markdown",
   "id": "c5af440a",
   "metadata": {},
   "source": [
    "## Variable names\n",
    "- A variable can have a short name (like x and y) or a more descriptive name (age, carname, total_volume).\n",
    "### Rules for Python variables:\n",
    "- A variable name must start with a letter or the underscore(_) character.\n",
    "- A variable name cannot start with a number.\n",
    "- A variable name can only contain alpha-numeric characters and underscores (A-z, 0-9, and _ ).\n",
    "- Variable names are case-sensitive (age, Age and AGE are three different variables)."
   ]
  },
  {
   "cell_type": "code",
   "execution_count": 57,
   "id": "7131aef9",
   "metadata": {},
   "outputs": [
    {
     "ename": "SyntaxError",
     "evalue": "invalid syntax (3799489249.py, line 1)",
     "output_type": "error",
     "traceback": [
      "\u001b[1;36m  Input \u001b[1;32mIn [57]\u001b[1;36m\u001b[0m\n\u001b[1;33m    1b='ravi'\u001b[0m\n\u001b[1;37m     ^\u001b[0m\n\u001b[1;31mSyntaxError\u001b[0m\u001b[1;31m:\u001b[0m invalid syntax\n"
     ]
    }
   ],
   "source": [
    "1b='ravi'"
   ]
  },
  {
   "cell_type": "code",
   "execution_count": 58,
   "id": "113a73d3",
   "metadata": {},
   "outputs": [],
   "source": [
    "_B='madhu'"
   ]
  },
  {
   "cell_type": "code",
   "execution_count": 59,
   "id": "d067bd71",
   "metadata": {},
   "outputs": [],
   "source": [
    "b='tatireddy'"
   ]
  },
  {
   "cell_type": "code",
   "execution_count": 60,
   "id": "1d29580f",
   "metadata": {},
   "outputs": [
    {
     "ename": "SyntaxError",
     "evalue": "invalid syntax (4218181388.py, line 1)",
     "output_type": "error",
     "traceback": [
      "\u001b[1;36m  Input \u001b[1;32mIn [60]\u001b[1;36m\u001b[0m\n\u001b[1;33m    2b='asdf'\u001b[0m\n\u001b[1;37m     ^\u001b[0m\n\u001b[1;31mSyntaxError\u001b[0m\u001b[1;31m:\u001b[0m invalid syntax\n"
     ]
    }
   ],
   "source": [
    "2b='asdf'"
   ]
  },
  {
   "cell_type": "code",
   "execution_count": 61,
   "id": "435d333d",
   "metadata": {},
   "outputs": [
    {
     "ename": "SyntaxError",
     "evalue": "invalid syntax (1379519580.py, line 1)",
     "output_type": "error",
     "traceback": [
      "\u001b[1;36m  Input \u001b[1;32mIn [61]\u001b[1;36m\u001b[0m\n\u001b[1;33m    @=12\u001b[0m\n\u001b[1;37m    ^\u001b[0m\n\u001b[1;31mSyntaxError\u001b[0m\u001b[1;31m:\u001b[0m invalid syntax\n"
     ]
    }
   ],
   "source": [
    "@=12"
   ]
  },
  {
   "cell_type": "code",
   "execution_count": 62,
   "id": "b7bb70a7",
   "metadata": {},
   "outputs": [],
   "source": [
    "_=12"
   ]
  },
  {
   "cell_type": "code",
   "execution_count": 63,
   "id": "8a7526b0",
   "metadata": {},
   "outputs": [],
   "source": [
    "__=12"
   ]
  },
  {
   "cell_type": "code",
   "execution_count": 64,
   "id": "e5150f29",
   "metadata": {},
   "outputs": [
    {
     "data": {
      "text/plain": [
       "True"
      ]
     },
     "execution_count": 64,
     "metadata": {},
     "output_type": "execute_result"
    }
   ],
   "source": [
    "a!=4652"
   ]
  },
  {
   "cell_type": "code",
   "execution_count": 65,
   "id": "ed8aebcf",
   "metadata": {},
   "outputs": [
    {
     "ename": "SyntaxError",
     "evalue": "invalid syntax (562385664.py, line 1)",
     "output_type": "error",
     "traceback": [
      "\u001b[1;36m  Input \u001b[1;32mIn [65]\u001b[1;36m\u001b[0m\n\u001b[1;33m    email id=16295     # space is not allowe in variable names\u001b[0m\n\u001b[1;37m          ^\u001b[0m\n\u001b[1;31mSyntaxError\u001b[0m\u001b[1;31m:\u001b[0m invalid syntax\n"
     ]
    }
   ],
   "source": [
    "email id=16295     # space is not allowe in variable names"
   ]
  },
  {
   "cell_type": "code",
   "execution_count": 66,
   "id": "016657c9",
   "metadata": {},
   "outputs": [],
   "source": [
    "name=\"ravi\"\n",
    "email_id=\"newage.ravi@gmail.com\"\n",
    "emp_id=16295\n",
    "password=\"password\""
   ]
  },
  {
   "cell_type": "markdown",
   "id": "205d860c",
   "metadata": {},
   "source": [
    "## Python Data Structures or Data types\n",
    "\n",
    "- Python has the following data types built-in by default,\n",
    "\n",
    "    - Text Type:\tstr\n",
    "    - Numeric Types:\tint, float, complex\n",
    "    - Sequence Types:\tlist, tuple, range\n",
    "    - Mapping Type:\tdict\n",
    "    - Set Types:\tset, frozenset\n",
    "    - Boolean Type:\tbool\n",
    "    - Binary Types:\tbytes, bytearray, memoryview\n",
    "    - None Type:\tNoneType"
   ]
  },
  {
   "cell_type": "code",
   "execution_count": 101,
   "id": "3fcc8454",
   "metadata": {},
   "outputs": [
    {
     "data": {
      "text/plain": [
       "'hello world'"
      ]
     },
     "execution_count": 101,
     "metadata": {},
     "output_type": "execute_result"
    }
   ],
   "source": [
    "str(\"hello world\")"
   ]
  },
  {
   "cell_type": "code",
   "execution_count": 102,
   "id": "ed377011",
   "metadata": {},
   "outputs": [
    {
     "data": {
      "text/plain": [
       "16295"
      ]
     },
     "execution_count": 102,
     "metadata": {},
     "output_type": "execute_result"
    }
   ],
   "source": [
    "int(16295)"
   ]
  },
  {
   "cell_type": "code",
   "execution_count": 114,
   "id": "a8932876",
   "metadata": {},
   "outputs": [
    {
     "ename": "ValueError",
     "evalue": "int() base must be >= 2 and <= 36, or 0",
     "output_type": "error",
     "traceback": [
      "\u001b[1;31m---------------------------------------------------------------------------\u001b[0m",
      "\u001b[1;31mValueError\u001b[0m                                Traceback (most recent call last)",
      "Input \u001b[1;32mIn [114]\u001b[0m, in \u001b[0;36m<cell line: 1>\u001b[1;34m()\u001b[0m\n\u001b[1;32m----> 1\u001b[0m \u001b[38;5;28;43mint\u001b[39;49m\u001b[43m(\u001b[49m\u001b[38;5;241;43m16295\u001b[39;49m\u001b[43m,\u001b[49m\u001b[38;5;241;43m2145\u001b[39;49m\u001b[43m)\u001b[49m\n",
      "\u001b[1;31mValueError\u001b[0m: int() base must be >= 2 and <= 36, or 0"
     ]
    }
   ],
   "source": [
    "int(16295,2145)"
   ]
  },
  {
   "cell_type": "code",
   "execution_count": 103,
   "id": "e30a7afc",
   "metadata": {},
   "outputs": [
    {
     "data": {
      "text/plain": [
       "264.0"
      ]
     },
     "execution_count": 103,
     "metadata": {},
     "output_type": "execute_result"
    }
   ],
   "source": [
    "float(264)"
   ]
  },
  {
   "cell_type": "code",
   "execution_count": 107,
   "id": "9024ad73",
   "metadata": {},
   "outputs": [
    {
     "data": {
      "text/plain": [
       "(1+2j)"
      ]
     },
     "execution_count": 107,
     "metadata": {},
     "output_type": "execute_result"
    }
   ],
   "source": [
    "complex(1,2)"
   ]
  },
  {
   "cell_type": "code",
   "execution_count": 115,
   "id": "2959d649",
   "metadata": {},
   "outputs": [
    {
     "ename": "TypeError",
     "evalue": "complex() takes at most 2 arguments (3 given)",
     "output_type": "error",
     "traceback": [
      "\u001b[1;31m---------------------------------------------------------------------------\u001b[0m",
      "\u001b[1;31mTypeError\u001b[0m                                 Traceback (most recent call last)",
      "Input \u001b[1;32mIn [115]\u001b[0m, in \u001b[0;36m<cell line: 1>\u001b[1;34m()\u001b[0m\n\u001b[1;32m----> 1\u001b[0m \u001b[38;5;28;43mcomplex\u001b[39;49m\u001b[43m(\u001b[49m\u001b[38;5;241;43m1\u001b[39;49m\u001b[43m,\u001b[49m\u001b[38;5;241;43m2\u001b[39;49m\u001b[43m,\u001b[49m\u001b[38;5;241;43m8\u001b[39;49m\u001b[43m)\u001b[49m\n",
      "\u001b[1;31mTypeError\u001b[0m: complex() takes at most 2 arguments (3 given)"
     ]
    }
   ],
   "source": [
    "complex(1,2,8)"
   ]
  },
  {
   "cell_type": "code",
   "execution_count": 111,
   "id": "a992b4c7",
   "metadata": {},
   "outputs": [
    {
     "ename": "TypeError",
     "evalue": "list expected at most 1 argument, got 4",
     "output_type": "error",
     "traceback": [
      "\u001b[1;31m---------------------------------------------------------------------------\u001b[0m",
      "\u001b[1;31mTypeError\u001b[0m                                 Traceback (most recent call last)",
      "Input \u001b[1;32mIn [111]\u001b[0m, in \u001b[0;36m<cell line: 1>\u001b[1;34m()\u001b[0m\n\u001b[1;32m----> 1\u001b[0m \u001b[38;5;28;43mlist\u001b[39;49m\u001b[43m(\u001b[49m\u001b[38;5;124;43m\"\u001b[39;49m\u001b[38;5;124;43mravi\u001b[39;49m\u001b[38;5;124;43m\"\u001b[39;49m\u001b[43m,\u001b[49m\u001b[38;5;241;43m24\u001b[39;49m\u001b[43m,\u001b[49m\u001b[38;5;241;43m56.8\u001b[39;49m\u001b[43m,\u001b[49m\u001b[38;5;28;43;01mTrue\u001b[39;49;00m\u001b[43m)\u001b[49m\n",
      "\u001b[1;31mTypeError\u001b[0m: list expected at most 1 argument, got 4"
     ]
    }
   ],
   "source": [
    "list(\"ravi\",24,56.8,True)"
   ]
  },
  {
   "cell_type": "code",
   "execution_count": 112,
   "id": "969cc70c",
   "metadata": {},
   "outputs": [
    {
     "data": {
      "text/plain": [
       "['ravi', 24, 56.8, True]"
      ]
     },
     "execution_count": 112,
     "metadata": {},
     "output_type": "execute_result"
    }
   ],
   "source": [
    "list((\"ravi\",24,56.8,True))"
   ]
  },
  {
   "cell_type": "code",
   "execution_count": 113,
   "id": "5c84f818",
   "metadata": {},
   "outputs": [
    {
     "ename": "TypeError",
     "evalue": "tuple expected at most 1 argument, got 4",
     "output_type": "error",
     "traceback": [
      "\u001b[1;31m---------------------------------------------------------------------------\u001b[0m",
      "\u001b[1;31mTypeError\u001b[0m                                 Traceback (most recent call last)",
      "Input \u001b[1;32mIn [113]\u001b[0m, in \u001b[0;36m<cell line: 1>\u001b[1;34m()\u001b[0m\n\u001b[1;32m----> 1\u001b[0m \u001b[38;5;28;43mtuple\u001b[39;49m\u001b[43m(\u001b[49m\u001b[38;5;124;43m\"\u001b[39;49m\u001b[38;5;124;43mmadhu\u001b[39;49m\u001b[38;5;124;43m\"\u001b[39;49m\u001b[43m,\u001b[49m\u001b[38;5;241;43m31\u001b[39;49m\u001b[43m,\u001b[49m\u001b[38;5;241;43m50.5\u001b[39;49m\u001b[43m,\u001b[49m\u001b[38;5;28;43;01mTrue\u001b[39;49;00m\u001b[43m)\u001b[49m\n",
      "\u001b[1;31mTypeError\u001b[0m: tuple expected at most 1 argument, got 4"
     ]
    }
   ],
   "source": [
    "tuple(\"madhu\",31,50.5,True)"
   ]
  },
  {
   "cell_type": "code",
   "execution_count": 116,
   "id": "23b8423d",
   "metadata": {},
   "outputs": [
    {
     "data": {
      "text/plain": [
       "('madhu', 31, 50.5, True)"
      ]
     },
     "execution_count": 116,
     "metadata": {},
     "output_type": "execute_result"
    }
   ],
   "source": [
    "tuple((\"madhu\",31,50.5,True))"
   ]
  },
  {
   "cell_type": "code",
   "execution_count": 117,
   "id": "9e22818a",
   "metadata": {},
   "outputs": [
    {
     "data": {
      "text/plain": [
       "range(0, 9)"
      ]
     },
     "execution_count": 117,
     "metadata": {},
     "output_type": "execute_result"
    }
   ],
   "source": [
    "range(9)"
   ]
  },
  {
   "cell_type": "code",
   "execution_count": 75,
   "id": "32d6035f",
   "metadata": {},
   "outputs": [],
   "source": [
    "x=range(9)"
   ]
  },
  {
   "cell_type": "code",
   "execution_count": 76,
   "id": "bcebc761",
   "metadata": {},
   "outputs": [
    {
     "data": {
      "text/plain": [
       "[0, 1, 2, 3, 4, 5, 6, 7, 8]"
      ]
     },
     "execution_count": 76,
     "metadata": {},
     "output_type": "execute_result"
    }
   ],
   "source": [
    "list(x)"
   ]
  },
  {
   "cell_type": "code",
   "execution_count": 77,
   "id": "021db1c6",
   "metadata": {},
   "outputs": [
    {
     "data": {
      "text/plain": [
       "(0, 1, 2, 3, 4, 5, 6, 7, 8)"
      ]
     },
     "execution_count": 77,
     "metadata": {},
     "output_type": "execute_result"
    }
   ],
   "source": [
    "tuple(x)"
   ]
  },
  {
   "cell_type": "code",
   "execution_count": 80,
   "id": "57e6c5a0",
   "metadata": {},
   "outputs": [
    {
     "data": {
      "text/plain": [
       "{'name': 'ravi', 'empid': 264}"
      ]
     },
     "execution_count": 80,
     "metadata": {},
     "output_type": "execute_result"
    }
   ],
   "source": [
    "dict(name='ravi',empid=264)"
   ]
  },
  {
   "cell_type": "code",
   "execution_count": 81,
   "id": "f337b7ef",
   "metadata": {},
   "outputs": [
    {
     "data": {
      "text/plain": [
       "{2, 4, 5, 8, 'a'}"
      ]
     },
     "execution_count": 81,
     "metadata": {},
     "output_type": "execute_result"
    }
   ],
   "source": [
    "set(('a',2,2,4,8,5,4))"
   ]
  },
  {
   "cell_type": "code",
   "execution_count": 82,
   "id": "44029eea",
   "metadata": {},
   "outputs": [
    {
     "data": {
      "text/plain": [
       "frozenset({2, 4, 5, 7, 8, 'a'})"
      ]
     },
     "execution_count": 82,
     "metadata": {},
     "output_type": "execute_result"
    }
   ],
   "source": [
    "frozenset(('a',5,5,4,2,2,8,7))"
   ]
  },
  {
   "cell_type": "code",
   "execution_count": 84,
   "id": "c220b979",
   "metadata": {},
   "outputs": [
    {
     "data": {
      "text/plain": [
       "True"
      ]
     },
     "execution_count": 84,
     "metadata": {},
     "output_type": "execute_result"
    }
   ],
   "source": [
    "bool(5)"
   ]
  },
  {
   "cell_type": "code",
   "execution_count": 85,
   "id": "f0fd26c4",
   "metadata": {},
   "outputs": [
    {
     "data": {
      "text/plain": [
       "b'\\x00\\x00\\x00\\x00\\x00'"
      ]
     },
     "execution_count": 85,
     "metadata": {},
     "output_type": "execute_result"
    }
   ],
   "source": [
    "bytes(5)"
   ]
  },
  {
   "cell_type": "code",
   "execution_count": 86,
   "id": "dc7b7932",
   "metadata": {},
   "outputs": [
    {
     "data": {
      "text/plain": [
       "bytearray(b'\\x00\\x00\\x00\\x00\\x00\\x00\\x00\\x00')"
      ]
     },
     "execution_count": 86,
     "metadata": {},
     "output_type": "execute_result"
    }
   ],
   "source": [
    "bytearray(8)"
   ]
  },
  {
   "cell_type": "code",
   "execution_count": 87,
   "id": "2643d705",
   "metadata": {},
   "outputs": [
    {
     "data": {
      "text/plain": [
       "<memory at 0x0000016298D75040>"
      ]
     },
     "execution_count": 87,
     "metadata": {},
     "output_type": "execute_result"
    }
   ],
   "source": [
    "memoryview(bytes(5))"
   ]
  },
  {
   "cell_type": "markdown",
   "id": "0e87a839",
   "metadata": {},
   "source": [
    "### type()\n",
    "- used to know the datatype of any object"
   ]
  },
  {
   "cell_type": "code",
   "execution_count": 88,
   "id": "21a06749",
   "metadata": {},
   "outputs": [],
   "source": [
    "a=10.6"
   ]
  },
  {
   "cell_type": "code",
   "execution_count": 89,
   "id": "65edb209",
   "metadata": {},
   "outputs": [
    {
     "data": {
      "text/plain": [
       "float"
      ]
     },
     "execution_count": 89,
     "metadata": {},
     "output_type": "execute_result"
    }
   ],
   "source": [
    "type(a)"
   ]
  },
  {
   "cell_type": "code",
   "execution_count": 90,
   "id": "ba8591dd",
   "metadata": {},
   "outputs": [
    {
     "data": {
      "text/plain": [
       "float"
      ]
     },
     "execution_count": 90,
     "metadata": {},
     "output_type": "execute_result"
    }
   ],
   "source": [
    "b=1.24565\n",
    "type(b)"
   ]
  },
  {
   "cell_type": "code",
   "execution_count": 91,
   "id": "1d2853ad",
   "metadata": {},
   "outputs": [
    {
     "data": {
      "text/plain": [
       "bool"
      ]
     },
     "execution_count": 91,
     "metadata": {},
     "output_type": "execute_result"
    }
   ],
   "source": [
    "k=True\n",
    "type(k)"
   ]
  },
  {
   "cell_type": "code",
   "execution_count": 92,
   "id": "43a4ec7a",
   "metadata": {},
   "outputs": [
    {
     "data": {
      "text/plain": [
       "bool"
      ]
     },
     "execution_count": 92,
     "metadata": {},
     "output_type": "execute_result"
    }
   ],
   "source": [
    "l=False\n",
    "type(l)"
   ]
  },
  {
   "cell_type": "code",
   "execution_count": 95,
   "id": "eddd3b36",
   "metadata": {},
   "outputs": [
    {
     "data": {
      "text/plain": [
       "1"
      ]
     },
     "execution_count": 95,
     "metadata": {},
     "output_type": "execute_result"
    }
   ],
   "source": [
    "int(True)"
   ]
  },
  {
   "cell_type": "code",
   "execution_count": 96,
   "id": "b0c9b792",
   "metadata": {},
   "outputs": [
    {
     "data": {
      "text/plain": [
       "0"
      ]
     },
     "execution_count": 96,
     "metadata": {},
     "output_type": "execute_result"
    }
   ],
   "source": [
    "int(False)"
   ]
  },
  {
   "cell_type": "code",
   "execution_count": 97,
   "id": "c3312fef",
   "metadata": {},
   "outputs": [
    {
     "data": {
      "text/plain": [
       "4"
      ]
     },
     "execution_count": 97,
     "metadata": {},
     "output_type": "execute_result"
    }
   ],
   "source": [
    "True+True+True+False+True"
   ]
  },
  {
   "cell_type": "code",
   "execution_count": 98,
   "id": "42358f08",
   "metadata": {},
   "outputs": [
    {
     "data": {
      "text/plain": [
       "2"
      ]
     },
     "execution_count": 98,
     "metadata": {},
     "output_type": "execute_result"
    }
   ],
   "source": [
    "False+True+True"
   ]
  },
  {
   "cell_type": "code",
   "execution_count": 102,
   "id": "f8fb17c9",
   "metadata": {},
   "outputs": [
    {
     "data": {
      "text/plain": [
       "1"
      ]
     },
     "execution_count": 102,
     "metadata": {},
     "output_type": "execute_result"
    }
   ],
   "source": [
    "False+False\n",
    "False+True"
   ]
  },
  {
   "cell_type": "code",
   "execution_count": 103,
   "id": "e166b8a3",
   "metadata": {},
   "outputs": [
    {
     "data": {
      "text/plain": [
       "2"
      ]
     },
     "execution_count": 103,
     "metadata": {},
     "output_type": "execute_result"
    }
   ],
   "source": [
    "False+False\n",
    "False+True\n",
    "True+True"
   ]
  },
  {
   "cell_type": "code",
   "execution_count": 104,
   "id": "d2685160",
   "metadata": {},
   "outputs": [
    {
     "name": "stdout",
     "output_type": "stream",
     "text": [
      "True\n"
     ]
    }
   ],
   "source": [
    "print(True)"
   ]
  },
  {
   "cell_type": "code",
   "execution_count": 105,
   "id": "23ca6b65",
   "metadata": {},
   "outputs": [
    {
     "data": {
      "text/plain": [
       "1"
      ]
     },
     "execution_count": 105,
     "metadata": {},
     "output_type": "execute_result"
    }
   ],
   "source": [
    "True*True"
   ]
  },
  {
   "cell_type": "code",
   "execution_count": 106,
   "id": "8eb7786c",
   "metadata": {},
   "outputs": [
    {
     "data": {
      "text/plain": [
       "0"
      ]
     },
     "execution_count": 106,
     "metadata": {},
     "output_type": "execute_result"
    }
   ],
   "source": [
    "int(False)"
   ]
  },
  {
   "cell_type": "code",
   "execution_count": 107,
   "id": "4ffde209",
   "metadata": {},
   "outputs": [
    {
     "data": {
      "text/plain": [
       "1.0"
      ]
     },
     "execution_count": 107,
     "metadata": {},
     "output_type": "execute_result"
    }
   ],
   "source": [
    "float(True)"
   ]
  },
  {
   "cell_type": "code",
   "execution_count": 108,
   "id": "caee8bfa",
   "metadata": {},
   "outputs": [
    {
     "data": {
      "text/plain": [
       "1"
      ]
     },
     "execution_count": 108,
     "metadata": {},
     "output_type": "execute_result"
    }
   ],
   "source": [
    "int(True)"
   ]
  },
  {
   "cell_type": "code",
   "execution_count": 109,
   "id": "07942e84",
   "metadata": {},
   "outputs": [
    {
     "ename": "ZeroDivisionError",
     "evalue": "division by zero",
     "output_type": "error",
     "traceback": [
      "\u001b[1;31m---------------------------------------------------------------------------\u001b[0m",
      "\u001b[1;31mZeroDivisionError\u001b[0m                         Traceback (most recent call last)",
      "Input \u001b[1;32mIn [109]\u001b[0m, in \u001b[0;36m<cell line: 1>\u001b[1;34m()\u001b[0m\n\u001b[1;32m----> 1\u001b[0m \u001b[38;5;28;43;01mTrue\u001b[39;49;00m\u001b[38;5;241;43m/\u001b[39;49m\u001b[38;5;28;43;01mFalse\u001b[39;49;00m\n",
      "\u001b[1;31mZeroDivisionError\u001b[0m: division by zero"
     ]
    }
   ],
   "source": [
    "True/False"
   ]
  },
  {
   "cell_type": "code",
   "execution_count": 67,
   "id": "2ea9563f",
   "metadata": {},
   "outputs": [],
   "source": [
    "import numpy"
   ]
  },
  {
   "cell_type": "code",
   "execution_count": 68,
   "id": "44b94af5",
   "metadata": {},
   "outputs": [
    {
     "ename": "ZeroDivisionError",
     "evalue": "division by zero",
     "output_type": "error",
     "traceback": [
      "\u001b[1;31m---------------------------------------------------------------------------\u001b[0m",
      "\u001b[1;31mZeroDivisionError\u001b[0m                         Traceback (most recent call last)",
      "Input \u001b[1;32mIn [68]\u001b[0m, in \u001b[0;36m<cell line: 1>\u001b[1;34m()\u001b[0m\n\u001b[1;32m----> 1\u001b[0m a\u001b[38;5;241m=\u001b[39m\u001b[38;5;241;43m1\u001b[39;49m\u001b[38;5;241;43m/\u001b[39;49m\u001b[38;5;241;43m0\u001b[39;49m\n",
      "\u001b[1;31mZeroDivisionError\u001b[0m: division by zero"
     ]
    }
   ],
   "source": [
    "a=1/0"
   ]
  },
  {
   "cell_type": "code",
   "execution_count": 112,
   "id": "434d3bee",
   "metadata": {},
   "outputs": [],
   "source": [
    "n=45+6j"
   ]
  },
  {
   "cell_type": "code",
   "execution_count": 113,
   "id": "cc3b9878",
   "metadata": {},
   "outputs": [
    {
     "data": {
      "text/plain": [
       "complex"
      ]
     },
     "execution_count": 113,
     "metadata": {},
     "output_type": "execute_result"
    }
   ],
   "source": [
    "type(n)"
   ]
  },
  {
   "cell_type": "code",
   "execution_count": 114,
   "id": "c9eecd29",
   "metadata": {},
   "outputs": [
    {
     "data": {
      "text/plain": [
       "45.0"
      ]
     },
     "execution_count": 114,
     "metadata": {},
     "output_type": "execute_result"
    }
   ],
   "source": [
    "n.real"
   ]
  },
  {
   "cell_type": "code",
   "execution_count": 116,
   "id": "88a705ab",
   "metadata": {},
   "outputs": [
    {
     "data": {
      "text/plain": [
       "6.0"
      ]
     },
     "execution_count": 116,
     "metadata": {},
     "output_type": "execute_result"
    }
   ],
   "source": [
    "n.imag"
   ]
  },
  {
   "cell_type": "code",
   "execution_count": 117,
   "id": "e9df9af4",
   "metadata": {},
   "outputs": [
    {
     "data": {
      "text/plain": [
       "(45+6j)"
      ]
     },
     "execution_count": 117,
     "metadata": {},
     "output_type": "execute_result"
    }
   ],
   "source": [
    "n"
   ]
  },
  {
   "cell_type": "code",
   "execution_count": 118,
   "id": "c051c728",
   "metadata": {},
   "outputs": [],
   "source": [
    "# complex= real+imag---> 'j' is  only notation to represent a complex number\n",
    "m=2+3j"
   ]
  },
  {
   "cell_type": "code",
   "execution_count": 119,
   "id": "c36d2cac",
   "metadata": {},
   "outputs": [
    {
     "data": {
      "text/plain": [
       "(72+147j)"
      ]
     },
     "execution_count": 119,
     "metadata": {},
     "output_type": "execute_result"
    }
   ],
   "source": [
    "n*m"
   ]
  },
  {
   "cell_type": "code",
   "execution_count": 120,
   "id": "3ce98c8a",
   "metadata": {},
   "outputs": [
    {
     "data": {
      "text/plain": [
       "(47+9j)"
      ]
     },
     "execution_count": 120,
     "metadata": {},
     "output_type": "execute_result"
    }
   ],
   "source": [
    "n+m"
   ]
  },
  {
   "cell_type": "code",
   "execution_count": 121,
   "id": "9149b125",
   "metadata": {},
   "outputs": [
    {
     "ename": "TypeError",
     "evalue": "unsupported operand type(s) for +: 'int' and 'str'",
     "output_type": "error",
     "traceback": [
      "\u001b[1;31m---------------------------------------------------------------------------\u001b[0m",
      "\u001b[1;31mTypeError\u001b[0m                                 Traceback (most recent call last)",
      "Input \u001b[1;32mIn [121]\u001b[0m, in \u001b[0;36m<cell line: 1>\u001b[1;34m()\u001b[0m\n\u001b[1;32m----> 1\u001b[0m \u001b[38;5;241;43m1\u001b[39;49m\u001b[38;5;241;43m+\u001b[39;49m\u001b[38;5;124;43m'\u001b[39;49m\u001b[38;5;124;43mravi\u001b[39;49m\u001b[38;5;124;43m'\u001b[39;49m\n",
      "\u001b[1;31mTypeError\u001b[0m: unsupported operand type(s) for +: 'int' and 'str'"
     ]
    }
   ],
   "source": [
    "1+'ravi'"
   ]
  },
  {
   "cell_type": "code",
   "execution_count": 123,
   "id": "cd98f99f",
   "metadata": {},
   "outputs": [
    {
     "data": {
      "text/plain": [
       "'2RAVI'"
      ]
     },
     "execution_count": 123,
     "metadata": {},
     "output_type": "execute_result"
    }
   ],
   "source": [
    "'2'+'RAVI'"
   ]
  },
  {
   "cell_type": "code",
   "execution_count": 124,
   "id": "732da0e5",
   "metadata": {},
   "outputs": [
    {
     "data": {
      "text/plain": [
       "'264Ravi'"
      ]
     },
     "execution_count": 124,
     "metadata": {},
     "output_type": "execute_result"
    }
   ],
   "source": [
    "str(264)+'Ravi'"
   ]
  },
  {
   "cell_type": "code",
   "execution_count": 125,
   "id": "8578bd18",
   "metadata": {},
   "outputs": [
    {
     "data": {
      "text/plain": [
       "2.0"
      ]
     },
     "execution_count": 125,
     "metadata": {},
     "output_type": "execute_result"
    }
   ],
   "source": [
    "1+1.0"
   ]
  },
  {
   "cell_type": "code",
   "execution_count": 126,
   "id": "1049fd11",
   "metadata": {},
   "outputs": [
    {
     "data": {
      "text/plain": [
       "(5+0j)"
      ]
     },
     "execution_count": 126,
     "metadata": {},
     "output_type": "execute_result"
    }
   ],
   "source": [
    "1+2.0+(2+0j)"
   ]
  },
  {
   "cell_type": "code",
   "execution_count": 127,
   "id": "ab0967f1",
   "metadata": {},
   "outputs": [
    {
     "data": {
      "text/plain": [
       "'TatireddyRavi'"
      ]
     },
     "execution_count": 127,
     "metadata": {},
     "output_type": "execute_result"
    }
   ],
   "source": [
    "'Tatireddy'+'Ravi'"
   ]
  },
  {
   "cell_type": "code",
   "execution_count": 132,
   "id": "4782b0b6",
   "metadata": {},
   "outputs": [
    {
     "data": {
      "text/plain": [
       "'Madhu   Madhu   Madhu   '"
      ]
     },
     "execution_count": 132,
     "metadata": {},
     "output_type": "execute_result"
    }
   ],
   "source": [
    "'Madhu   '*3"
   ]
  },
  {
   "cell_type": "code",
   "execution_count": 133,
   "id": "d211f1f9",
   "metadata": {},
   "outputs": [
    {
     "ename": "TypeError",
     "evalue": "can't multiply sequence by non-int of type 'float'",
     "output_type": "error",
     "traceback": [
      "\u001b[1;31m---------------------------------------------------------------------------\u001b[0m",
      "\u001b[1;31mTypeError\u001b[0m                                 Traceback (most recent call last)",
      "Input \u001b[1;32mIn [133]\u001b[0m, in \u001b[0;36m<cell line: 1>\u001b[1;34m()\u001b[0m\n\u001b[1;32m----> 1\u001b[0m \u001b[38;5;124;43m\"\u001b[39;49m\u001b[38;5;124;43mmadhu\u001b[39;49m\u001b[38;5;124;43m\"\u001b[39;49m\u001b[38;5;241;43m*\u001b[39;49m\u001b[38;5;241;43m3.0\u001b[39;49m\n",
      "\u001b[1;31mTypeError\u001b[0m: can't multiply sequence by non-int of type 'float'"
     ]
    }
   ],
   "source": [
    "\"madhu\"*3.0"
   ]
  },
  {
   "cell_type": "code",
   "execution_count": 134,
   "id": "62d9e3a5",
   "metadata": {},
   "outputs": [
    {
     "ename": "TypeError",
     "evalue": "unsupported operand type(s) for -: 'str' and 'str'",
     "output_type": "error",
     "traceback": [
      "\u001b[1;31m---------------------------------------------------------------------------\u001b[0m",
      "\u001b[1;31mTypeError\u001b[0m                                 Traceback (most recent call last)",
      "Input \u001b[1;32mIn [134]\u001b[0m, in \u001b[0;36m<cell line: 1>\u001b[1;34m()\u001b[0m\n\u001b[1;32m----> 1\u001b[0m \u001b[38;5;124;43m'\u001b[39;49m\u001b[38;5;124;43mravi\u001b[39;49m\u001b[38;5;124;43m'\u001b[39;49m\u001b[38;5;241;43m-\u001b[39;49m\u001b[38;5;124;43m'\u001b[39;49m\u001b[38;5;124;43mMadhu\u001b[39;49m\u001b[38;5;124;43m'\u001b[39;49m\n",
      "\u001b[1;31mTypeError\u001b[0m: unsupported operand type(s) for -: 'str' and 'str'"
     ]
    }
   ],
   "source": [
    "'ravi'-'Madhu'"
   ]
  },
  {
   "cell_type": "code",
   "execution_count": 135,
   "id": "f4d73e19",
   "metadata": {},
   "outputs": [],
   "source": [
    "a=10\n"
   ]
  },
  {
   "cell_type": "code",
   "execution_count": 136,
   "id": "6718edc4",
   "metadata": {},
   "outputs": [
    {
     "name": "stdout",
     "output_type": "stream",
     "text": [
      "264\n"
     ]
    }
   ],
   "source": [
    "a=input()"
   ]
  },
  {
   "cell_type": "code",
   "execution_count": 137,
   "id": "3a174c72",
   "metadata": {},
   "outputs": [
    {
     "name": "stdout",
     "output_type": "stream",
     "text": [
      "16295\n"
     ]
    }
   ],
   "source": [
    "b=input()"
   ]
  },
  {
   "cell_type": "code",
   "execution_count": 138,
   "id": "fa84c363",
   "metadata": {},
   "outputs": [
    {
     "data": {
      "text/plain": [
       "'16295'"
      ]
     },
     "execution_count": 138,
     "metadata": {},
     "output_type": "execute_result"
    }
   ],
   "source": [
    "b"
   ]
  },
  {
   "cell_type": "code",
   "execution_count": 139,
   "id": "0d337487",
   "metadata": {},
   "outputs": [
    {
     "name": "stdout",
     "output_type": "stream",
     "text": [
      "Enter a integer:ravi\n"
     ]
    }
   ],
   "source": [
    " s=input('Enter a integer:')"
   ]
  },
  {
   "cell_type": "code",
   "execution_count": 140,
   "id": "32a01d5b",
   "metadata": {},
   "outputs": [
    {
     "data": {
      "text/plain": [
       "str"
      ]
     },
     "execution_count": 140,
     "metadata": {},
     "output_type": "execute_result"
    }
   ],
   "source": [
    "type(s)"
   ]
  },
  {
   "cell_type": "code",
   "execution_count": 141,
   "id": "7735ca91",
   "metadata": {},
   "outputs": [
    {
     "data": {
      "text/plain": [
       "'ravi'"
      ]
     },
     "execution_count": 141,
     "metadata": {},
     "output_type": "execute_result"
    }
   ],
   "source": [
    "s"
   ]
  },
  {
   "cell_type": "code",
   "execution_count": 142,
   "id": "dea39316",
   "metadata": {},
   "outputs": [
    {
     "name": "stdout",
     "output_type": "stream",
     "text": [
      "Enter first input:2\n",
      "Enter second num:3\n",
      "Enter third num;2\n",
      "2.5\n",
      "Enter complex num:2+3j\n",
      "(4.5+3j)\n",
      "(4.5+3j)Ravi\n"
     ]
    }
   ],
   "source": [
    "a=int(input(\"Enter first input:\"))\n",
    "b=int(input(\"Enter second num:\"))\n",
    "c=int(input(\"Enter third num;\"))\n",
    "o1=(a+b)/c\n",
    "print(o1)\n",
    "d=complex(input(\"Enter complex num:\"))\n",
    "o2=o1+d\n",
    "print(o2)\n",
    "o3=str(o2)+'Ravi'\n",
    "print(o3)"
   ]
  },
  {
   "cell_type": "code",
   "execution_count": 143,
   "id": "3f971e9f",
   "metadata": {},
   "outputs": [
    {
     "name": "stdout",
     "output_type": "stream",
     "text": [
      "Enter number lesser than 34:30\n"
     ]
    }
   ],
   "source": [
    "a=int(input(\"Enter number lesser than 34:\"))"
   ]
  },
  {
   "cell_type": "code",
   "execution_count": 144,
   "id": "9068e8fa",
   "metadata": {},
   "outputs": [
    {
     "data": {
      "text/plain": [
       "30"
      ]
     },
     "execution_count": 144,
     "metadata": {},
     "output_type": "execute_result"
    }
   ],
   "source": [
    "a"
   ]
  },
  {
   "cell_type": "code",
   "execution_count": 147,
   "id": "608858f3",
   "metadata": {},
   "outputs": [
    {
     "name": "stdout",
     "output_type": "stream",
     "text": [
      "enter the number:101\n",
      "user input is not lesser than 34\n"
     ]
    }
   ],
   "source": [
    "a=int(input(\"enter the number:\"))\n",
    "if a<34:\n",
    "    print(\"Data input is lesser than 34 and i am fine with it\")\n",
    "elif a<100:\n",
    "    print('my num is lesser than 100')\n",
    "else:\n",
    "    print('user input is not lesser than 34')"
   ]
  },
  {
   "cell_type": "code",
   "execution_count": 148,
   "id": "7daf6a9f",
   "metadata": {},
   "outputs": [
    {
     "name": "stdout",
     "output_type": "stream",
     "text": [
      "Enter your salary:15000\n",
      "your salary is good\n",
      "i will go with maruthi\n"
     ]
    }
   ],
   "source": [
    "salary=int(input(\"Enter your salary:\"))\n",
    "if salary>1000:\n",
    "    print(\"your salary is good\")\n",
    "    if salary>5000:\n",
    "        print(\"i will go with maruthi\")\n",
    "    elif salary>10000:\n",
    "        print(\"i will go with ravi\")\n",
    "    elif salary>50000:\n",
    "        print(\"i will go with tayota\")\n",
    "    else:\n",
    "        print(\"i will rent a car\")        \n",
    "elif salary>500:\n",
    "    print(\"i will go for bike\")\n",
    "elif salary<100:\n",
    "    print(\"i will not buy anything\")\n",
    "else:\n",
    "    print(\"i will go for saving\")       \n",
    "    "
   ]
  },
  {
   "cell_type": "markdown",
   "id": "b3a84617",
   "metadata": {},
   "source": [
    "## Python type casting\n",
    "- Type casting in python is done using constructor functions:\n",
    "\n",
    "- int() - constructs an integer number from an integer literal, a float literal (by removing all decimals), or a string literal (providing the string represents a whole number)\n",
    "- float() - constructs a float number from an integer literal, a float literal or a string literal (providing the string represents a float or an integer)\n",
    "- str() - constructs a string from a wide variety of data types, including strings, integer literals and float literals"
   ]
  },
  {
   "cell_type": "code",
   "execution_count": 149,
   "id": "9e287e32",
   "metadata": {},
   "outputs": [
    {
     "data": {
      "text/plain": [
       "3"
      ]
     },
     "execution_count": 149,
     "metadata": {},
     "output_type": "execute_result"
    }
   ],
   "source": [
    "int(3)"
   ]
  },
  {
   "cell_type": "code",
   "execution_count": 150,
   "id": "815d7ea5",
   "metadata": {},
   "outputs": [
    {
     "data": {
      "text/plain": [
       "3"
      ]
     },
     "execution_count": 150,
     "metadata": {},
     "output_type": "execute_result"
    }
   ],
   "source": [
    "int(3.3)"
   ]
  },
  {
   "cell_type": "code",
   "execution_count": 151,
   "id": "1a834411",
   "metadata": {},
   "outputs": [
    {
     "ename": "ValueError",
     "evalue": "invalid literal for int() with base 10: 'ravi'",
     "output_type": "error",
     "traceback": [
      "\u001b[1;31m---------------------------------------------------------------------------\u001b[0m",
      "\u001b[1;31mValueError\u001b[0m                                Traceback (most recent call last)",
      "Input \u001b[1;32mIn [151]\u001b[0m, in \u001b[0;36m<cell line: 1>\u001b[1;34m()\u001b[0m\n\u001b[1;32m----> 1\u001b[0m \u001b[38;5;28;43mint\u001b[39;49m\u001b[43m(\u001b[49m\u001b[38;5;124;43m'\u001b[39;49m\u001b[38;5;124;43mravi\u001b[39;49m\u001b[38;5;124;43m'\u001b[39;49m\u001b[43m)\u001b[49m\n",
      "\u001b[1;31mValueError\u001b[0m: invalid literal for int() with base 10: 'ravi'"
     ]
    }
   ],
   "source": [
    "int('ravi')"
   ]
  },
  {
   "cell_type": "code",
   "execution_count": 152,
   "id": "0b2f3d70",
   "metadata": {},
   "outputs": [
    {
     "data": {
      "text/plain": [
       "10"
      ]
     },
     "execution_count": 152,
     "metadata": {},
     "output_type": "execute_result"
    }
   ],
   "source": [
    "int('10')"
   ]
  },
  {
   "cell_type": "code",
   "execution_count": 153,
   "id": "ab5a9081",
   "metadata": {},
   "outputs": [
    {
     "data": {
      "text/plain": [
       "26.0"
      ]
     },
     "execution_count": 153,
     "metadata": {},
     "output_type": "execute_result"
    }
   ],
   "source": [
    "float(26)"
   ]
  },
  {
   "cell_type": "code",
   "execution_count": 154,
   "id": "ea51094d",
   "metadata": {},
   "outputs": [
    {
     "data": {
      "text/plain": [
       "2.3"
      ]
     },
     "execution_count": 154,
     "metadata": {},
     "output_type": "execute_result"
    }
   ],
   "source": [
    "float(2.3)"
   ]
  },
  {
   "cell_type": "code",
   "execution_count": 155,
   "id": "84b7c6e2",
   "metadata": {},
   "outputs": [
    {
     "ename": "ValueError",
     "evalue": "could not convert string to float: 'madhu'",
     "output_type": "error",
     "traceback": [
      "\u001b[1;31m---------------------------------------------------------------------------\u001b[0m",
      "\u001b[1;31mValueError\u001b[0m                                Traceback (most recent call last)",
      "Input \u001b[1;32mIn [155]\u001b[0m, in \u001b[0;36m<cell line: 1>\u001b[1;34m()\u001b[0m\n\u001b[1;32m----> 1\u001b[0m \u001b[38;5;28;43mfloat\u001b[39;49m\u001b[43m(\u001b[49m\u001b[38;5;124;43m'\u001b[39;49m\u001b[38;5;124;43mmadhu\u001b[39;49m\u001b[38;5;124;43m'\u001b[39;49m\u001b[43m)\u001b[49m\n",
      "\u001b[1;31mValueError\u001b[0m: could not convert string to float: 'madhu'"
     ]
    }
   ],
   "source": [
    "float('madhu')"
   ]
  },
  {
   "cell_type": "code",
   "execution_count": 156,
   "id": "07f96c0e",
   "metadata": {},
   "outputs": [
    {
     "data": {
      "text/plain": [
       "26.4"
      ]
     },
     "execution_count": 156,
     "metadata": {},
     "output_type": "execute_result"
    }
   ],
   "source": [
    "float('26.4')"
   ]
  },
  {
   "cell_type": "code",
   "execution_count": 157,
   "id": "d85da01d",
   "metadata": {},
   "outputs": [
    {
     "data": {
      "text/plain": [
       "'1'"
      ]
     },
     "execution_count": 157,
     "metadata": {},
     "output_type": "execute_result"
    }
   ],
   "source": [
    "str(1)"
   ]
  },
  {
   "cell_type": "code",
   "execution_count": 158,
   "id": "0e91e9b3",
   "metadata": {},
   "outputs": [
    {
     "data": {
      "text/plain": [
       "'2.3'"
      ]
     },
     "execution_count": 158,
     "metadata": {},
     "output_type": "execute_result"
    }
   ],
   "source": [
    "str(2.3)"
   ]
  },
  {
   "cell_type": "code",
   "execution_count": 159,
   "id": "17a8dd0c",
   "metadata": {},
   "outputs": [
    {
     "data": {
      "text/plain": [
       "'eshwar'"
      ]
     },
     "execution_count": 159,
     "metadata": {},
     "output_type": "execute_result"
    }
   ],
   "source": [
    "str(\"eshwar\")"
   ]
  },
  {
   "cell_type": "markdown",
   "id": "b3170c21",
   "metadata": {},
   "source": [
    "## Python operators\n",
    "- Operators are used to perform operations on variables and values.\n",
    "- Python divides the operators in the following groups:\n",
    "\n",
    "    - Arithmetic operators: addition(+),subtraction(-),multiplication(x),division(/),Modulus(%),floor_division(//),exponentiation(**).\n",
    "    - Assignment operators:                                                                                =, +=, -=, *=, /=, %=, //=,**=, \n",
    "    - Comparison operators: ==, !=, >, <, >=, <=.\n",
    "    - Logical operators: and, or, not.\n",
    "    - Identity operators: is, is not.\n",
    "    - Membership operators: in, not in.\n",
    "    - Bitwise operators: AND(&), OR(|), NOT(~), XOR(^), zero fill left shift(<<), signed right                                shift(>>)"
   ]
  },
  {
   "cell_type": "code",
   "execution_count": 9,
   "id": "bc1b8d54",
   "metadata": {},
   "outputs": [
    {
     "data": {
      "text/plain": [
       "2"
      ]
     },
     "execution_count": 9,
     "metadata": {},
     "output_type": "execute_result"
    }
   ],
   "source": []
  },
  {
   "cell_type": "code",
   "execution_count": null,
   "id": "b3e226a3",
   "metadata": {},
   "outputs": [],
   "source": []
  }
 ],
 "metadata": {
  "kernelspec": {
   "display_name": "Python 3 (ipykernel)",
   "language": "python",
   "name": "python3"
  },
  "language_info": {
   "codemirror_mode": {
    "name": "ipython",
    "version": 3
   },
   "file_extension": ".py",
   "mimetype": "text/x-python",
   "name": "python",
   "nbconvert_exporter": "python",
   "pygments_lexer": "ipython3",
   "version": "3.9.12"
  }
 },
 "nbformat": 4,
 "nbformat_minor": 5
}
