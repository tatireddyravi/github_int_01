{
 "cells": [
  {
   "cell_type": "code",
   "execution_count": 1,
   "id": "38042a58",
   "metadata": {},
   "outputs": [],
   "source": [
    "s=\"ravi\""
   ]
  },
  {
   "cell_type": "code",
   "execution_count": 2,
   "id": "994fe9f5",
   "metadata": {},
   "outputs": [
    {
     "data": {
      "text/plain": [
       "str"
      ]
     },
     "execution_count": 2,
     "metadata": {},
     "output_type": "execute_result"
    }
   ],
   "source": [
    "type(s)"
   ]
  },
  {
   "cell_type": "code",
   "execution_count": 3,
   "id": "1531c76b",
   "metadata": {},
   "outputs": [
    {
     "data": {
      "text/plain": [
       "'r'"
      ]
     },
     "execution_count": 3,
     "metadata": {},
     "output_type": "execute_result"
    }
   ],
   "source": [
    "#extracting perticular character from string\n",
    "s[0]"
   ]
  },
  {
   "cell_type": "code",
   "execution_count": 4,
   "id": "30125c5c",
   "metadata": {},
   "outputs": [
    {
     "data": {
      "text/plain": [
       "'v'"
      ]
     },
     "execution_count": 4,
     "metadata": {},
     "output_type": "execute_result"
    }
   ],
   "source": [
    "s[2]"
   ]
  },
  {
   "cell_type": "code",
   "execution_count": 5,
   "id": "421256b0",
   "metadata": {},
   "outputs": [
    {
     "ename": "IndexError",
     "evalue": "string index out of range",
     "output_type": "error",
     "traceback": [
      "\u001b[1;31m---------------------------------------------------------------------------\u001b[0m",
      "\u001b[1;31mIndexError\u001b[0m                                Traceback (most recent call last)",
      "\u001b[1;32m<ipython-input-5-b5dece75d686>\u001b[0m in \u001b[0;36m<module>\u001b[1;34m\u001b[0m\n\u001b[1;32m----> 1\u001b[1;33m \u001b[0ms\u001b[0m\u001b[1;33m[\u001b[0m\u001b[1;36m5\u001b[0m\u001b[1;33m]\u001b[0m\u001b[1;33m\u001b[0m\u001b[1;33m\u001b[0m\u001b[0m\n\u001b[0m",
      "\u001b[1;31mIndexError\u001b[0m: string index out of range"
     ]
    }
   ],
   "source": [
    "s[5]"
   ]
  },
  {
   "cell_type": "code",
   "execution_count": 6,
   "id": "e37aea19",
   "metadata": {},
   "outputs": [
    {
     "data": {
      "text/plain": [
       "4"
      ]
     },
     "execution_count": 6,
     "metadata": {},
     "output_type": "execute_result"
    }
   ],
   "source": [
    "len(s)"
   ]
  },
  {
   "cell_type": "code",
   "execution_count": 7,
   "id": "b25c1ea8",
   "metadata": {},
   "outputs": [
    {
     "ename": "IndexError",
     "evalue": "string index out of range",
     "output_type": "error",
     "traceback": [
      "\u001b[1;31m---------------------------------------------------------------------------\u001b[0m",
      "\u001b[1;31mIndexError\u001b[0m                                Traceback (most recent call last)",
      "\u001b[1;32m<ipython-input-7-a81280e08423>\u001b[0m in \u001b[0;36m<module>\u001b[1;34m\u001b[0m\n\u001b[1;32m----> 1\u001b[1;33m \u001b[0ms\u001b[0m\u001b[1;33m[\u001b[0m\u001b[1;36m4\u001b[0m\u001b[1;33m]\u001b[0m\u001b[1;33m\u001b[0m\u001b[1;33m\u001b[0m\u001b[0m\n\u001b[0m",
      "\u001b[1;31mIndexError\u001b[0m: string index out of range"
     ]
    }
   ],
   "source": [
    "s[4]"
   ]
  },
  {
   "cell_type": "code",
   "execution_count": 8,
   "id": "5d891797",
   "metadata": {},
   "outputs": [
    {
     "data": {
      "text/plain": [
       "'i'"
      ]
     },
     "execution_count": 8,
     "metadata": {},
     "output_type": "execute_result"
    }
   ],
   "source": [
    "s[len(s)-1]"
   ]
  },
  {
   "cell_type": "code",
   "execution_count": 9,
   "id": "a021dcc3",
   "metadata": {},
   "outputs": [
    {
     "data": {
      "text/plain": [
       "'i'"
      ]
     },
     "execution_count": 9,
     "metadata": {},
     "output_type": "execute_result"
    }
   ],
   "source": [
    "s[-1]"
   ]
  },
  {
   "cell_type": "code",
   "execution_count": 10,
   "id": "ad80d31c",
   "metadata": {},
   "outputs": [
    {
     "data": {
      "text/plain": [
       "'r'"
      ]
     },
     "execution_count": 10,
     "metadata": {},
     "output_type": "execute_result"
    }
   ],
   "source": [
    "s[-4]"
   ]
  },
  {
   "cell_type": "code",
   "execution_count": 11,
   "id": "7621c2b0",
   "metadata": {},
   "outputs": [],
   "source": [
    "a=\"my name is ravi\""
   ]
  },
  {
   "cell_type": "code",
   "execution_count": 12,
   "id": "908d7ebd",
   "metadata": {},
   "outputs": [
    {
     "data": {
      "text/plain": [
       "'m'"
      ]
     },
     "execution_count": 12,
     "metadata": {},
     "output_type": "execute_result"
    }
   ],
   "source": [
    "a[0]"
   ]
  },
  {
   "cell_type": "code",
   "execution_count": 13,
   "id": "b8b887a5",
   "metadata": {},
   "outputs": [
    {
     "data": {
      "text/plain": [
       "'i'"
      ]
     },
     "execution_count": 13,
     "metadata": {},
     "output_type": "execute_result"
    }
   ],
   "source": [
    "a[-1]"
   ]
  },
  {
   "cell_type": "code",
   "execution_count": 14,
   "id": "438c7efc",
   "metadata": {},
   "outputs": [
    {
     "ename": "IndexError",
     "evalue": "string index out of range",
     "output_type": "error",
     "traceback": [
      "\u001b[1;31m---------------------------------------------------------------------------\u001b[0m",
      "\u001b[1;31mIndexError\u001b[0m                                Traceback (most recent call last)",
      "\u001b[1;32m<ipython-input-14-dcae54c22254>\u001b[0m in \u001b[0;36m<module>\u001b[1;34m\u001b[0m\n\u001b[0;32m      1\u001b[0m \u001b[1;31m#accaess range of characters\u001b[0m\u001b[1;33m\u001b[0m\u001b[1;33m\u001b[0m\u001b[1;33m\u001b[0m\u001b[0m\n\u001b[1;32m----> 2\u001b[1;33m \u001b[0ma\u001b[0m\u001b[1;33m[\u001b[0m\u001b[1;36m100\u001b[0m\u001b[1;33m]\u001b[0m\u001b[1;33m\u001b[0m\u001b[1;33m\u001b[0m\u001b[0m\n\u001b[0m",
      "\u001b[1;31mIndexError\u001b[0m: string index out of range"
     ]
    }
   ],
   "source": [
    "#accaess range of characters\n",
    "a[100]"
   ]
  },
  {
   "cell_type": "code",
   "execution_count": 15,
   "id": "47445b3d",
   "metadata": {},
   "outputs": [
    {
     "data": {
      "text/plain": [
       "'my name is ravi'"
      ]
     },
     "execution_count": 15,
     "metadata": {},
     "output_type": "execute_result"
    }
   ],
   "source": [
    "a[0:100]"
   ]
  },
  {
   "cell_type": "code",
   "execution_count": 16,
   "id": "04730809",
   "metadata": {},
   "outputs": [
    {
     "data": {
      "text/plain": [
       "'my name is ravi'"
      ]
     },
     "execution_count": 16,
     "metadata": {},
     "output_type": "execute_result"
    }
   ],
   "source": [
    "a[:]  #defualt start index is 0 and end index is -1"
   ]
  },
  {
   "cell_type": "code",
   "execution_count": 17,
   "id": "622e1d5e",
   "metadata": {},
   "outputs": [
    {
     "data": {
      "text/plain": [
       "'my'"
      ]
     },
     "execution_count": 17,
     "metadata": {},
     "output_type": "execute_result"
    }
   ],
   "source": [
    "a[:2]"
   ]
  },
  {
   "cell_type": "code",
   "execution_count": 18,
   "id": "9e3e0f62",
   "metadata": {},
   "outputs": [
    {
     "data": {
      "text/plain": [
       "'name'"
      ]
     },
     "execution_count": 18,
     "metadata": {},
     "output_type": "execute_result"
    }
   ],
   "source": [
    "a[3:7]"
   ]
  },
  {
   "cell_type": "code",
   "execution_count": 19,
   "id": "1b9fb061",
   "metadata": {},
   "outputs": [
    {
     "data": {
      "text/plain": [
       "'my name is '"
      ]
     },
     "execution_count": 19,
     "metadata": {},
     "output_type": "execute_result"
    }
   ],
   "source": [
    "a[:11]"
   ]
  },
  {
   "cell_type": "code",
   "execution_count": 20,
   "id": "c1d0ddd0",
   "metadata": {},
   "outputs": [
    {
     "data": {
      "text/plain": [
       "'ravi'"
      ]
     },
     "execution_count": 20,
     "metadata": {},
     "output_type": "execute_result"
    }
   ],
   "source": [
    "a[11:]"
   ]
  },
  {
   "cell_type": "code",
   "execution_count": 21,
   "id": "96a85847",
   "metadata": {},
   "outputs": [
    {
     "data": {
      "text/plain": [
       "15"
      ]
     },
     "execution_count": 21,
     "metadata": {},
     "output_type": "execute_result"
    }
   ],
   "source": [
    "len(a)"
   ]
  },
  {
   "cell_type": "code",
   "execution_count": 22,
   "id": "6dd3a1c0",
   "metadata": {},
   "outputs": [
    {
     "data": {
      "text/plain": [
       "'my name is ravi'"
      ]
     },
     "execution_count": 22,
     "metadata": {},
     "output_type": "execute_result"
    }
   ],
   "source": [
    "a[:15]"
   ]
  },
  {
   "cell_type": "code",
   "execution_count": 23,
   "id": "b155cdcb",
   "metadata": {},
   "outputs": [],
   "source": [
    "b=\"your goal is become a datascientist\""
   ]
  },
  {
   "cell_type": "code",
   "execution_count": 24,
   "id": "c8d8dcbd",
   "metadata": {},
   "outputs": [
    {
     "data": {
      "text/plain": [
       "'your goal is become a datascientist'"
      ]
     },
     "execution_count": 24,
     "metadata": {},
     "output_type": "execute_result"
    }
   ],
   "source": [
    "b[::1]  # 1 positive jump"
   ]
  },
  {
   "cell_type": "code",
   "execution_count": 25,
   "id": "05d09f10",
   "metadata": {},
   "outputs": [
    {
     "data": {
      "text/plain": [
       "'yu oli eoeadtsinit'"
      ]
     },
     "execution_count": 25,
     "metadata": {},
     "output_type": "execute_result"
    }
   ],
   "source": [
    "b[::2]"
   ]
  },
  {
   "cell_type": "code",
   "execution_count": 26,
   "id": "46d37f63",
   "metadata": {},
   "outputs": [
    {
     "data": {
      "text/plain": [
       "''"
      ]
     },
     "execution_count": 26,
     "metadata": {},
     "output_type": "execute_result"
    }
   ],
   "source": [
    "b[-1:-4]"
   ]
  },
  {
   "cell_type": "code",
   "execution_count": 27,
   "id": "56f95a20",
   "metadata": {},
   "outputs": [],
   "source": [
    "c=\"tatireddy ravi\""
   ]
  },
  {
   "cell_type": "code",
   "execution_count": 32,
   "id": "14addb29",
   "metadata": {},
   "outputs": [
    {
     "data": {
      "text/plain": [
       "''"
      ]
     },
     "execution_count": 32,
     "metadata": {},
     "output_type": "execute_result"
    }
   ],
   "source": [
    "c[0:300:-1]   #traverse direction is 0 to 300\n",
    "               # jump is negative direction so that there is a conflict."
   ]
  },
  {
   "cell_type": "code",
   "execution_count": 33,
   "id": "c09fcea4",
   "metadata": {},
   "outputs": [
    {
     "data": {
      "text/plain": [
       "''"
      ]
     },
     "execution_count": 33,
     "metadata": {},
     "output_type": "execute_result"
    }
   ],
   "source": [
    "c[-1:-4]  #default jump size is positive so that there is a conflict."
   ]
  },
  {
   "cell_type": "code",
   "execution_count": 36,
   "id": "896db687",
   "metadata": {},
   "outputs": [
    {
     "data": {
      "text/plain": [
       "'iva'"
      ]
     },
     "execution_count": 36,
     "metadata": {},
     "output_type": "execute_result"
    }
   ],
   "source": [
    "c[-1:-4:-1]   #negative jump of 1"
   ]
  },
  {
   "cell_type": "code",
   "execution_count": 37,
   "id": "d3c46b3f",
   "metadata": {},
   "outputs": [
    {
     "data": {
      "text/plain": [
       "'tatireddy ravi'"
      ]
     },
     "execution_count": 37,
     "metadata": {},
     "output_type": "execute_result"
    }
   ],
   "source": [
    "c"
   ]
  },
  {
   "cell_type": "code",
   "execution_count": 38,
   "id": "27eea64a",
   "metadata": {},
   "outputs": [
    {
     "data": {
      "text/plain": [
       "'vi'"
      ]
     },
     "execution_count": 38,
     "metadata": {},
     "output_type": "execute_result"
    }
   ],
   "source": [
    "c[-2:]"
   ]
  },
  {
   "cell_type": "code",
   "execution_count": 39,
   "id": "e1c35eba",
   "metadata": {},
   "outputs": [
    {
     "data": {
      "text/plain": [
       "'v'"
      ]
     },
     "execution_count": 39,
     "metadata": {},
     "output_type": "execute_result"
    }
   ],
   "source": [
    "c[-2:-1]"
   ]
  },
  {
   "cell_type": "code",
   "execution_count": 40,
   "id": "517bb30d",
   "metadata": {},
   "outputs": [
    {
     "data": {
      "text/plain": [
       "'ivar ydderitat'"
      ]
     },
     "execution_count": 40,
     "metadata": {},
     "output_type": "execute_result"
    }
   ],
   "source": [
    "c[::-1]"
   ]
  },
  {
   "cell_type": "code",
   "execution_count": 41,
   "id": "0ef182d2",
   "metadata": {},
   "outputs": [
    {
     "data": {
      "text/plain": [
       "'ivar ydderitat'"
      ]
     },
     "execution_count": 41,
     "metadata": {},
     "output_type": "execute_result"
    }
   ],
   "source": [
    "c[-1::-1]"
   ]
  },
  {
   "cell_type": "code",
   "execution_count": 42,
   "id": "2f9275b8",
   "metadata": {},
   "outputs": [
    {
     "data": {
      "text/plain": [
       "''"
      ]
     },
     "execution_count": 42,
     "metadata": {},
     "output_type": "execute_result"
    }
   ],
   "source": [
    "c[-2:2]"
   ]
  },
  {
   "cell_type": "code",
   "execution_count": 45,
   "id": "602e50c7",
   "metadata": {},
   "outputs": [
    {
     "data": {
      "text/plain": [
       "'raviraviravi'"
      ]
     },
     "execution_count": 45,
     "metadata": {},
     "output_type": "execute_result"
    }
   ],
   "source": [
    "\"ravi\"*3   # to repeat string 'n' no.of times"
   ]
  },
  {
   "cell_type": "code",
   "execution_count": 46,
   "id": "ae737ae1",
   "metadata": {},
   "outputs": [
    {
     "data": {
      "text/plain": [
       "'ravitatireddy'"
      ]
     },
     "execution_count": 46,
     "metadata": {},
     "output_type": "execute_result"
    }
   ],
   "source": [
    "\"ravi\"+\"tatireddy\"  #concatination of two strings"
   ]
  },
  {
   "cell_type": "code",
   "execution_count": 48,
   "id": "f7fa058a",
   "metadata": {},
   "outputs": [
    {
     "data": {
      "text/plain": [
       "14"
      ]
     },
     "execution_count": 48,
     "metadata": {},
     "output_type": "execute_result"
    }
   ],
   "source": [
    "len(c)  #length of string including spaces"
   ]
  },
  {
   "cell_type": "code",
   "execution_count": 50,
   "id": "271444be",
   "metadata": {},
   "outputs": [
    {
     "ename": "TypeError",
     "evalue": "can't multiply sequence by non-int of type 'str'",
     "output_type": "error",
     "traceback": [
      "\u001b[1;31m---------------------------------------------------------------------------\u001b[0m",
      "\u001b[1;31mTypeError\u001b[0m                                 Traceback (most recent call last)",
      "\u001b[1;32m<ipython-input-50-855fd0899131>\u001b[0m in \u001b[0;36m<module>\u001b[1;34m\u001b[0m\n\u001b[1;32m----> 1\u001b[1;33m \u001b[1;34m\"ravi\"\u001b[0m\u001b[1;33m*\u001b[0m\u001b[1;34m\"tatireddy\"\u001b[0m\u001b[1;33m\u001b[0m\u001b[1;33m\u001b[0m\u001b[0m\n\u001b[0m",
      "\u001b[1;31mTypeError\u001b[0m: can't multiply sequence by non-int of type 'str'"
     ]
    }
   ],
   "source": [
    "\"ravi\"*\"tatireddy\""
   ]
  },
  {
   "cell_type": "code",
   "execution_count": 51,
   "id": "800923c5",
   "metadata": {},
   "outputs": [],
   "source": [
    "a=\"tatireddy ravi\""
   ]
  },
  {
   "cell_type": "markdown",
   "id": "ecd4f7db",
   "metadata": {},
   "source": [
    "## Python string methods"
   ]
  },
  {
   "cell_type": "code",
   "execution_count": 52,
   "id": "75963b63",
   "metadata": {},
   "outputs": [
    {
     "data": {
      "text/plain": [
       "'Tatireddy ravi'"
      ]
     },
     "execution_count": 52,
     "metadata": {},
     "output_type": "execute_result"
    }
   ],
   "source": [
    "# Converts the first character to upper case\n",
    "a.capitalize()"
   ]
  },
  {
   "cell_type": "code",
   "execution_count": 54,
   "id": "b2ecde46",
   "metadata": {},
   "outputs": [
    {
     "data": {
      "text/plain": [
       "'tarireddy ravi'"
      ]
     },
     "execution_count": 54,
     "metadata": {},
     "output_type": "execute_result"
    }
   ],
   "source": [
    "#Converts string into lower case\n",
    "a=\"Tarireddy Ravi\"\n",
    "a.casefold()"
   ]
  },
  {
   "cell_type": "code",
   "execution_count": 58,
   "id": "a3c699a1",
   "metadata": {},
   "outputs": [
    {
     "data": {
      "text/plain": [
       "'------------------Tarireddy Ravi------------------'"
      ]
     },
     "execution_count": 58,
     "metadata": {},
     "output_type": "execute_result"
    }
   ],
   "source": [
    "#Returns a centered string\n",
    "a.center(50,'-')"
   ]
  },
  {
   "cell_type": "code",
   "execution_count": 59,
   "id": "d7d39f0d",
   "metadata": {},
   "outputs": [
    {
     "data": {
      "text/plain": [
       "2"
      ]
     },
     "execution_count": 59,
     "metadata": {},
     "output_type": "execute_result"
    }
   ],
   "source": [
    "#Returns the number of times a specified value occurs in a string\n",
    "a.count('i')"
   ]
  },
  {
   "cell_type": "code",
   "execution_count": 60,
   "id": "20d15046",
   "metadata": {},
   "outputs": [
    {
     "data": {
      "text/plain": [
       "2"
      ]
     },
     "execution_count": 60,
     "metadata": {},
     "output_type": "execute_result"
    }
   ],
   "source": [
    "b=\"red bananas are good than other bananas\"\n",
    "b.count('bananas')"
   ]
  },
  {
   "cell_type": "code",
   "execution_count": 62,
   "id": "7d2c85ff",
   "metadata": {},
   "outputs": [
    {
     "data": {
      "text/plain": [
       "b'red bananas are good than other bananas'"
      ]
     },
     "execution_count": 62,
     "metadata": {},
     "output_type": "execute_result"
    }
   ],
   "source": [
    "#Returns an encoded version of the string\n",
    "s=\"red bananas are good than other bananas\"\n",
    "s.encode()"
   ]
  },
  {
   "cell_type": "code",
   "execution_count": 63,
   "id": "56f3e172",
   "metadata": {},
   "outputs": [
    {
     "data": {
      "text/plain": [
       "False"
      ]
     },
     "execution_count": 63,
     "metadata": {},
     "output_type": "execute_result"
    }
   ],
   "source": [
    "#Returns true if the string ends with the specified value\n",
    "s.endswith('a')"
   ]
  },
  {
   "cell_type": "code",
   "execution_count": 64,
   "id": "816517cb",
   "metadata": {},
   "outputs": [
    {
     "data": {
      "text/plain": [
       "True"
      ]
     },
     "execution_count": 64,
     "metadata": {},
     "output_type": "execute_result"
    }
   ],
   "source": [
    "s.endswith('s')"
   ]
  },
  {
   "cell_type": "code",
   "execution_count": 67,
   "id": "c7336329",
   "metadata": {},
   "outputs": [
    {
     "name": "stdout",
     "output_type": "stream",
     "text": [
      "R       A       V       I\n",
      "R       A       V       I\n",
      "R  A  V  I\n"
     ]
    }
   ],
   "source": [
    "#Sets the tab size of the string\n",
    "s='R\\tA\\tV\\tI'\n",
    "print(s.expandtabs())\n",
    "print(s.expandtabs(8))\n",
    "print(s.expandtabs(3))"
   ]
  },
  {
   "cell_type": "code",
   "execution_count": 69,
   "id": "5f7d1080",
   "metadata": {},
   "outputs": [
    {
     "data": {
      "text/plain": [
       "3"
      ]
     },
     "execution_count": 69,
     "metadata": {},
     "output_type": "execute_result"
    }
   ],
   "source": [
    "#Searches the string for a specified value and returns the position(index) of where it was found\n",
    "a=\"tatireddy ravi\"\n",
    "a.find('i')"
   ]
  },
  {
   "cell_type": "code",
   "execution_count": 75,
   "id": "3afe8732",
   "metadata": {},
   "outputs": [
    {
     "data": {
      "text/plain": [
       "13"
      ]
     },
     "execution_count": 75,
     "metadata": {},
     "output_type": "execute_result"
    }
   ],
   "source": [
    "a.find(\"i\",5,14)"
   ]
  },
  {
   "cell_type": "code",
   "execution_count": 76,
   "id": "763fbd59",
   "metadata": {},
   "outputs": [
    {
     "data": {
      "text/plain": [
       "-1"
      ]
     },
     "execution_count": 76,
     "metadata": {},
     "output_type": "execute_result"
    }
   ],
   "source": [
    "a.find(\"i\",5,13)"
   ]
  },
  {
   "cell_type": "code",
   "execution_count": 70,
   "id": "026b6a93",
   "metadata": {},
   "outputs": [
    {
     "data": {
      "text/plain": [
       "'my name is ravi,i am 30'"
      ]
     },
     "execution_count": 70,
     "metadata": {},
     "output_type": "execute_result"
    }
   ],
   "source": [
    "#Formats specified values in a string\n",
    "\"my name is {fname},i am {age}\".format(fname=\"ravi\",age=30)"
   ]
  },
  {
   "cell_type": "code",
   "execution_count": 73,
   "id": "c6f2cdd4",
   "metadata": {},
   "outputs": [
    {
     "data": {
      "text/plain": [
       "'my name is madhu,i am 31'"
      ]
     },
     "execution_count": 73,
     "metadata": {},
     "output_type": "execute_result"
    }
   ],
   "source": [
    "\"my name is {0},i am {1}\".format(\"madhu\",31)"
   ]
  },
  {
   "cell_type": "code",
   "execution_count": 72,
   "id": "bd19593e",
   "metadata": {},
   "outputs": [
    {
     "data": {
      "text/plain": [
       "'my name is eshwar,i am 1'"
      ]
     },
     "execution_count": 72,
     "metadata": {},
     "output_type": "execute_result"
    }
   ],
   "source": [
    "\"my name is {},i am {}\".format(\"eshwar\",1)"
   ]
  },
  {
   "cell_type": "code",
   "execution_count": 77,
   "id": "ab40fc39",
   "metadata": {},
   "outputs": [
    {
     "data": {
      "text/plain": [
       "6"
      ]
     },
     "execution_count": 77,
     "metadata": {},
     "output_type": "execute_result"
    }
   ],
   "source": [
    "#The index() method is almost the same as the find() method, the only difference is --\n",
    "#that the find() method returns -1 if the value is not found. \n",
    "a=\"my name is eshwar prasad reddy\"\n",
    "a.index('e')"
   ]
  },
  {
   "cell_type": "code",
   "execution_count": 78,
   "id": "661bd989",
   "metadata": {},
   "outputs": [
    {
     "data": {
      "text/plain": [
       "25"
      ]
     },
     "execution_count": 78,
     "metadata": {},
     "output_type": "execute_result"
    }
   ],
   "source": [
    "a.index('reddy')"
   ]
  },
  {
   "cell_type": "code",
   "execution_count": 79,
   "id": "820845e9",
   "metadata": {},
   "outputs": [
    {
     "ename": "ValueError",
     "evalue": "substring not found",
     "output_type": "error",
     "traceback": [
      "\u001b[1;31m---------------------------------------------------------------------------\u001b[0m",
      "\u001b[1;31mValueError\u001b[0m                                Traceback (most recent call last)",
      "\u001b[1;32m<ipython-input-79-c8e03ccafa1c>\u001b[0m in \u001b[0;36m<module>\u001b[1;34m\u001b[0m\n\u001b[1;32m----> 1\u001b[1;33m \u001b[0ma\u001b[0m\u001b[1;33m.\u001b[0m\u001b[0mindex\u001b[0m\u001b[1;33m(\u001b[0m\u001b[1;34m'z'\u001b[0m\u001b[1;33m)\u001b[0m\u001b[1;33m\u001b[0m\u001b[1;33m\u001b[0m\u001b[0m\n\u001b[0m",
      "\u001b[1;31mValueError\u001b[0m: substring not found"
     ]
    }
   ],
   "source": [
    "a.index('z')"
   ]
  },
  {
   "cell_type": "code",
   "execution_count": 80,
   "id": "11768c4e",
   "metadata": {},
   "outputs": [
    {
     "data": {
      "text/plain": [
       "True"
      ]
     },
     "execution_count": 80,
     "metadata": {},
     "output_type": "execute_result"
    }
   ],
   "source": [
    "#Returns True if all characters in the string are in the alphabet\n",
    "a='ravi'\n",
    "a.isalpha()"
   ]
  },
  {
   "cell_type": "code",
   "execution_count": 81,
   "id": "b4b54a53",
   "metadata": {},
   "outputs": [
    {
     "data": {
      "text/plain": [
       "False"
      ]
     },
     "execution_count": 81,
     "metadata": {},
     "output_type": "execute_result"
    }
   ],
   "source": [
    "a='ravi '\n",
    "a.isalpha()"
   ]
  },
  {
   "cell_type": "code",
   "execution_count": 82,
   "id": "70d55a03",
   "metadata": {},
   "outputs": [
    {
     "data": {
      "text/plain": [
       "False"
      ]
     },
     "execution_count": 82,
     "metadata": {},
     "output_type": "execute_result"
    }
   ],
   "source": [
    "a='ravi12 '\n",
    "a.isalpha()"
   ]
  },
  {
   "cell_type": "code",
   "execution_count": 83,
   "id": "d6e13e5f",
   "metadata": {},
   "outputs": [
    {
     "data": {
      "text/plain": [
       "True"
      ]
     },
     "execution_count": 83,
     "metadata": {},
     "output_type": "execute_result"
    }
   ],
   "source": [
    "#Returns True if all characters in the string are numeric\n",
    "a='12345'\n",
    "a.isnumeric()"
   ]
  },
  {
   "cell_type": "code",
   "execution_count": 84,
   "id": "e641d959",
   "metadata": {},
   "outputs": [
    {
     "data": {
      "text/plain": [
       "False"
      ]
     },
     "execution_count": 84,
     "metadata": {},
     "output_type": "execute_result"
    }
   ],
   "source": [
    "a='ra125'\n",
    "a.isnumeric()"
   ]
  },
  {
   "cell_type": "code",
   "execution_count": 85,
   "id": "cb47f594",
   "metadata": {},
   "outputs": [
    {
     "data": {
      "text/plain": [
       "True"
      ]
     },
     "execution_count": 85,
     "metadata": {},
     "output_type": "execute_result"
    }
   ],
   "source": [
    "#Returns True if all characters in the string are alphanumeric\n",
    "a='ravi264'\n",
    "a.isalnum()"
   ]
  },
  {
   "cell_type": "code",
   "execution_count": 86,
   "id": "ad60106e",
   "metadata": {},
   "outputs": [
    {
     "data": {
      "text/plain": [
       "False"
      ]
     },
     "execution_count": 86,
     "metadata": {},
     "output_type": "execute_result"
    }
   ],
   "source": [
    "a='ravi16295 '\n",
    "a.isalnum()"
   ]
  },
  {
   "cell_type": "markdown",
   "id": "13c1d795",
   "metadata": {},
   "source": [
    "## translate\n",
    "- The translate() method returns a string where some specified characters are replaced with the character described in a dictionary, or in a mapping table.\n",
    "\n",
    "- Use the maketrans() method to create a mapping table.\n",
    "\n",
    "- If a character is not specified in the dictionary/table, the character will not be replaced.\n",
    "\n",
    "- If you use a dictionary, you must use ascii codes instead of characters.\n"
   ]
  },
  {
   "cell_type": "code",
   "execution_count": 90,
   "id": "01321d9b",
   "metadata": {},
   "outputs": [
    {
     "name": "stdout",
     "output_type": "stream",
     "text": [
      "Hello Hero\n"
     ]
    }
   ],
   "source": [
    "#Use a mapping table to replace \"S\" with \"P\":\n",
    "txt=\"Hello zero\"\n",
    "mytable=txt.maketrans('z','H')\n",
    "print(txt.translate(mytable))"
   ]
  },
  {
   "cell_type": "code",
   "execution_count": 91,
   "id": "d01a541f",
   "metadata": {},
   "outputs": [
    {
     "name": "stdout",
     "output_type": "stream",
     "text": [
      "{105: 105, 118: 114, 114: 104, 97: 97}\n",
      "hi hari\n"
     ]
    }
   ],
   "source": [
    "#Use a mapping table to replace many characters:\n",
    "txt='hi ravi'\n",
    "x='ivra'\n",
    "y='irha'\n",
    "mytable=txt.maketrans(x,y)\n",
    "print(mytable)\n",
    "print(txt.translate(mytable))"
   ]
  },
  {
   "cell_type": "code",
   "execution_count": 92,
   "id": "c08f3d47",
   "metadata": {},
   "outputs": [
    {
     "name": "stdout",
     "output_type": "stream",
     "text": [
      "{114: 104, 97: 97, 118: 114, 105: None, 111: None, 100: None, 103: None, 104: None}\n",
      " nt har\n"
     ]
    }
   ],
   "source": [
    "#The third parameter in the mapping table describes chrters that you want to remove from the string:\n",
    "txt='good night ravi'\n",
    "x='ravi'\n",
    "y='hari'\n",
    "z='odigh'\n",
    "mytable=txt.maketrans(x,y,z)\n",
    "print(mytable)\n",
    "print(txt.translate(mytable))"
   ]
  },
  {
   "cell_type": "code",
   "execution_count": 89,
   "id": "4cd2f083",
   "metadata": {},
   "outputs": [
    {
     "data": {
      "text/plain": [
       "'TATIREDDY RAVI'"
      ]
     },
     "execution_count": 89,
     "metadata": {},
     "output_type": "execute_result"
    }
   ],
   "source": [
    "#Converts a string into upper case\n",
    "a=\"tatireddy ravi\"\n",
    "a.upper()"
   ]
  },
  {
   "cell_type": "code",
   "execution_count": 87,
   "id": "01c021d8",
   "metadata": {},
   "outputs": [
    {
     "data": {
      "text/plain": [
       "'0000000020'"
      ]
     },
     "execution_count": 87,
     "metadata": {},
     "output_type": "execute_result"
    }
   ],
   "source": [
    "#The zfill() method adds zeros (0) at the beginning of the string,--\n",
    "#until it reaches the specified length.\n",
    "a='20'\n",
    "a.zfill(10)"
   ]
  },
  {
   "cell_type": "code",
   "execution_count": 88,
   "id": "c68f9574",
   "metadata": {},
   "outputs": [
    {
     "data": {
      "text/plain": [
       "'hello welcome you all'"
      ]
     },
     "execution_count": 88,
     "metadata": {},
     "output_type": "execute_result"
    }
   ],
   "source": [
    "#If the value of the len parameter is less than the length of the string, no filling is done.\n",
    "a='hello welcome you all'\n",
    "a.zfill(10)"
   ]
  },
  {
   "cell_type": "code",
   "execution_count": null,
   "id": "b43e8920",
   "metadata": {},
   "outputs": [],
   "source": []
  }
 ],
 "metadata": {
  "kernelspec": {
   "display_name": "Python 3",
   "language": "python",
   "name": "python3"
  },
  "language_info": {
   "codemirror_mode": {
    "name": "ipython",
    "version": 3
   },
   "file_extension": ".py",
   "mimetype": "text/x-python",
   "name": "python",
   "nbconvert_exporter": "python",
   "pygments_lexer": "ipython3",
   "version": "3.8.8"
  }
 },
 "nbformat": 4,
 "nbformat_minor": 5
}
